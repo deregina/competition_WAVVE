{
 "cells": [
  {
   "cell_type": "code",
   "execution_count": 1,
   "metadata": {},
   "outputs": [],
   "source": [
    "import pandas as pd\n",
    "import numpy as np\n",
    "from sklearn.preprocessing import LabelEncoder\n",
    "from sklearn.model_selection import train_test_split\n",
    "from dateutil.relativedelta import relativedelta\n",
    "from datetime import *"
   ]
  },
  {
   "cell_type": "code",
   "execution_count": 2,
   "metadata": {},
   "outputs": [
    {
     "data": {
      "text/plain": [
       "'C:\\\\Users\\\\2180033\\\\Desktop\\\\python_begins\\\\WAVVE'"
      ]
     },
     "execution_count": 2,
     "metadata": {},
     "output_type": "execute_result"
    }
   ],
   "source": [
    "import os\n",
    "os.getcwd()"
   ]
  },
  {
   "cell_type": "markdown",
   "metadata": {},
   "source": [
    "## 서비스 데이터 읽기 : 69,708 rows, 14 columns\n",
    "  - Rephurchase 정보 포함"
   ]
  },
  {
   "cell_type": "code",
   "execution_count": 3,
   "metadata": {},
   "outputs": [
    {
     "data": {
      "text/html": [
       "<div>\n",
       "<style scoped>\n",
       "    .dataframe tbody tr th:only-of-type {\n",
       "        vertical-align: middle;\n",
       "    }\n",
       "\n",
       "    .dataframe tbody tr th {\n",
       "        vertical-align: top;\n",
       "    }\n",
       "\n",
       "    .dataframe thead th {\n",
       "        text-align: right;\n",
       "    }\n",
       "</style>\n",
       "<table border=\"1\" class=\"dataframe\">\n",
       "  <thead>\n",
       "    <tr style=\"text-align: right;\">\n",
       "      <th></th>\n",
       "      <th>uno</th>\n",
       "      <th>registerdate</th>\n",
       "      <th>enddate</th>\n",
       "      <th>productcode</th>\n",
       "      <th>pgamount</th>\n",
       "      <th>chargetypeid</th>\n",
       "      <th>concurrentwatchcount</th>\n",
       "      <th>promo_100</th>\n",
       "      <th>coinReceived</th>\n",
       "      <th>Repurchase</th>\n",
       "      <th>devicetypeid</th>\n",
       "      <th>isauth</th>\n",
       "      <th>gender</th>\n",
       "      <th>agegroup</th>\n",
       "    </tr>\n",
       "  </thead>\n",
       "  <tbody>\n",
       "    <tr>\n",
       "      <th>14266</th>\n",
       "      <td>e70e71811274ea8efe37caf9e76685cbfadfe12dc7a576...</td>\n",
       "      <td>2021-03-02 11:57:18</td>\n",
       "      <td>2021-04-02 11:57:18</td>\n",
       "      <td>pk_1508</td>\n",
       "      <td>9.99</td>\n",
       "      <td>140</td>\n",
       "      <td>1</td>\n",
       "      <td>NaN</td>\n",
       "      <td>NaN</td>\n",
       "      <td>O</td>\n",
       "      <td>ios</td>\n",
       "      <td>NaN</td>\n",
       "      <td>NaN</td>\n",
       "      <td>40</td>\n",
       "    </tr>\n",
       "    <tr>\n",
       "      <th>4929</th>\n",
       "      <td>98e4f975a8ba33cad81b760b4f7926231caa1e75db97fd...</td>\n",
       "      <td>2021-03-06 17:26:12</td>\n",
       "      <td>2021-04-06 17:26:12</td>\n",
       "      <td>pk_1487</td>\n",
       "      <td>100.00</td>\n",
       "      <td>180</td>\n",
       "      <td>1</td>\n",
       "      <td>O</td>\n",
       "      <td>NaN</td>\n",
       "      <td>O</td>\n",
       "      <td>mobile</td>\n",
       "      <td>Y</td>\n",
       "      <td>F</td>\n",
       "      <td>20</td>\n",
       "    </tr>\n",
       "    <tr>\n",
       "      <th>17048</th>\n",
       "      <td>7b7f05ed3694c262ef211dda30a25f3df20d85c90b863d...</td>\n",
       "      <td>2021-03-01 18:35:18</td>\n",
       "      <td>2021-04-01 18:35:18</td>\n",
       "      <td>pk_1487</td>\n",
       "      <td>100.00</td>\n",
       "      <td>180</td>\n",
       "      <td>1</td>\n",
       "      <td>O</td>\n",
       "      <td>NaN</td>\n",
       "      <td>O</td>\n",
       "      <td>mobile</td>\n",
       "      <td>Y</td>\n",
       "      <td>F</td>\n",
       "      <td>20</td>\n",
       "    </tr>\n",
       "  </tbody>\n",
       "</table>\n",
       "</div>"
      ],
      "text/plain": [
       "                                                     uno        registerdate  \\\n",
       "14266  e70e71811274ea8efe37caf9e76685cbfadfe12dc7a576... 2021-03-02 11:57:18   \n",
       "4929   98e4f975a8ba33cad81b760b4f7926231caa1e75db97fd... 2021-03-06 17:26:12   \n",
       "17048  7b7f05ed3694c262ef211dda30a25f3df20d85c90b863d... 2021-03-01 18:35:18   \n",
       "\n",
       "                  enddate productcode  pgamount  chargetypeid  \\\n",
       "14266 2021-04-02 11:57:18     pk_1508      9.99           140   \n",
       "4929  2021-04-06 17:26:12     pk_1487    100.00           180   \n",
       "17048 2021-04-01 18:35:18     pk_1487    100.00           180   \n",
       "\n",
       "       concurrentwatchcount promo_100 coinReceived Repurchase devicetypeid  \\\n",
       "14266                     1       NaN          NaN          O          ios   \n",
       "4929                      1         O          NaN          O       mobile   \n",
       "17048                     1         O          NaN          O       mobile   \n",
       "\n",
       "      isauth gender  agegroup  \n",
       "14266    NaN    NaN        40  \n",
       "4929       Y      F        20  \n",
       "17048      Y      F        20  "
      ]
     },
     "execution_count": 3,
     "metadata": {},
     "output_type": "execute_result"
    }
   ],
   "source": [
    "df_service = pd.read_csv('Train/train_service.csv', parse_dates=['registerdate', 'enddate'], infer_datetime_format=True)\n",
    "df_service.sample(3)"
   ]
  },
  {
   "cell_type": "code",
   "execution_count": 4,
   "metadata": {},
   "outputs": [
    {
     "name": "stdout",
     "output_type": "stream",
     "text": [
      "<class 'pandas.core.frame.DataFrame'>\n",
      "RangeIndex: 69708 entries, 0 to 69707\n",
      "Data columns (total 14 columns):\n",
      " #   Column                Non-Null Count  Dtype         \n",
      "---  ------                --------------  -----         \n",
      " 0   uno                   69708 non-null  object        \n",
      " 1   registerdate          69708 non-null  datetime64[ns]\n",
      " 2   enddate               69708 non-null  datetime64[ns]\n",
      " 3   productcode           69708 non-null  object        \n",
      " 4   pgamount              69708 non-null  float64       \n",
      " 5   chargetypeid          69708 non-null  int64         \n",
      " 6   concurrentwatchcount  69708 non-null  int64         \n",
      " 7   promo_100             35729 non-null  object        \n",
      " 8   coinReceived          12564 non-null  object        \n",
      " 9   Repurchase            69708 non-null  object        \n",
      " 10  devicetypeid          69708 non-null  object        \n",
      " 11  isauth                51727 non-null  object        \n",
      " 12  gender                58228 non-null  object        \n",
      " 13  agegroup              69708 non-null  int64         \n",
      "dtypes: datetime64[ns](2), float64(1), int64(3), object(8)\n",
      "memory usage: 7.4+ MB\n"
     ]
    }
   ],
   "source": [
    "df_service.info()"
   ]
  },
  {
   "cell_type": "markdown",
   "metadata": {},
   "source": [
    "## 시청 이력 데이터 읽기 : 7,987,609 rows"
   ]
  },
  {
   "cell_type": "code",
   "execution_count": 5,
   "metadata": {},
   "outputs": [
    {
     "data": {
      "text/html": [
       "<div>\n",
       "<style scoped>\n",
       "    .dataframe tbody tr th:only-of-type {\n",
       "        vertical-align: middle;\n",
       "    }\n",
       "\n",
       "    .dataframe tbody tr th {\n",
       "        vertical-align: top;\n",
       "    }\n",
       "\n",
       "    .dataframe thead th {\n",
       "        text-align: right;\n",
       "    }\n",
       "</style>\n",
       "<table border=\"1\" class=\"dataframe\">\n",
       "  <thead>\n",
       "    <tr style=\"text-align: right;\">\n",
       "      <th></th>\n",
       "      <th>uno</th>\n",
       "      <th>dates</th>\n",
       "      <th>hour</th>\n",
       "      <th>channeltype</th>\n",
       "      <th>programid</th>\n",
       "      <th>title</th>\n",
       "      <th>contentid</th>\n",
       "      <th>contentnumber</th>\n",
       "      <th>section</th>\n",
       "      <th>viewtime</th>\n",
       "      <th>devicetype</th>\n",
       "    </tr>\n",
       "  </thead>\n",
       "  <tbody>\n",
       "    <tr>\n",
       "      <th>4752587</th>\n",
       "      <td>b4897f2c1f72def37215de066151dae79e155d3700fdc0...</td>\n",
       "      <td>2021-03-09</td>\n",
       "      <td>23</td>\n",
       "      <td>V</td>\n",
       "      <td>S01_P453505934</td>\n",
       "      <td>펜트하우스 2</td>\n",
       "      <td>S01_E454130106.1</td>\n",
       "      <td>3</td>\n",
       "      <td>1</td>\n",
       "      <td>390</td>\n",
       "      <td>2</td>\n",
       "    </tr>\n",
       "    <tr>\n",
       "      <th>7093574</th>\n",
       "      <td>0000555c21e7942b8281c8068c2b5be0a628b8a1a3cbea...</td>\n",
       "      <td>2021-03-16</td>\n",
       "      <td>21</td>\n",
       "      <td>V</td>\n",
       "      <td>C8201_C82000000153</td>\n",
       "      <td>주니토니 영어동요 Story Musical</td>\n",
       "      <td>C8201_C82000000153_01_0011.1</td>\n",
       "      <td>11</td>\n",
       "      <td>6</td>\n",
       "      <td>420</td>\n",
       "      <td>27</td>\n",
       "    </tr>\n",
       "    <tr>\n",
       "      <th>932227</th>\n",
       "      <td>2ad4e54b8184d92e76403fddf0fea0898e4c0e457db973...</td>\n",
       "      <td>2021-03-16</td>\n",
       "      <td>19</td>\n",
       "      <td>M</td>\n",
       "      <td>MOVIE</td>\n",
       "      <td>시스터 액트 2</td>\n",
       "      <td>MV_CA01_DY0000011170</td>\n",
       "      <td>NaN</td>\n",
       "      <td>M01</td>\n",
       "      <td>580</td>\n",
       "      <td>4</td>\n",
       "    </tr>\n",
       "  </tbody>\n",
       "</table>\n",
       "</div>"
      ],
      "text/plain": [
       "                                                       uno      dates  hour  \\\n",
       "4752587  b4897f2c1f72def37215de066151dae79e155d3700fdc0... 2021-03-09    23   \n",
       "7093574  0000555c21e7942b8281c8068c2b5be0a628b8a1a3cbea... 2021-03-16    21   \n",
       "932227   2ad4e54b8184d92e76403fddf0fea0898e4c0e457db973... 2021-03-16    19   \n",
       "\n",
       "        channeltype           programid                    title  \\\n",
       "4752587           V      S01_P453505934                  펜트하우스 2   \n",
       "7093574           V  C8201_C82000000153  주니토니 영어동요 Story Musical   \n",
       "932227            M               MOVIE                 시스터 액트 2   \n",
       "\n",
       "                            contentid contentnumber section  viewtime  \\\n",
       "4752587              S01_E454130106.1             3       1       390   \n",
       "7093574  C8201_C82000000153_01_0011.1            11       6       420   \n",
       "932227           MV_CA01_DY0000011170           NaN     M01       580   \n",
       "\n",
       "         devicetype  \n",
       "4752587           2  \n",
       "7093574          27  \n",
       "932227            4  "
      ]
     },
     "execution_count": 5,
     "metadata": {},
     "output_type": "execute_result"
    }
   ],
   "source": [
    "df_bookmark = pd.read_csv(\"Train/train_bookmark.csv\", parse_dates=['dates'], infer_datetime_format=True)\n",
    "df_bookmark.sample(3)"
   ]
  },
  {
   "cell_type": "code",
   "execution_count": 6,
   "metadata": {},
   "outputs": [
    {
     "name": "stdout",
     "output_type": "stream",
     "text": [
      "<class 'pandas.core.frame.DataFrame'>\n",
      "RangeIndex: 7824112 entries, 0 to 7824111\n",
      "Data columns (total 11 columns):\n",
      " #   Column         Dtype         \n",
      "---  ------         -----         \n",
      " 0   uno            object        \n",
      " 1   dates          datetime64[ns]\n",
      " 2   hour           int64         \n",
      " 3   channeltype    object        \n",
      " 4   programid      object        \n",
      " 5   title          object        \n",
      " 6   contentid      object        \n",
      " 7   contentnumber  object        \n",
      " 8   section        object        \n",
      " 9   viewtime       int64         \n",
      " 10  devicetype     int64         \n",
      "dtypes: datetime64[ns](1), int64(3), object(7)\n",
      "memory usage: 656.6+ MB\n"
     ]
    }
   ],
   "source": [
    "df_bookmark.info()"
   ]
  },
  {
   "cell_type": "code",
   "execution_count": 7,
   "metadata": {},
   "outputs": [
    {
     "data": {
      "text/html": [
       "<div>\n",
       "<style scoped>\n",
       "    .dataframe tbody tr th:only-of-type {\n",
       "        vertical-align: middle;\n",
       "    }\n",
       "\n",
       "    .dataframe tbody tr th {\n",
       "        vertical-align: top;\n",
       "    }\n",
       "\n",
       "    .dataframe thead th {\n",
       "        text-align: right;\n",
       "    }\n",
       "</style>\n",
       "<table border=\"1\" class=\"dataframe\">\n",
       "  <thead>\n",
       "    <tr style=\"text-align: right;\">\n",
       "      <th></th>\n",
       "      <th>uno</th>\n",
       "      <th>productcode</th>\n",
       "      <th>registerdate</th>\n",
       "      <th>paymenttypeid</th>\n",
       "      <th>currencytypeid</th>\n",
       "      <th>totalamount</th>\n",
       "      <th>pgamount</th>\n",
       "      <th>coinamount</th>\n",
       "      <th>bonusamount</th>\n",
       "      <th>discountamount</th>\n",
       "      <th>productname</th>\n",
       "      <th>coinexpiredate</th>\n",
       "    </tr>\n",
       "  </thead>\n",
       "  <tbody>\n",
       "    <tr>\n",
       "      <th>2759</th>\n",
       "      <td>8e150cf0082dee715190591d1e6407552cdee9b3dfc429...</td>\n",
       "      <td>co_391</td>\n",
       "      <td>2021-03-02 02:38:57</td>\n",
       "      <td>1</td>\n",
       "      <td>1</td>\n",
       "      <td>10000.0</td>\n",
       "      <td>0.0</td>\n",
       "      <td>0.0</td>\n",
       "      <td>10000.0</td>\n",
       "      <td>0.0</td>\n",
       "      <td>NaN</td>\n",
       "      <td>2021-04-03 23:59:59</td>\n",
       "    </tr>\n",
       "    <tr>\n",
       "      <th>8250</th>\n",
       "      <td>e433092ccbd07df0d97740d6f3389c0593d4dbd16eb0fc...</td>\n",
       "      <td>pk_1487</td>\n",
       "      <td>2021-03-10 09:38:31</td>\n",
       "      <td>9</td>\n",
       "      <td>1</td>\n",
       "      <td>-6000.0</td>\n",
       "      <td>0.0</td>\n",
       "      <td>-6000.0</td>\n",
       "      <td>0.0</td>\n",
       "      <td>0.0</td>\n",
       "      <td>Basic</td>\n",
       "      <td>NaN</td>\n",
       "    </tr>\n",
       "    <tr>\n",
       "      <th>7305</th>\n",
       "      <td>b443e7ba18d28456dc36814fe8162cf7e1f33b966452fb...</td>\n",
       "      <td>pk_1487</td>\n",
       "      <td>2021-03-04 23:21:21</td>\n",
       "      <td>9</td>\n",
       "      <td>1</td>\n",
       "      <td>-300.0</td>\n",
       "      <td>0.0</td>\n",
       "      <td>-300.0</td>\n",
       "      <td>0.0</td>\n",
       "      <td>0.0</td>\n",
       "      <td>Basic</td>\n",
       "      <td>NaN</td>\n",
       "    </tr>\n",
       "  </tbody>\n",
       "</table>\n",
       "</div>"
      ],
      "text/plain": [
       "                                                    uno productcode  \\\n",
       "2759  8e150cf0082dee715190591d1e6407552cdee9b3dfc429...      co_391   \n",
       "8250  e433092ccbd07df0d97740d6f3389c0593d4dbd16eb0fc...     pk_1487   \n",
       "7305  b443e7ba18d28456dc36814fe8162cf7e1f33b966452fb...     pk_1487   \n",
       "\n",
       "             registerdate  paymenttypeid  currencytypeid  totalamount  \\\n",
       "2759  2021-03-02 02:38:57              1               1      10000.0   \n",
       "8250  2021-03-10 09:38:31              9               1      -6000.0   \n",
       "7305  2021-03-04 23:21:21              9               1       -300.0   \n",
       "\n",
       "      pgamount  coinamount  bonusamount  discountamount productname  \\\n",
       "2759       0.0         0.0      10000.0             0.0         NaN   \n",
       "8250       0.0     -6000.0          0.0             0.0       Basic   \n",
       "7305       0.0      -300.0          0.0             0.0       Basic   \n",
       "\n",
       "           coinexpiredate  \n",
       "2759  2021-04-03 23:59:59  \n",
       "8250                  NaN  \n",
       "7305                  NaN  "
      ]
     },
     "execution_count": 7,
     "metadata": {},
     "output_type": "execute_result"
    }
   ],
   "source": [
    "df_coin = pd.read_csv(\"Code/coin.csv\")\n",
    "df_coin.sample(3)"
   ]
  },
  {
   "cell_type": "code",
   "execution_count": null,
   "metadata": {},
   "outputs": [],
   "source": []
  },
  {
   "cell_type": "markdown",
   "metadata": {},
   "source": [
    "## 서비스, 시청 이력 데이터 Unique Value"
   ]
  },
  {
   "cell_type": "code",
   "execution_count": 8,
   "metadata": {
    "scrolled": true
   },
   "outputs": [
    {
     "name": "stdout",
     "output_type": "stream",
     "text": [
      "Column <uno> 69145\n",
      "['b3d6846338d0e98b7e0fcf735c49271ff59df86bfd78f3d75c03d99136f8e0d07bb55627eac3e9a288c20c74cee8641bbdff95108d737b7df108f281d6bbba29'\n",
      " '4ec765db76545c1d6dda9f421590bf9d02f584009f8d92100afeef4594ee72306b661c43d19086f82f85f02bbb5716280f52bb7f0fde823a0656a830a0e6e41f'\n",
      " '304cacae950e53952afebff0b212f5bfef6a5a0abb4c450879e853055b88063bfc32ee48bea746e952c79f1e1d619db50570991d74d5e19afeb32c5ce1b630dc'\n",
      " '4f86d917c53cb6bd8949f76dba7260311e8c1748748a028efd353137a1d459f7c12f6c2af10aec81da39c3bfe8a2d913fd24c26403b0aecba90b11ed2611ad5c'\n",
      " '445fb8813626d3d49b94b5be58cd76d80ed31fa94f8372618142c34471e001896e2d3b02a04ad6e2ceb35d91f0305d51eac4ed30a6925db9fcf37d2b8521a2cf'\n",
      " 'd87ce5040893986019ea58ba1d1df033b8bc6dc03c11634b7bd47c36a5f5c8623993a63f306321dd0f3b69284b006a2643bc4e7ae55d71131389fc176b3db39b'\n",
      " '01b16f9f7ff29b48b1ee0d1a89d1eb9662474e5eedb8c2d967ea43793d3f9d03a560771374901302484d7598e771f39abbd8766c54f38753186b3f17eee9fb48'\n",
      " '6722de45f1c29af6057973492fed22c05e63a7bc90203d5120b82dc2ced581c9eb915b1c8fbea5c8f30dbac16327afa2c41c05827babbd269c1379706c85f6c1'\n",
      " '3b40a82f208b8112f58feacc2881bb0647161c358543eaa4ce4e5a830a5612a15146f2d1d84a8b8d3f09f2afa2ce59ba781fee7a52c1827e5b350dc4cc1b067b'\n",
      " '4b73d53e6e26722b953f6e77a52cdcf46a4290c7c60cd0620c96010ec635f087c348f0a3f76221e1ed2fcde0f200cf6e25657653a10137422915f1e38ae0f128'] \n",
      "\n",
      "Column <registerdate> 65748\n",
      "['2021-03-09T16:31:15.000000000' '2021-03-09T14:33:07.000000000'\n",
      " '2021-03-09T12:00:01.000000000' '2021-03-09T22:23:12.000000000'\n",
      " '2021-03-09T10:32:36.000000000' '2021-03-09T16:13:05.000000000'\n",
      " '2021-03-09T02:55:18.000000000' '2021-03-10T21:31:39.000000000'\n",
      " '2021-03-10T04:02:38.000000000' '2021-03-10T00:23:17.000000000'] \n",
      "\n",
      "Column <enddate> 65810\n",
      "['2021-04-09T16:31:15.000000000' '2021-04-09T14:33:07.000000000'\n",
      " '2021-04-09T12:00:01.000000000' '2021-04-09T22:23:12.000000000'\n",
      " '2021-04-09T10:32:36.000000000' '2021-04-09T16:13:05.000000000'\n",
      " '2021-04-09T02:55:18.000000000' '2021-04-10T21:31:39.000000000'\n",
      " '2021-04-10T04:02:38.000000000' '2021-04-10T00:23:17.000000000'] \n",
      "\n",
      "Column <productcode> 88\n",
      "['pk_1487' 'pk_2026' 'pk_1508' 'pk_1489' 'pk_1488' 'pk_1136' 'pk_2025'\n",
      " 'pk_1506' 'pk_2005' 'pk_2029'] \n",
      "\n",
      "Column <pgamount> 50\n",
      "[7.900e+03 1.000e+02 1.090e+04 9.990e+00 1.390e+04 1.099e+01 1.349e+01\n",
      " 6.700e+03 1.649e+01 6.950e+03] \n",
      "\n",
      "Column <chargetypeid> 10\n",
      "[134 190 151 132 140 180 131 170 160 121] \n",
      "\n",
      "Column <concurrentwatchcount> 4\n",
      "[1 2 4 3] \n",
      "\n",
      "Column <promo_100> 2\n",
      "[nan 'O'] \n",
      "\n",
      "Column <coinReceived> 2\n",
      "[nan 'O'] \n",
      "\n",
      "Column <Repurchase> 2\n",
      "['X' 'O'] \n",
      "\n",
      "Column <devicetypeid> 11\n",
      "['android' 'pc' 'ios' 'mobile' 'lgtv' 'sstv' 'ott' 'lgchplus' 'smarttv'\n",
      " 'ssfamilyhub'] \n",
      "\n",
      "Column <isauth> 2\n",
      "['Y' nan] \n",
      "\n",
      "Column <gender> 3\n",
      "['F' nan 'M'] \n",
      "\n",
      "Column <agegroup> 22\n",
      "[45 25 35 55 40 20  0 30 50 60] \n",
      "\n"
     ]
    }
   ],
   "source": [
    "# Column 별 unique values\n",
    "for column in df_service.columns.values.tolist():\n",
    "    unique_value_list = df_service[column].unique()\n",
    "    print(f'Column <{column}>', len(unique_value_list))\n",
    "    print(unique_value_list[:10], '\\n')"
   ]
  },
  {
   "cell_type": "code",
   "execution_count": 9,
   "metadata": {
    "scrolled": true
   },
   "outputs": [
    {
     "name": "stdout",
     "output_type": "stream",
     "text": [
      "Column <uno> 67306\n",
      "['b3d6846338d0e98b7e0fcf735c49271ff59df86bfd78f3d75c03d99136f8e0d07bb55627eac3e9a288c20c74cee8641bbdff95108d737b7df108f281d6bbba29'\n",
      " '4ec765db76545c1d6dda9f421590bf9d02f584009f8d92100afeef4594ee72306b661c43d19086f82f85f02bbb5716280f52bb7f0fde823a0656a830a0e6e41f'\n",
      " '304cacae950e53952afebff0b212f5bfef6a5a0abb4c450879e853055b88063bfc32ee48bea746e952c79f1e1d619db50570991d74d5e19afeb32c5ce1b630dc'\n",
      " '4f86d917c53cb6bd8949f76dba7260311e8c1748748a028efd353137a1d459f7c12f6c2af10aec81da39c3bfe8a2d913fd24c26403b0aecba90b11ed2611ad5c'\n",
      " '445fb8813626d3d49b94b5be58cd76d80ed31fa94f8372618142c34471e001896e2d3b02a04ad6e2ceb35d91f0305d51eac4ed30a6925db9fcf37d2b8521a2cf'\n",
      " 'd87ce5040893986019ea58ba1d1df033b8bc6dc03c11634b7bd47c36a5f5c8623993a63f306321dd0f3b69284b006a2643bc4e7ae55d71131389fc176b3db39b'\n",
      " '01b16f9f7ff29b48b1ee0d1a89d1eb9662474e5eedb8c2d967ea43793d3f9d03a560771374901302484d7598e771f39abbd8766c54f38753186b3f17eee9fb48'\n",
      " '6722de45f1c29af6057973492fed22c05e63a7bc90203d5120b82dc2ced581c9eb915b1c8fbea5c8f30dbac16327afa2c41c05827babbd269c1379706c85f6c1'\n",
      " '3b40a82f208b8112f58feacc2881bb0647161c358543eaa4ce4e5a830a5612a15146f2d1d84a8b8d3f09f2afa2ce59ba781fee7a52c1827e5b350dc4cc1b067b'\n",
      " '4b73d53e6e26722b953f6e77a52cdcf46a4290c7c60cd0620c96010ec635f087c348f0a3f76221e1ed2fcde0f200cf6e25657653a10137422915f1e38ae0f128'] \n",
      "\n",
      "Column <dates> 32\n",
      "['2021-03-20T00:00:00.000000000' '2021-03-13T00:00:00.000000000'\n",
      " '2021-03-16T00:00:00.000000000' '2021-03-18T00:00:00.000000000'\n",
      " '2021-03-12T00:00:00.000000000' '2021-03-14T00:00:00.000000000'\n",
      " '2021-03-28T00:00:00.000000000' '2021-03-21T00:00:00.000000000'\n",
      " '2021-03-26T00:00:00.000000000' '2021-03-09T00:00:00.000000000'] \n",
      "\n",
      "Column <hour> 24\n",
      "[17 15  6 19  7 10  9  5 21 18] \n",
      "\n",
      "Column <channeltype> 4\n",
      "['V' 'M' 'L' 'E'] \n",
      "\n",
      "Column <programid> 6381\n",
      "['S01_P453505934' 'M_T60403G' 'K02_T2020-0370' 'S01_V2000009613'\n",
      " 'K02_T2020-1631' 'MOVIE' 'F2401_F24000000004' 'M_T70613G' 'M_T50132S'\n",
      " 'M_T70590S'] \n",
      "\n",
      "Column <title> 12361\n",
      "['펜트하우스 2' '밥이 되어라' '오! 삼광빌라!' '미운 우리 새끼' '일일드라마 미스 몬테크리스토'\n",
      " '스티브 잡스: 미래를 읽는 천재' '아직 낫서른' '아무튼 출근!' '집콕콘서트' '(파일럿)아무튼 출근!'] \n",
      "\n",
      "Column <contentid> 138168\n",
      "['S01_E454434900.1' 'M_EP202103053628.1' 'S01_E454336041.1'\n",
      " 'K02_PS-2021033047-01-000.1' 'M_EP202103123716.1' 'S01_E454130151.1'\n",
      " 'S01_E454542949.1' 'S01_E454229316.1' 'S01_E454229327.1'\n",
      " 'PQV_S01_E454448970.1'] \n",
      "\n",
      "Column <contentnumber> 5162\n",
      "['9' '42' '7' '50' '43' '4' '12' '5' '6' '234'] \n",
      "\n",
      "Column <section> 20\n",
      "['1' '2' 'M08' '3' '9' 'M06' 'M02' 'M01' 'M04' 'M05'] \n",
      "\n",
      "Column <viewtime> 882\n",
      "[1650 1670 1800 2080 1680   10 1290  480   40 1720] \n",
      "\n",
      "Column <devicetype> 14\n",
      "[ 4  1 32 21  2  5 27  3 12  6] \n",
      "\n"
     ]
    }
   ],
   "source": [
    "for column in df_bookmark.columns.values.tolist():\n",
    "    unique_value_list = df_bookmark[column].unique()\n",
    "    print(f'Column <{column}>', len(unique_value_list))\n",
    "    print(unique_value_list[:10], '\\n')"
   ]
  },
  {
   "cell_type": "code",
   "execution_count": 10,
   "metadata": {},
   "outputs": [
    {
     "name": "stdout",
     "output_type": "stream",
     "text": [
      "Column <uno> 9081\n",
      "['d9c963233a89d1055ef15db12f4136a8bbf791a84e294b08a53191a91120b4a50870f538858eb3e49155edaa5742129c7bcebe00a1b59122f27426a8fa4e37bb'\n",
      " 'a708d5411f7268b31202f0834cfaa7dbc0e312282223eb78a64d407e98cec09b071d9edf2db3ac951ba4970672c0daee58d8c2162315424f258e4744b507f737'\n",
      " '951cb354d51cbd25f89b7062ff645e664f72380bd3d62043fe6536029484bde6eab2d2105649c63a18e91c031844840c196860fe6bd35b4095a36bfc835d383c'\n",
      " '00520e6bb5897554e091dd28cd4a126634011fa0ff540b52abc8f86efd52a9a53030ecf4f28b04a36570ff0d11a1c785a16d33035bfa428340a18d71336cbf09'\n",
      " '8b8b015aaf8534bae4da18fa2ff09e1531baf89c4063f06537803beaa49f43200e71bba2b7cf78fa3f99b0ded442173f8bc0230ee50041c898c51d3d04e5ac4f'\n",
      " '52b8258cca97835291387e1e1d163c887f0e0319a9c06998bac381708f0606a18cf372b8c368fea8bf40485fe3f144d65e4aa511f6cb4815024e520fa47930dc'\n",
      " '2aae01ce1c9f03a83250ea56ef0bd080c65b34d65be91cf8af719e6634d16c95bc127942860c139ab726eb59013bfa4aa300e13188d05a13acf459ee28ab9631'\n",
      " '4652987fc3cebe3556c6c86df8a554454e2356f4d86448c27531481b97dd7ee2b363ec48866034513d8fc107e360516ada2eb9d304332274c9c40b765ab83890'\n",
      " '23d628d7ce0fc7e212252e02a82e5f79314255ed93582315e4ab9d56767fd2945e5d9f26b827c8af8fc9339a96965cf872b0c9834fe8a2a041d803fc44902304'\n",
      " 'f1a085533964c37449d74b0bd52807ef4d45e5f43bf01c7438a0ffcb0911432f612aa22abdf0a9f8abdac9822d8366f35b15666acf1059008ba09358534efb21'] \n",
      "\n",
      "Column <productcode> 670\n",
      "['co_391' 'pk_1960' 'pk_2003' 'ii_80332' 'ii_32741' 'ii_70259' 'ic_44'\n",
      " 'pk_1487' 'ii_76565' 'ii_46504'] \n",
      "\n",
      "Column <registerdate> 10892\n",
      "['2021-03-28 21:55:10' '2021-03-28 22:08:20' '2021-03-28 20:29:24'\n",
      " '2021-03-28 18:35:36' '2021-03-28 18:38:36' '2021-03-28 19:14:43'\n",
      " '2021-03-28 19:17:40' '2021-03-28 10:28:41' '2021-03-28 10:22:29'\n",
      " '2021-03-28 18:38:55'] \n",
      "\n",
      "Column <paymenttypeid> 6\n",
      "[ 1  2  9  3 10  4] \n",
      "\n",
      "Column <currencytypeid> 1\n",
      "[1] \n",
      "\n",
      "Column <totalamount> 173\n",
      "[10000.  7150.  4950. 11000.  1100.  1200. -1500.  1000. -2800. -2300.] \n",
      "\n",
      "Column <pgamount> 168\n",
      "[    0.  1350. 10500.   100. 10000.   590.  1440.   400.  2100. -3000.] \n",
      "\n",
      "Column <coinamount> 280\n",
      "[    0.  7150.  3600.   500.  1100.  1200.  1000. -1500. -2800. -2300.] \n",
      "\n",
      "Column <bonusamount> 48\n",
      "[ 10000.      0.   1000.   2300. -10000.   8000.   4000.   3750.    500.\n",
      "   5460.] \n",
      "\n",
      "Column <discountamount> 1\n",
      "[0.] \n",
      "\n",
      "Column <productname> 711\n",
      "[nan '영화 (자막) 어벤져스: 엔드게임 + 부가영상 패키지' '영화 (자막)+(더빙) 명탐정 피카츄 패키지'\n",
      " '(자막) 톰과 제리' '토르: 천둥의 신' '추격자' '펜트하우스 2_12' 'Basic' '라라랜드' '아바타'] \n",
      "\n",
      "Column <coinexpiredate> 364\n",
      "['2021-04-29 23:59:59' nan '2021-04-27 16:07:53' '2021-05-30 23:59:59'\n",
      " '2021-04-02 23:59:59' '2021-06-01 23:59:59' '2026-03-01 05:22:04'\n",
      " '2026-03-01 14:35:33' '2026-03-01 17:28:00' '2026-03-01 02:24:46'] \n",
      "\n"
     ]
    }
   ],
   "source": [
    "for column in df_coin.columns.values.tolist():\n",
    "    unique_value_list = df_coin[column].unique()\n",
    "    print(f'Column <{column}>', len(unique_value_list))\n",
    "    print(unique_value_list[:10], '\\n')"
   ]
  },
  {
   "cell_type": "code",
   "execution_count": null,
   "metadata": {},
   "outputs": [],
   "source": []
  },
  {
   "cell_type": "markdown",
   "metadata": {},
   "source": [
    "## 서비스 데이터 결측치 및 이상치 처리"
   ]
  },
  {
   "cell_type": "code",
   "execution_count": 11,
   "metadata": {},
   "outputs": [],
   "source": [
    "filled_service = df_service"
   ]
  },
  {
   "cell_type": "code",
   "execution_count": 12,
   "metadata": {},
   "outputs": [
    {
     "data": {
      "text/html": [
       "<div>\n",
       "<style scoped>\n",
       "    .dataframe tbody tr th:only-of-type {\n",
       "        vertical-align: middle;\n",
       "    }\n",
       "\n",
       "    .dataframe tbody tr th {\n",
       "        vertical-align: top;\n",
       "    }\n",
       "\n",
       "    .dataframe thead th {\n",
       "        text-align: right;\n",
       "    }\n",
       "</style>\n",
       "<table border=\"1\" class=\"dataframe\">\n",
       "  <thead>\n",
       "    <tr style=\"text-align: right;\">\n",
       "      <th></th>\n",
       "      <th>missing num</th>\n",
       "      <th>%</th>\n",
       "    </tr>\n",
       "  </thead>\n",
       "  <tbody>\n",
       "    <tr>\n",
       "      <th>coinReceived</th>\n",
       "      <td>57144</td>\n",
       "      <td>81.976244</td>\n",
       "    </tr>\n",
       "    <tr>\n",
       "      <th>promo_100</th>\n",
       "      <td>33979</td>\n",
       "      <td>48.744764</td>\n",
       "    </tr>\n",
       "    <tr>\n",
       "      <th>isauth</th>\n",
       "      <td>17981</td>\n",
       "      <td>25.794744</td>\n",
       "    </tr>\n",
       "    <tr>\n",
       "      <th>gender</th>\n",
       "      <td>11480</td>\n",
       "      <td>16.468698</td>\n",
       "    </tr>\n",
       "    <tr>\n",
       "      <th>agegroup</th>\n",
       "      <td>0</td>\n",
       "      <td>0.000000</td>\n",
       "    </tr>\n",
       "    <tr>\n",
       "      <th>devicetypeid</th>\n",
       "      <td>0</td>\n",
       "      <td>0.000000</td>\n",
       "    </tr>\n",
       "    <tr>\n",
       "      <th>Repurchase</th>\n",
       "      <td>0</td>\n",
       "      <td>0.000000</td>\n",
       "    </tr>\n",
       "    <tr>\n",
       "      <th>concurrentwatchcount</th>\n",
       "      <td>0</td>\n",
       "      <td>0.000000</td>\n",
       "    </tr>\n",
       "    <tr>\n",
       "      <th>chargetypeid</th>\n",
       "      <td>0</td>\n",
       "      <td>0.000000</td>\n",
       "    </tr>\n",
       "    <tr>\n",
       "      <th>pgamount</th>\n",
       "      <td>0</td>\n",
       "      <td>0.000000</td>\n",
       "    </tr>\n",
       "    <tr>\n",
       "      <th>productcode</th>\n",
       "      <td>0</td>\n",
       "      <td>0.000000</td>\n",
       "    </tr>\n",
       "    <tr>\n",
       "      <th>enddate</th>\n",
       "      <td>0</td>\n",
       "      <td>0.000000</td>\n",
       "    </tr>\n",
       "    <tr>\n",
       "      <th>registerdate</th>\n",
       "      <td>0</td>\n",
       "      <td>0.000000</td>\n",
       "    </tr>\n",
       "    <tr>\n",
       "      <th>uno</th>\n",
       "      <td>0</td>\n",
       "      <td>0.000000</td>\n",
       "    </tr>\n",
       "  </tbody>\n",
       "</table>\n",
       "</div>"
      ],
      "text/plain": [
       "                      missing num          %\n",
       "coinReceived                57144  81.976244\n",
       "promo_100                   33979  48.744764\n",
       "isauth                      17981  25.794744\n",
       "gender                      11480  16.468698\n",
       "agegroup                        0   0.000000\n",
       "devicetypeid                    0   0.000000\n",
       "Repurchase                      0   0.000000\n",
       "concurrentwatchcount            0   0.000000\n",
       "chargetypeid                    0   0.000000\n",
       "pgamount                        0   0.000000\n",
       "productcode                     0   0.000000\n",
       "enddate                         0   0.000000\n",
       "registerdate                    0   0.000000\n",
       "uno                             0   0.000000"
      ]
     },
     "execution_count": 12,
     "metadata": {},
     "output_type": "execute_result"
    }
   ],
   "source": [
    "service_missing_info = pd.DataFrame(filled_service.isnull().sum().sort_values(ascending=False), columns=['missing num'])\n",
    "service_missing_info['%'] = service_missing_info['missing num']/filled_service.shape[0]*100\n",
    "service_missing_info"
   ]
  },
  {
   "cell_type": "code",
   "execution_count": 13,
   "metadata": {},
   "outputs": [
    {
     "data": {
      "text/plain": [
       "F    36591\n",
       "M    21637\n",
       "N    11480\n",
       "Name: gender, dtype: int64"
      ]
     },
     "execution_count": 13,
     "metadata": {},
     "output_type": "execute_result"
    }
   ],
   "source": [
    "# gender null --> N\n",
    "filled_service['gender'] = filled_service['gender'].fillna('N')\n",
    "filled_service['gender'].value_counts()"
   ]
  },
  {
   "cell_type": "code",
   "execution_count": 14,
   "metadata": {},
   "outputs": [
    {
     "data": {
      "text/plain": [
       "0        608\n",
       "5          2\n",
       "10         1\n",
       "15      1227\n",
       "20      9562\n",
       "25     12099\n",
       "30     10435\n",
       "35      6905\n",
       "40     19281\n",
       "45      3739\n",
       "50      2725\n",
       "55      1385\n",
       "60       885\n",
       "65       414\n",
       "70       209\n",
       "75       129\n",
       "80        70\n",
       "85        20\n",
       "90         9\n",
       "95         1\n",
       "120        1\n",
       "950        1\n",
       "Name: agegroup, dtype: int64"
      ]
     },
     "execution_count": 14,
     "metadata": {},
     "output_type": "execute_result"
    }
   ],
   "source": [
    "# agegroup outlier (0살, 950살) --> mean\n",
    "filled_service['agegroup'].value_counts().sort_index()"
   ]
  },
  {
   "cell_type": "code",
   "execution_count": 15,
   "metadata": {},
   "outputs": [
    {
     "data": {
      "text/plain": [
       "(69708, 14)"
      ]
     },
     "execution_count": 15,
     "metadata": {},
     "output_type": "execute_result"
    }
   ],
   "source": [
    "filled_service.shape"
   ]
  },
  {
   "cell_type": "code",
   "execution_count": 16,
   "metadata": {},
   "outputs": [
    {
     "data": {
      "text/plain": [
       "33.74035803701935"
      ]
     },
     "execution_count": 16,
     "metadata": {},
     "output_type": "execute_result"
    }
   ],
   "source": [
    "age_mean = filled_service.loc[(filled_service['agegroup']<950) & (filled_service['agegroup']>0), 'agegroup'].mean()\n",
    "age_mean"
   ]
  },
  {
   "cell_type": "code",
   "execution_count": 17,
   "metadata": {},
   "outputs": [
    {
     "data": {
      "text/plain": [
       "5          2\n",
       "10         1\n",
       "15      1227\n",
       "20      9562\n",
       "25     12099\n",
       "30     11044\n",
       "35      6905\n",
       "40     19281\n",
       "45      3739\n",
       "50      2725\n",
       "55      1385\n",
       "60       885\n",
       "65       414\n",
       "70       209\n",
       "75       129\n",
       "80        70\n",
       "85        20\n",
       "90         9\n",
       "95         1\n",
       "120        1\n",
       "Name: agegroup, dtype: int64"
      ]
     },
     "execution_count": 17,
     "metadata": {},
     "output_type": "execute_result"
    }
   ],
   "source": [
    "filled_service['agegroup'] = filled_service['agegroup'].replace(950, 30)\n",
    "filled_service['agegroup'] = filled_service['agegroup'].replace(0, 30)\n",
    "filled_service['agegroup'].value_counts().sort_index()"
   ]
  },
  {
   "cell_type": "code",
   "execution_count": 18,
   "metadata": {},
   "outputs": [
    {
     "data": {
      "text/plain": [
       "7.69            3\n",
       "9.89           17\n",
       "9.99         8313\n",
       "10.99         266\n",
       "13.19          12\n",
       "13.49        2192\n",
       "14.29          64\n",
       "16.49         861\n",
       "17.59           7\n",
       "18.69           5\n",
       "19.79           2\n",
       "20.49           4\n",
       "20.89           3\n",
       "21.99           8\n",
       "24.19           3\n",
       "26.39           1\n",
       "27.49           3\n",
       "29.69           2\n",
       "32.99           1\n",
       "100.00      35729\n",
       "2900.00         2\n",
       "3350.00        16\n",
       "3950.00       487\n",
       "4900.00         9\n",
       "5450.00       134\n",
       "5700.00         2\n",
       "5900.00        38\n",
       "6210.00        19\n",
       "6700.00       262\n",
       "6900.00        99\n",
       "6950.00       168\n",
       "7900.00     12679\n",
       "8100.00         1\n",
       "8900.00         4\n",
       "9000.00         9\n",
       "9200.00         2\n",
       "9810.00         1\n",
       "9900.00         5\n",
       "10300.00        3\n",
       "10400.00        1\n",
       "10900.00     5789\n",
       "11550.00        1\n",
       "11610.00        1\n",
       "11800.00        2\n",
       "12900.00        2\n",
       "13750.00      119\n",
       "13900.00     2350\n",
       "14200.00        1\n",
       "16400.00        2\n",
       "16900.00        4\n",
       "Name: pgamount, dtype: int64"
      ]
     },
     "execution_count": 18,
     "metadata": {},
     "output_type": "execute_result"
    }
   ],
   "source": [
    "# pgamount US Dollar --> 원화\n",
    "filled_service['pgamount'].value_counts().sort_index()"
   ]
  },
  {
   "cell_type": "code",
   "execution_count": 19,
   "metadata": {},
   "outputs": [
    {
     "data": {
      "text/plain": [
       "100.0      35729\n",
       "2900.0         2\n",
       "3350.0        16\n",
       "3950.0       487\n",
       "4900.0         9\n",
       "5450.0       134\n",
       "5700.0         2\n",
       "5900.0        38\n",
       "6210.0        19\n",
       "6700.0       262\n",
       "6900.0        99\n",
       "6950.0       168\n",
       "7900.0     12679\n",
       "8100.0         1\n",
       "8612.8         3\n",
       "8900.0         4\n",
       "9000.0         9\n",
       "9200.0         2\n",
       "9810.0         1\n",
       "9900.0         5\n",
       "10300.0        3\n",
       "10400.0        1\n",
       "10900.0     5789\n",
       "11076.8       17\n",
       "11188.8     8313\n",
       "11550.0        1\n",
       "11610.0        1\n",
       "11800.0        2\n",
       "12308.8      266\n",
       "12900.0        2\n",
       "13750.0      119\n",
       "13900.0     2350\n",
       "14200.0        1\n",
       "14772.8       12\n",
       "15108.8     2192\n",
       "16004.8       64\n",
       "16400.0        2\n",
       "16900.0        4\n",
       "18468.8      861\n",
       "19700.8        7\n",
       "20932.8        5\n",
       "22164.8        2\n",
       "22948.8        4\n",
       "23396.8        3\n",
       "24628.8        8\n",
       "27092.8        3\n",
       "29556.8        1\n",
       "30788.8        3\n",
       "33252.8        2\n",
       "36948.8        1\n",
       "Name: pgamount, dtype: int64"
      ]
     },
     "execution_count": 19,
     "metadata": {},
     "output_type": "execute_result"
    }
   ],
   "source": [
    "filled_service.loc[(filled_service['pgamount'] < 100), 'pgamount'] = filled_service['pgamount'] * 1120\n",
    "filled_service['pgamount'].value_counts().sort_index()"
   ]
  },
  {
   "cell_type": "code",
   "execution_count": 20,
   "metadata": {},
   "outputs": [
    {
     "data": {
      "text/plain": [
       "uno                         0\n",
       "registerdate                0\n",
       "enddate                     0\n",
       "productcode                 0\n",
       "pgamount                    0\n",
       "chargetypeid                0\n",
       "concurrentwatchcount        0\n",
       "promo_100               33979\n",
       "coinReceived            57144\n",
       "Repurchase                  0\n",
       "devicetypeid                0\n",
       "isauth                  17981\n",
       "gender                      0\n",
       "agegroup                    0\n",
       "dtype: int64"
      ]
     },
     "execution_count": 20,
     "metadata": {},
     "output_type": "execute_result"
    }
   ],
   "source": [
    "# 나머지 결측치는 X로 처리 (O or null인 경우)\n",
    "filled_service.isnull().sum()"
   ]
  },
  {
   "cell_type": "code",
   "execution_count": 21,
   "metadata": {},
   "outputs": [
    {
     "data": {
      "text/plain": [
       "uno                     0\n",
       "registerdate            0\n",
       "enddate                 0\n",
       "productcode             0\n",
       "pgamount                0\n",
       "chargetypeid            0\n",
       "concurrentwatchcount    0\n",
       "promo_100               0\n",
       "coinReceived            0\n",
       "Repurchase              0\n",
       "devicetypeid            0\n",
       "isauth                  0\n",
       "gender                  0\n",
       "agegroup                0\n",
       "dtype: int64"
      ]
     },
     "execution_count": 21,
     "metadata": {},
     "output_type": "execute_result"
    }
   ],
   "source": [
    "filled_service = filled_service.fillna('X')\n",
    "filled_service.isnull().sum()"
   ]
  },
  {
   "cell_type": "code",
   "execution_count": 22,
   "metadata": {},
   "outputs": [
    {
     "data": {
      "text/plain": [
       "'C:\\\\Users\\\\2180033\\\\Desktop\\\\python_begins\\\\WAVVE'"
      ]
     },
     "execution_count": 22,
     "metadata": {},
     "output_type": "execute_result"
    }
   ],
   "source": [
    "os.getcwd()"
   ]
  },
  {
   "cell_type": "code",
   "execution_count": null,
   "metadata": {},
   "outputs": [],
   "source": []
  },
  {
   "cell_type": "markdown",
   "metadata": {},
   "source": [
    "## filled service 저장"
   ]
  },
  {
   "cell_type": "code",
   "execution_count": 23,
   "metadata": {
    "scrolled": true
   },
   "outputs": [],
   "source": [
    "filled_service.to_csv(path_or_buf=\"Train/filled_service.csv\", index=False)"
   ]
  },
  {
   "cell_type": "code",
   "execution_count": 24,
   "metadata": {},
   "outputs": [],
   "source": [
    "filled_service = pd.read_csv(\"Train/filled_service.csv\")"
   ]
  },
  {
   "cell_type": "code",
   "execution_count": 25,
   "metadata": {
    "scrolled": true
   },
   "outputs": [
    {
     "data": {
      "text/html": [
       "<div>\n",
       "<style scoped>\n",
       "    .dataframe tbody tr th:only-of-type {\n",
       "        vertical-align: middle;\n",
       "    }\n",
       "\n",
       "    .dataframe tbody tr th {\n",
       "        vertical-align: top;\n",
       "    }\n",
       "\n",
       "    .dataframe thead th {\n",
       "        text-align: right;\n",
       "    }\n",
       "</style>\n",
       "<table border=\"1\" class=\"dataframe\">\n",
       "  <thead>\n",
       "    <tr style=\"text-align: right;\">\n",
       "      <th></th>\n",
       "      <th>uno</th>\n",
       "      <th>registerdate</th>\n",
       "      <th>enddate</th>\n",
       "      <th>productcode</th>\n",
       "      <th>pgamount</th>\n",
       "      <th>chargetypeid</th>\n",
       "      <th>concurrentwatchcount</th>\n",
       "      <th>promo_100</th>\n",
       "      <th>coinReceived</th>\n",
       "      <th>Repurchase</th>\n",
       "      <th>devicetypeid</th>\n",
       "      <th>isauth</th>\n",
       "      <th>gender</th>\n",
       "      <th>agegroup</th>\n",
       "    </tr>\n",
       "  </thead>\n",
       "  <tbody>\n",
       "    <tr>\n",
       "      <th>0</th>\n",
       "      <td>b3d6846338d0e98b7e0fcf735c49271ff59df86bfd78f3...</td>\n",
       "      <td>2021-03-09 16:31:15</td>\n",
       "      <td>2021-04-09 16:31:15</td>\n",
       "      <td>pk_1487</td>\n",
       "      <td>7900.0</td>\n",
       "      <td>134</td>\n",
       "      <td>1</td>\n",
       "      <td>X</td>\n",
       "      <td>X</td>\n",
       "      <td>X</td>\n",
       "      <td>android</td>\n",
       "      <td>Y</td>\n",
       "      <td>F</td>\n",
       "      <td>45</td>\n",
       "    </tr>\n",
       "    <tr>\n",
       "      <th>1</th>\n",
       "      <td>4ec765db76545c1d6dda9f421590bf9d02f584009f8d92...</td>\n",
       "      <td>2021-03-09 14:33:07</td>\n",
       "      <td>2021-04-09 14:33:07</td>\n",
       "      <td>pk_1487</td>\n",
       "      <td>100.0</td>\n",
       "      <td>190</td>\n",
       "      <td>1</td>\n",
       "      <td>O</td>\n",
       "      <td>O</td>\n",
       "      <td>X</td>\n",
       "      <td>pc</td>\n",
       "      <td>Y</td>\n",
       "      <td>F</td>\n",
       "      <td>25</td>\n",
       "    </tr>\n",
       "    <tr>\n",
       "      <th>2</th>\n",
       "      <td>304cacae950e53952afebff0b212f5bfef6a5a0abb4c45...</td>\n",
       "      <td>2021-03-09 12:00:01</td>\n",
       "      <td>2021-04-09 12:00:01</td>\n",
       "      <td>pk_2026</td>\n",
       "      <td>10900.0</td>\n",
       "      <td>151</td>\n",
       "      <td>2</td>\n",
       "      <td>X</td>\n",
       "      <td>O</td>\n",
       "      <td>O</td>\n",
       "      <td>android</td>\n",
       "      <td>Y</td>\n",
       "      <td>F</td>\n",
       "      <td>35</td>\n",
       "    </tr>\n",
       "    <tr>\n",
       "      <th>3</th>\n",
       "      <td>4f86d917c53cb6bd8949f76dba7260311e8c1748748a02...</td>\n",
       "      <td>2021-03-09 22:23:12</td>\n",
       "      <td>2021-04-09 22:23:12</td>\n",
       "      <td>pk_1487</td>\n",
       "      <td>100.0</td>\n",
       "      <td>132</td>\n",
       "      <td>1</td>\n",
       "      <td>O</td>\n",
       "      <td>X</td>\n",
       "      <td>X</td>\n",
       "      <td>android</td>\n",
       "      <td>X</td>\n",
       "      <td>F</td>\n",
       "      <td>55</td>\n",
       "    </tr>\n",
       "    <tr>\n",
       "      <th>4</th>\n",
       "      <td>445fb8813626d3d49b94b5be58cd76d80ed31fa94f8372...</td>\n",
       "      <td>2021-03-09 10:32:36</td>\n",
       "      <td>2021-04-09 10:32:36</td>\n",
       "      <td>pk_1508</td>\n",
       "      <td>11188.8</td>\n",
       "      <td>140</td>\n",
       "      <td>1</td>\n",
       "      <td>X</td>\n",
       "      <td>X</td>\n",
       "      <td>O</td>\n",
       "      <td>ios</td>\n",
       "      <td>X</td>\n",
       "      <td>N</td>\n",
       "      <td>40</td>\n",
       "    </tr>\n",
       "    <tr>\n",
       "      <th>...</th>\n",
       "      <td>...</td>\n",
       "      <td>...</td>\n",
       "      <td>...</td>\n",
       "      <td>...</td>\n",
       "      <td>...</td>\n",
       "      <td>...</td>\n",
       "      <td>...</td>\n",
       "      <td>...</td>\n",
       "      <td>...</td>\n",
       "      <td>...</td>\n",
       "      <td>...</td>\n",
       "      <td>...</td>\n",
       "      <td>...</td>\n",
       "      <td>...</td>\n",
       "    </tr>\n",
       "    <tr>\n",
       "      <th>69703</th>\n",
       "      <td>1f8ab90fc1ae5c226d1caa92c97e6d65021375fe2741b2...</td>\n",
       "      <td>2021-03-02 01:51:00</td>\n",
       "      <td>2021-04-02 01:51:00</td>\n",
       "      <td>pk_2026</td>\n",
       "      <td>100.0</td>\n",
       "      <td>151</td>\n",
       "      <td>2</td>\n",
       "      <td>O</td>\n",
       "      <td>X</td>\n",
       "      <td>X</td>\n",
       "      <td>android</td>\n",
       "      <td>Y</td>\n",
       "      <td>F</td>\n",
       "      <td>25</td>\n",
       "    </tr>\n",
       "    <tr>\n",
       "      <th>69704</th>\n",
       "      <td>58ea1be6de7c5b1af8b2395386b42f377c209c43f90493...</td>\n",
       "      <td>2021-03-02 00:34:06</td>\n",
       "      <td>2021-04-02 00:34:06</td>\n",
       "      <td>pk_1508</td>\n",
       "      <td>11188.8</td>\n",
       "      <td>140</td>\n",
       "      <td>1</td>\n",
       "      <td>X</td>\n",
       "      <td>X</td>\n",
       "      <td>O</td>\n",
       "      <td>ios</td>\n",
       "      <td>X</td>\n",
       "      <td>N</td>\n",
       "      <td>40</td>\n",
       "    </tr>\n",
       "    <tr>\n",
       "      <th>69705</th>\n",
       "      <td>5b14d5322d801571e42101d4d91642f8f7b52a4fcafc01...</td>\n",
       "      <td>2021-03-11 10:04:20</td>\n",
       "      <td>2021-04-11 10:04:20</td>\n",
       "      <td>pk_1494</td>\n",
       "      <td>13750.0</td>\n",
       "      <td>134</td>\n",
       "      <td>1</td>\n",
       "      <td>X</td>\n",
       "      <td>X</td>\n",
       "      <td>O</td>\n",
       "      <td>android</td>\n",
       "      <td>Y</td>\n",
       "      <td>F</td>\n",
       "      <td>20</td>\n",
       "    </tr>\n",
       "    <tr>\n",
       "      <th>69706</th>\n",
       "      <td>d16d0809e827fc3fc676c3850686bef8b311145248d893...</td>\n",
       "      <td>2021-03-11 21:43:13</td>\n",
       "      <td>2021-04-11 21:43:13</td>\n",
       "      <td>pk_1489</td>\n",
       "      <td>13900.0</td>\n",
       "      <td>134</td>\n",
       "      <td>4</td>\n",
       "      <td>X</td>\n",
       "      <td>X</td>\n",
       "      <td>X</td>\n",
       "      <td>sstv</td>\n",
       "      <td>Y</td>\n",
       "      <td>M</td>\n",
       "      <td>25</td>\n",
       "    </tr>\n",
       "    <tr>\n",
       "      <th>69707</th>\n",
       "      <td>998384efe9466eb3fed96243f6a6831de4deda30bb8dee...</td>\n",
       "      <td>2021-03-11 19:45:18</td>\n",
       "      <td>2021-04-11 19:45:18</td>\n",
       "      <td>pk_2025</td>\n",
       "      <td>7900.0</td>\n",
       "      <td>151</td>\n",
       "      <td>1</td>\n",
       "      <td>X</td>\n",
       "      <td>X</td>\n",
       "      <td>X</td>\n",
       "      <td>android</td>\n",
       "      <td>Y</td>\n",
       "      <td>F</td>\n",
       "      <td>25</td>\n",
       "    </tr>\n",
       "  </tbody>\n",
       "</table>\n",
       "<p>69708 rows × 14 columns</p>\n",
       "</div>"
      ],
      "text/plain": [
       "                                                     uno         registerdate  \\\n",
       "0      b3d6846338d0e98b7e0fcf735c49271ff59df86bfd78f3...  2021-03-09 16:31:15   \n",
       "1      4ec765db76545c1d6dda9f421590bf9d02f584009f8d92...  2021-03-09 14:33:07   \n",
       "2      304cacae950e53952afebff0b212f5bfef6a5a0abb4c45...  2021-03-09 12:00:01   \n",
       "3      4f86d917c53cb6bd8949f76dba7260311e8c1748748a02...  2021-03-09 22:23:12   \n",
       "4      445fb8813626d3d49b94b5be58cd76d80ed31fa94f8372...  2021-03-09 10:32:36   \n",
       "...                                                  ...                  ...   \n",
       "69703  1f8ab90fc1ae5c226d1caa92c97e6d65021375fe2741b2...  2021-03-02 01:51:00   \n",
       "69704  58ea1be6de7c5b1af8b2395386b42f377c209c43f90493...  2021-03-02 00:34:06   \n",
       "69705  5b14d5322d801571e42101d4d91642f8f7b52a4fcafc01...  2021-03-11 10:04:20   \n",
       "69706  d16d0809e827fc3fc676c3850686bef8b311145248d893...  2021-03-11 21:43:13   \n",
       "69707  998384efe9466eb3fed96243f6a6831de4deda30bb8dee...  2021-03-11 19:45:18   \n",
       "\n",
       "                   enddate productcode  pgamount  chargetypeid  \\\n",
       "0      2021-04-09 16:31:15     pk_1487    7900.0           134   \n",
       "1      2021-04-09 14:33:07     pk_1487     100.0           190   \n",
       "2      2021-04-09 12:00:01     pk_2026   10900.0           151   \n",
       "3      2021-04-09 22:23:12     pk_1487     100.0           132   \n",
       "4      2021-04-09 10:32:36     pk_1508   11188.8           140   \n",
       "...                    ...         ...       ...           ...   \n",
       "69703  2021-04-02 01:51:00     pk_2026     100.0           151   \n",
       "69704  2021-04-02 00:34:06     pk_1508   11188.8           140   \n",
       "69705  2021-04-11 10:04:20     pk_1494   13750.0           134   \n",
       "69706  2021-04-11 21:43:13     pk_1489   13900.0           134   \n",
       "69707  2021-04-11 19:45:18     pk_2025    7900.0           151   \n",
       "\n",
       "       concurrentwatchcount promo_100 coinReceived Repurchase devicetypeid  \\\n",
       "0                         1         X            X          X      android   \n",
       "1                         1         O            O          X           pc   \n",
       "2                         2         X            O          O      android   \n",
       "3                         1         O            X          X      android   \n",
       "4                         1         X            X          O          ios   \n",
       "...                     ...       ...          ...        ...          ...   \n",
       "69703                     2         O            X          X      android   \n",
       "69704                     1         X            X          O          ios   \n",
       "69705                     1         X            X          O      android   \n",
       "69706                     4         X            X          X         sstv   \n",
       "69707                     1         X            X          X      android   \n",
       "\n",
       "      isauth gender  agegroup  \n",
       "0          Y      F        45  \n",
       "1          Y      F        25  \n",
       "2          Y      F        35  \n",
       "3          X      F        55  \n",
       "4          X      N        40  \n",
       "...      ...    ...       ...  \n",
       "69703      Y      F        25  \n",
       "69704      X      N        40  \n",
       "69705      Y      F        20  \n",
       "69706      Y      M        25  \n",
       "69707      Y      F        25  \n",
       "\n",
       "[69708 rows x 14 columns]"
      ]
     },
     "execution_count": 25,
     "metadata": {},
     "output_type": "execute_result"
    }
   ],
   "source": [
    "filled_service"
   ]
  },
  {
   "cell_type": "code",
   "execution_count": 34,
   "metadata": {},
   "outputs": [
    {
     "data": {
      "text/plain": [
       "Index(['uno', 'registerdate', 'enddate', 'productcode', 'pgamount',\n",
       "       'chargetypeid', 'concurrentwatchcount', 'promo_100', 'coinReceived',\n",
       "       'Repurchase', 'devicetypeid', 'isauth', 'gender', 'agegroup'],\n",
       "      dtype='object')"
      ]
     },
     "execution_count": 34,
     "metadata": {},
     "output_type": "execute_result"
    }
   ],
   "source": [
    "filled_service.columns"
   ]
  },
  {
   "cell_type": "markdown",
   "metadata": {},
   "source": [
    "## Decision Tree"
   ]
  },
  {
   "cell_type": "code",
   "execution_count": 31,
   "metadata": {},
   "outputs": [],
   "source": [
    "from sklearn.tree import DecisionTreeClassifier, export_graphviz"
   ]
  },
  {
   "cell_type": "code",
   "execution_count": 35,
   "metadata": {},
   "outputs": [
    {
     "ename": "KeyError",
     "evalue": "\"['uno' 'registerdate' 'enddate' 'Repurchase'] not found in axis\"",
     "output_type": "error",
     "traceback": [
      "\u001b[1;31m---------------------------------------------------------------------------\u001b[0m",
      "\u001b[1;31mKeyError\u001b[0m                                  Traceback (most recent call last)",
      "\u001b[1;32m<ipython-input-35-98cc7648882f>\u001b[0m in \u001b[0;36m<module>\u001b[1;34m\u001b[0m\n\u001b[1;32m----> 1\u001b[1;33m \u001b[0mX\u001b[0m \u001b[1;33m=\u001b[0m \u001b[0mfilled_service\u001b[0m\u001b[1;33m.\u001b[0m\u001b[0mdrop\u001b[0m\u001b[1;33m(\u001b[0m\u001b[1;33m[\u001b[0m\u001b[1;34m'uno'\u001b[0m\u001b[1;33m,\u001b[0m \u001b[1;34m'registerdate'\u001b[0m\u001b[1;33m,\u001b[0m \u001b[1;34m'enddate'\u001b[0m\u001b[1;33m,\u001b[0m \u001b[1;34m'Repurchase'\u001b[0m\u001b[1;33m]\u001b[0m\u001b[1;33m)\u001b[0m\u001b[1;33m\u001b[0m\u001b[1;33m\u001b[0m\u001b[0m\n\u001b[0m\u001b[0;32m      2\u001b[0m \u001b[0my\u001b[0m \u001b[1;33m=\u001b[0m \u001b[0mfilled_service\u001b[0m\u001b[1;33m[\u001b[0m\u001b[1;34m'Repurchase'\u001b[0m\u001b[1;33m]\u001b[0m\u001b[1;33m\u001b[0m\u001b[1;33m\u001b[0m\u001b[0m\n\u001b[0;32m      3\u001b[0m \u001b[1;33m\u001b[0m\u001b[0m\n\u001b[0;32m      4\u001b[0m \u001b[0mX_train\u001b[0m\u001b[1;33m,\u001b[0m \u001b[0mX_test\u001b[0m\u001b[1;33m,\u001b[0m \u001b[0my_train\u001b[0m\u001b[1;33m,\u001b[0m \u001b[0my_test\u001b[0m \u001b[1;33m=\u001b[0m \u001b[0mtrain_test_split\u001b[0m\u001b[1;33m(\u001b[0m\u001b[0mX\u001b[0m\u001b[1;33m,\u001b[0m \u001b[0my\u001b[0m\u001b[1;33m,\u001b[0m \u001b[0mtest_size\u001b[0m\u001b[1;33m=\u001b[0m\u001b[1;36m0.2\u001b[0m\u001b[1;33m,\u001b[0m \u001b[0mrandom_state\u001b[0m\u001b[1;33m=\u001b[0m\u001b[1;36m47\u001b[0m\u001b[1;33m)\u001b[0m\u001b[1;33m\u001b[0m\u001b[1;33m\u001b[0m\u001b[0m\n",
      "\u001b[1;32mc:\\users\\2180033\\appdata\\local\\programs\\python\\python38\\lib\\site-packages\\pandas\\core\\frame.py\u001b[0m in \u001b[0;36mdrop\u001b[1;34m(self, labels, axis, index, columns, level, inplace, errors)\u001b[0m\n\u001b[0;32m   3988\u001b[0m                 \u001b[0mweight\u001b[0m  \u001b[1;36m1.0\u001b[0m     \u001b[1;36m0.8\u001b[0m\u001b[1;33m\u001b[0m\u001b[1;33m\u001b[0m\u001b[0m\n\u001b[0;32m   3989\u001b[0m         \"\"\"\n\u001b[1;32m-> 3990\u001b[1;33m         return super().drop(\n\u001b[0m\u001b[0;32m   3991\u001b[0m             \u001b[0mlabels\u001b[0m\u001b[1;33m=\u001b[0m\u001b[0mlabels\u001b[0m\u001b[1;33m,\u001b[0m\u001b[1;33m\u001b[0m\u001b[1;33m\u001b[0m\u001b[0m\n\u001b[0;32m   3992\u001b[0m             \u001b[0maxis\u001b[0m\u001b[1;33m=\u001b[0m\u001b[0maxis\u001b[0m\u001b[1;33m,\u001b[0m\u001b[1;33m\u001b[0m\u001b[1;33m\u001b[0m\u001b[0m\n",
      "\u001b[1;32mc:\\users\\2180033\\appdata\\local\\programs\\python\\python38\\lib\\site-packages\\pandas\\core\\generic.py\u001b[0m in \u001b[0;36mdrop\u001b[1;34m(self, labels, axis, index, columns, level, inplace, errors)\u001b[0m\n\u001b[0;32m   3934\u001b[0m         \u001b[1;32mfor\u001b[0m \u001b[0maxis\u001b[0m\u001b[1;33m,\u001b[0m \u001b[0mlabels\u001b[0m \u001b[1;32min\u001b[0m \u001b[0maxes\u001b[0m\u001b[1;33m.\u001b[0m\u001b[0mitems\u001b[0m\u001b[1;33m(\u001b[0m\u001b[1;33m)\u001b[0m\u001b[1;33m:\u001b[0m\u001b[1;33m\u001b[0m\u001b[1;33m\u001b[0m\u001b[0m\n\u001b[0;32m   3935\u001b[0m             \u001b[1;32mif\u001b[0m \u001b[0mlabels\u001b[0m \u001b[1;32mis\u001b[0m \u001b[1;32mnot\u001b[0m \u001b[1;32mNone\u001b[0m\u001b[1;33m:\u001b[0m\u001b[1;33m\u001b[0m\u001b[1;33m\u001b[0m\u001b[0m\n\u001b[1;32m-> 3936\u001b[1;33m                 \u001b[0mobj\u001b[0m \u001b[1;33m=\u001b[0m \u001b[0mobj\u001b[0m\u001b[1;33m.\u001b[0m\u001b[0m_drop_axis\u001b[0m\u001b[1;33m(\u001b[0m\u001b[0mlabels\u001b[0m\u001b[1;33m,\u001b[0m \u001b[0maxis\u001b[0m\u001b[1;33m,\u001b[0m \u001b[0mlevel\u001b[0m\u001b[1;33m=\u001b[0m\u001b[0mlevel\u001b[0m\u001b[1;33m,\u001b[0m \u001b[0merrors\u001b[0m\u001b[1;33m=\u001b[0m\u001b[0merrors\u001b[0m\u001b[1;33m)\u001b[0m\u001b[1;33m\u001b[0m\u001b[1;33m\u001b[0m\u001b[0m\n\u001b[0m\u001b[0;32m   3937\u001b[0m \u001b[1;33m\u001b[0m\u001b[0m\n\u001b[0;32m   3938\u001b[0m         \u001b[1;32mif\u001b[0m \u001b[0minplace\u001b[0m\u001b[1;33m:\u001b[0m\u001b[1;33m\u001b[0m\u001b[1;33m\u001b[0m\u001b[0m\n",
      "\u001b[1;32mc:\\users\\2180033\\appdata\\local\\programs\\python\\python38\\lib\\site-packages\\pandas\\core\\generic.py\u001b[0m in \u001b[0;36m_drop_axis\u001b[1;34m(self, labels, axis, level, errors)\u001b[0m\n\u001b[0;32m   3968\u001b[0m                 \u001b[0mnew_axis\u001b[0m \u001b[1;33m=\u001b[0m \u001b[0maxis\u001b[0m\u001b[1;33m.\u001b[0m\u001b[0mdrop\u001b[0m\u001b[1;33m(\u001b[0m\u001b[0mlabels\u001b[0m\u001b[1;33m,\u001b[0m \u001b[0mlevel\u001b[0m\u001b[1;33m=\u001b[0m\u001b[0mlevel\u001b[0m\u001b[1;33m,\u001b[0m \u001b[0merrors\u001b[0m\u001b[1;33m=\u001b[0m\u001b[0merrors\u001b[0m\u001b[1;33m)\u001b[0m\u001b[1;33m\u001b[0m\u001b[1;33m\u001b[0m\u001b[0m\n\u001b[0;32m   3969\u001b[0m             \u001b[1;32melse\u001b[0m\u001b[1;33m:\u001b[0m\u001b[1;33m\u001b[0m\u001b[1;33m\u001b[0m\u001b[0m\n\u001b[1;32m-> 3970\u001b[1;33m                 \u001b[0mnew_axis\u001b[0m \u001b[1;33m=\u001b[0m \u001b[0maxis\u001b[0m\u001b[1;33m.\u001b[0m\u001b[0mdrop\u001b[0m\u001b[1;33m(\u001b[0m\u001b[0mlabels\u001b[0m\u001b[1;33m,\u001b[0m \u001b[0merrors\u001b[0m\u001b[1;33m=\u001b[0m\u001b[0merrors\u001b[0m\u001b[1;33m)\u001b[0m\u001b[1;33m\u001b[0m\u001b[1;33m\u001b[0m\u001b[0m\n\u001b[0m\u001b[0;32m   3971\u001b[0m             \u001b[0mresult\u001b[0m \u001b[1;33m=\u001b[0m \u001b[0mself\u001b[0m\u001b[1;33m.\u001b[0m\u001b[0mreindex\u001b[0m\u001b[1;33m(\u001b[0m\u001b[1;33m**\u001b[0m\u001b[1;33m{\u001b[0m\u001b[0maxis_name\u001b[0m\u001b[1;33m:\u001b[0m \u001b[0mnew_axis\u001b[0m\u001b[1;33m}\u001b[0m\u001b[1;33m)\u001b[0m\u001b[1;33m\u001b[0m\u001b[1;33m\u001b[0m\u001b[0m\n\u001b[0;32m   3972\u001b[0m \u001b[1;33m\u001b[0m\u001b[0m\n",
      "\u001b[1;32mc:\\users\\2180033\\appdata\\local\\programs\\python\\python38\\lib\\site-packages\\pandas\\core\\indexes\\base.py\u001b[0m in \u001b[0;36mdrop\u001b[1;34m(self, labels, errors)\u001b[0m\n\u001b[0;32m   5016\u001b[0m         \u001b[1;32mif\u001b[0m \u001b[0mmask\u001b[0m\u001b[1;33m.\u001b[0m\u001b[0many\u001b[0m\u001b[1;33m(\u001b[0m\u001b[1;33m)\u001b[0m\u001b[1;33m:\u001b[0m\u001b[1;33m\u001b[0m\u001b[1;33m\u001b[0m\u001b[0m\n\u001b[0;32m   5017\u001b[0m             \u001b[1;32mif\u001b[0m \u001b[0merrors\u001b[0m \u001b[1;33m!=\u001b[0m \u001b[1;34m\"ignore\"\u001b[0m\u001b[1;33m:\u001b[0m\u001b[1;33m\u001b[0m\u001b[1;33m\u001b[0m\u001b[0m\n\u001b[1;32m-> 5018\u001b[1;33m                 \u001b[1;32mraise\u001b[0m \u001b[0mKeyError\u001b[0m\u001b[1;33m(\u001b[0m\u001b[1;34mf\"{labels[mask]} not found in axis\"\u001b[0m\u001b[1;33m)\u001b[0m\u001b[1;33m\u001b[0m\u001b[1;33m\u001b[0m\u001b[0m\n\u001b[0m\u001b[0;32m   5019\u001b[0m             \u001b[0mindexer\u001b[0m \u001b[1;33m=\u001b[0m \u001b[0mindexer\u001b[0m\u001b[1;33m[\u001b[0m\u001b[1;33m~\u001b[0m\u001b[0mmask\u001b[0m\u001b[1;33m]\u001b[0m\u001b[1;33m\u001b[0m\u001b[1;33m\u001b[0m\u001b[0m\n\u001b[0;32m   5020\u001b[0m         \u001b[1;32mreturn\u001b[0m \u001b[0mself\u001b[0m\u001b[1;33m.\u001b[0m\u001b[0mdelete\u001b[0m\u001b[1;33m(\u001b[0m\u001b[0mindexer\u001b[0m\u001b[1;33m)\u001b[0m\u001b[1;33m\u001b[0m\u001b[1;33m\u001b[0m\u001b[0m\n",
      "\u001b[1;31mKeyError\u001b[0m: \"['uno' 'registerdate' 'enddate' 'Repurchase'] not found in axis\""
     ]
    }
   ],
   "source": [
    "X = filled_service.drop(['uno', 'registerdate', 'enddate', 'Repurchase'])\n",
    "y = filled_service['Repurchase']\n",
    "\n",
    "X_train, X_test, y_train, y_test = train_test_split(X, y, test_size=0.2, random_state=47)"
   ]
  },
  {
   "cell_type": "code",
   "execution_count": null,
   "metadata": {},
   "outputs": [],
   "source": []
  },
  {
   "cell_type": "code",
   "execution_count": null,
   "metadata": {},
   "outputs": [],
   "source": []
  },
  {
   "cell_type": "code",
   "execution_count": null,
   "metadata": {},
   "outputs": [],
   "source": []
  },
  {
   "cell_type": "code",
   "execution_count": null,
   "metadata": {},
   "outputs": [],
   "source": []
  },
  {
   "cell_type": "code",
   "execution_count": null,
   "metadata": {},
   "outputs": [],
   "source": []
  },
  {
   "cell_type": "code",
   "execution_count": null,
   "metadata": {},
   "outputs": [],
   "source": []
  },
  {
   "cell_type": "markdown",
   "metadata": {},
   "source": [
    "## code 데이터 읽기\n",
    "  - content info\n",
    "  - movie info"
   ]
  },
  {
   "cell_type": "code",
   "execution_count": 26,
   "metadata": {},
   "outputs": [
    {
     "name": "stderr",
     "output_type": "stream",
     "text": [
      "c:\\users\\2180033\\appdata\\local\\programs\\python\\python38\\lib\\site-packages\\IPython\\core\\interactiveshell.py:3062: DtypeWarning: Columns (1) have mixed types.Specify dtype option on import or set low_memory=False.\n",
      "  has_raised = await self.run_ast_nodes(code_ast.body, cell_name,\n"
     ]
    },
    {
     "data": {
      "text/html": [
       "<div>\n",
       "<style scoped>\n",
       "    .dataframe tbody tr th:only-of-type {\n",
       "        vertical-align: middle;\n",
       "    }\n",
       "\n",
       "    .dataframe tbody tr th {\n",
       "        vertical-align: top;\n",
       "    }\n",
       "\n",
       "    .dataframe thead th {\n",
       "        text-align: right;\n",
       "    }\n",
       "</style>\n",
       "<table border=\"1\" class=\"dataframe\">\n",
       "  <thead>\n",
       "    <tr style=\"text-align: right;\">\n",
       "      <th></th>\n",
       "      <th>contentid</th>\n",
       "      <th>playtime</th>\n",
       "      <th>title</th>\n",
       "      <th>preview</th>\n",
       "      <th>broaddate</th>\n",
       "    </tr>\n",
       "  </thead>\n",
       "  <tbody>\n",
       "    <tr>\n",
       "      <th>166526</th>\n",
       "      <td>E01_3053836.1</td>\n",
       "      <td>NaN</td>\n",
       "      <td>극한 직업</td>\n",
       "      <td>어둠을 밝히는 실내조명의 겉 유리를 제작하는 조명 유리공장! 파이프를 이용하여 입바...</td>\n",
       "      <td>2010-07-29</td>\n",
       "    </tr>\n",
       "    <tr>\n",
       "      <th>90433</th>\n",
       "      <td>C9601_C96000000042_01_0009.1</td>\n",
       "      <td>523</td>\n",
       "      <td>청소차 싹싹이의 고민</td>\n",
       "      <td>핑크퐁과 함께 자동차 마을로 떠나봐요! 재미있는 이야기 속에, 선택에 따라 바뀌는 ...</td>\n",
       "      <td>2020-01-09</td>\n",
       "    </tr>\n",
       "    <tr>\n",
       "      <th>287961</th>\n",
       "      <td>K02_PS-2019129290-01-000.1</td>\n",
       "      <td>488</td>\n",
       "      <td>KBS 재난방송센터</td>\n",
       "      <td>NaN</td>\n",
       "      <td>2019-08-11</td>\n",
       "    </tr>\n",
       "  </tbody>\n",
       "</table>\n",
       "</div>"
      ],
      "text/plain": [
       "                           contentid playtime        title  \\\n",
       "166526                 E01_3053836.1      NaN        극한 직업   \n",
       "90433   C9601_C96000000042_01_0009.1      523  청소차 싹싹이의 고민   \n",
       "287961    K02_PS-2019129290-01-000.1      488   KBS 재난방송센터   \n",
       "\n",
       "                                                  preview   broaddate  \n",
       "166526  어둠을 밝히는 실내조명의 겉 유리를 제작하는 조명 유리공장! 파이프를 이용하여 입바...  2010-07-29  \n",
       "90433   핑크퐁과 함께 자동차 마을로 떠나봐요! 재미있는 이야기 속에, 선택에 따라 바뀌는 ...  2020-01-09  \n",
       "287961                                                NaN  2019-08-11  "
      ]
     },
     "execution_count": 26,
     "metadata": {},
     "output_type": "execute_result"
    }
   ],
   "source": [
    "df_content_info = pd.read_csv(\"Code/content_info.csv\")\n",
    "df_content_info.sample(3)"
   ]
  },
  {
   "cell_type": "code",
   "execution_count": 27,
   "metadata": {},
   "outputs": [
    {
     "data": {
      "text/html": [
       "<div>\n",
       "<style scoped>\n",
       "    .dataframe tbody tr th:only-of-type {\n",
       "        vertical-align: middle;\n",
       "    }\n",
       "\n",
       "    .dataframe tbody tr th {\n",
       "        vertical-align: top;\n",
       "    }\n",
       "\n",
       "    .dataframe thead th {\n",
       "        text-align: right;\n",
       "    }\n",
       "</style>\n",
       "<table border=\"1\" class=\"dataframe\">\n",
       "  <thead>\n",
       "    <tr style=\"text-align: right;\">\n",
       "      <th></th>\n",
       "      <th>movieid</th>\n",
       "      <th>title_ko</th>\n",
       "      <th>title_en</th>\n",
       "      <th>nation</th>\n",
       "      <th>director</th>\n",
       "      <th>actor</th>\n",
       "      <th>targetage</th>\n",
       "      <th>description</th>\n",
       "      <th>runningtime</th>\n",
       "    </tr>\n",
       "  </thead>\n",
       "  <tbody>\n",
       "    <tr>\n",
       "      <th>2411</th>\n",
       "      <td>MV_C901_SG0000036902</td>\n",
       "      <td>주온1 (비디오)</td>\n",
       "      <td>呪怨 , Ju-on , 1999</td>\n",
       "      <td>일본</td>\n",
       "      <td>시미즈다카시</td>\n",
       "      <td>야나기유레이, 쿠리야마치아키</td>\n",
       "      <td>12</td>\n",
       "      <td>만삭의 아내를 둔 학교 선생 고바야시가 자기 반 학생 토시오의 집을 가정지도 건으로...</td>\n",
       "      <td>76</td>\n",
       "    </tr>\n",
       "    <tr>\n",
       "      <th>7385</th>\n",
       "      <td>MV_CH01_FX0000011132</td>\n",
       "      <td>보랏 - 카자흐스탄 킹카의 미국 문화 빨아들이기</td>\n",
       "      <td>Borat: Cultural Learnings Of America For Make ...</td>\n",
       "      <td>미국</td>\n",
       "      <td>래리 찰스</td>\n",
       "      <td>사차 바론 코헨, 켄 데비티언, 루에넬</td>\n",
       "      <td>18</td>\n",
       "      <td>미국을 초토화시킨 맨몸의 그가 온다! 카자흐스탄 방송국 리포터인 보랏은 자신의 미국...</td>\n",
       "      <td>83</td>\n",
       "    </tr>\n",
       "    <tr>\n",
       "      <th>1482</th>\n",
       "      <td>MV_C3001_C300000012081</td>\n",
       "      <td>오르가즘 특강</td>\n",
       "      <td>2019</td>\n",
       "      <td>한국</td>\n",
       "      <td>김석만</td>\n",
       "      <td>윤재, 새롬</td>\n",
       "      <td>21</td>\n",
       "      <td>방음이 되지 않는 원룸에서 취업준비를 하는 태수는 고민 끝에 대학선배 우성에게 연락...</td>\n",
       "      <td>78</td>\n",
       "    </tr>\n",
       "  </tbody>\n",
       "</table>\n",
       "</div>"
      ],
      "text/plain": [
       "                     movieid                    title_ko  \\\n",
       "2411    MV_C901_SG0000036902                   주온1 (비디오)   \n",
       "7385    MV_CH01_FX0000011132  보랏 - 카자흐스탄 킹카의 미국 문화 빨아들이기   \n",
       "1482  MV_C3001_C300000012081                     오르가즘 특강   \n",
       "\n",
       "                                               title_en nation director  \\\n",
       "2411                                  呪怨 , Ju-on , 1999     일본   시미즈다카시   \n",
       "7385  Borat: Cultural Learnings Of America For Make ...     미국    래리 찰스   \n",
       "1482                                               2019     한국      김석만   \n",
       "\n",
       "                      actor  targetage  \\\n",
       "2411        야나기유레이, 쿠리야마치아키         12   \n",
       "7385  사차 바론 코헨, 켄 데비티언, 루에넬         18   \n",
       "1482                 윤재, 새롬         21   \n",
       "\n",
       "                                            description runningtime  \n",
       "2411  만삭의 아내를 둔 학교 선생 고바야시가 자기 반 학생 토시오의 집을 가정지도 건으로...          76  \n",
       "7385  미국을 초토화시킨 맨몸의 그가 온다! 카자흐스탄 방송국 리포터인 보랏은 자신의 미국...          83  \n",
       "1482  방음이 되지 않는 원룸에서 취업준비를 하는 태수는 고민 끝에 대학선배 우성에게 연락...          78  "
      ]
     },
     "execution_count": 27,
     "metadata": {},
     "output_type": "execute_result"
    }
   ],
   "source": [
    "df_movie_info = pd.read_csv(\"Code/movie_info.csv\")\n",
    "df_movie_info.sample(3)"
   ]
  },
  {
   "cell_type": "code",
   "execution_count": null,
   "metadata": {},
   "outputs": [],
   "source": []
  }
 ],
 "metadata": {
  "kernelspec": {
   "display_name": "Python 3",
   "language": "python",
   "name": "python3"
  },
  "language_info": {
   "codemirror_mode": {
    "name": "ipython",
    "version": 3
   },
   "file_extension": ".py",
   "mimetype": "text/x-python",
   "name": "python",
   "nbconvert_exporter": "python",
   "pygments_lexer": "ipython3",
   "version": "3.8.3"
  }
 },
 "nbformat": 4,
 "nbformat_minor": 4
}
