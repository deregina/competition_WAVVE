{
 "cells": [
  {
   "cell_type": "code",
   "execution_count": 1,
   "metadata": {},
   "outputs": [],
   "source": [
    "import pandas as pd\n",
    "import numpy as np\n",
    "from sklearn.preprocessing import LabelEncoder\n",
    "from sklearn.model_selection import train_test_split\n",
    "from dateutil.relativedelta import relativedelta\n",
    "from datetime import *"
   ]
  },
  {
   "cell_type": "code",
   "execution_count": 2,
   "metadata": {},
   "outputs": [
    {
     "data": {
      "text/plain": [
       "'C:\\\\Users\\\\2180033\\\\Desktop\\\\python_begins\\\\WAVVE'"
      ]
     },
     "execution_count": 2,
     "metadata": {},
     "output_type": "execute_result"
    }
   ],
   "source": [
    "import os\n",
    "os.getcwd()"
   ]
  },
  {
   "cell_type": "markdown",
   "metadata": {},
   "source": [
    "## 서비스 데이터 읽기 : 69,708 rows, 14 columns\n",
    "  - Rephurchase 정보 포함"
   ]
  },
  {
   "cell_type": "code",
   "execution_count": 3,
   "metadata": {},
   "outputs": [
    {
     "data": {
      "text/html": [
       "<div>\n",
       "<style scoped>\n",
       "    .dataframe tbody tr th:only-of-type {\n",
       "        vertical-align: middle;\n",
       "    }\n",
       "\n",
       "    .dataframe tbody tr th {\n",
       "        vertical-align: top;\n",
       "    }\n",
       "\n",
       "    .dataframe thead th {\n",
       "        text-align: right;\n",
       "    }\n",
       "</style>\n",
       "<table border=\"1\" class=\"dataframe\">\n",
       "  <thead>\n",
       "    <tr style=\"text-align: right;\">\n",
       "      <th></th>\n",
       "      <th>uno</th>\n",
       "      <th>registerdate</th>\n",
       "      <th>enddate</th>\n",
       "      <th>productcode</th>\n",
       "      <th>pgamount</th>\n",
       "      <th>chargetypeid</th>\n",
       "      <th>concurrentwatchcount</th>\n",
       "      <th>promo_100</th>\n",
       "      <th>coinReceived</th>\n",
       "      <th>Repurchase</th>\n",
       "      <th>devicetypeid</th>\n",
       "      <th>isauth</th>\n",
       "      <th>gender</th>\n",
       "      <th>agegroup</th>\n",
       "    </tr>\n",
       "  </thead>\n",
       "  <tbody>\n",
       "    <tr>\n",
       "      <th>16171</th>\n",
       "      <td>69fec227b4a6a6147a7da8ebfb3f68216ae87396b57ea2...</td>\n",
       "      <td>2021-03-01 17:52:13</td>\n",
       "      <td>2021-04-01 17:52:13</td>\n",
       "      <td>pk_1487</td>\n",
       "      <td>7900.0</td>\n",
       "      <td>131</td>\n",
       "      <td>1</td>\n",
       "      <td>NaN</td>\n",
       "      <td>NaN</td>\n",
       "      <td>X</td>\n",
       "      <td>android</td>\n",
       "      <td>NaN</td>\n",
       "      <td>NaN</td>\n",
       "      <td>40</td>\n",
       "    </tr>\n",
       "    <tr>\n",
       "      <th>30673</th>\n",
       "      <td>0a86d28074669c9442fe2955e6a6d483269fe2c2ad87ba...</td>\n",
       "      <td>2021-03-06 21:47:29</td>\n",
       "      <td>2021-04-06 21:47:29</td>\n",
       "      <td>pk_1488</td>\n",
       "      <td>100.0</td>\n",
       "      <td>134</td>\n",
       "      <td>2</td>\n",
       "      <td>O</td>\n",
       "      <td>NaN</td>\n",
       "      <td>O</td>\n",
       "      <td>pc</td>\n",
       "      <td>Y</td>\n",
       "      <td>M</td>\n",
       "      <td>25</td>\n",
       "    </tr>\n",
       "    <tr>\n",
       "      <th>40995</th>\n",
       "      <td>ae0e4677b3572c7498566f38ee949d5d1b37a4426fb6d7...</td>\n",
       "      <td>2021-03-01 19:55:57</td>\n",
       "      <td>2021-04-01 19:55:57</td>\n",
       "      <td>pk_1487</td>\n",
       "      <td>100.0</td>\n",
       "      <td>180</td>\n",
       "      <td>1</td>\n",
       "      <td>O</td>\n",
       "      <td>NaN</td>\n",
       "      <td>X</td>\n",
       "      <td>pc</td>\n",
       "      <td>Y</td>\n",
       "      <td>F</td>\n",
       "      <td>45</td>\n",
       "    </tr>\n",
       "  </tbody>\n",
       "</table>\n",
       "</div>"
      ],
      "text/plain": [
       "                                                     uno        registerdate  \\\n",
       "16171  69fec227b4a6a6147a7da8ebfb3f68216ae87396b57ea2... 2021-03-01 17:52:13   \n",
       "30673  0a86d28074669c9442fe2955e6a6d483269fe2c2ad87ba... 2021-03-06 21:47:29   \n",
       "40995  ae0e4677b3572c7498566f38ee949d5d1b37a4426fb6d7... 2021-03-01 19:55:57   \n",
       "\n",
       "                  enddate productcode  pgamount  chargetypeid  \\\n",
       "16171 2021-04-01 17:52:13     pk_1487    7900.0           131   \n",
       "30673 2021-04-06 21:47:29     pk_1488     100.0           134   \n",
       "40995 2021-04-01 19:55:57     pk_1487     100.0           180   \n",
       "\n",
       "       concurrentwatchcount promo_100 coinReceived Repurchase devicetypeid  \\\n",
       "16171                     1       NaN          NaN          X      android   \n",
       "30673                     2         O          NaN          O           pc   \n",
       "40995                     1         O          NaN          X           pc   \n",
       "\n",
       "      isauth gender  agegroup  \n",
       "16171    NaN    NaN        40  \n",
       "30673      Y      M        25  \n",
       "40995      Y      F        45  "
      ]
     },
     "execution_count": 3,
     "metadata": {},
     "output_type": "execute_result"
    }
   ],
   "source": [
    "df_service = pd.read_csv('Train/train_service.csv', parse_dates=['registerdate', 'enddate'], infer_datetime_format=True)\n",
    "df_service.sample(3)"
   ]
  },
  {
   "cell_type": "code",
   "execution_count": 4,
   "metadata": {},
   "outputs": [
    {
     "name": "stdout",
     "output_type": "stream",
     "text": [
      "<class 'pandas.core.frame.DataFrame'>\n",
      "RangeIndex: 69708 entries, 0 to 69707\n",
      "Data columns (total 14 columns):\n",
      " #   Column                Non-Null Count  Dtype         \n",
      "---  ------                --------------  -----         \n",
      " 0   uno                   69708 non-null  object        \n",
      " 1   registerdate          69708 non-null  datetime64[ns]\n",
      " 2   enddate               69708 non-null  datetime64[ns]\n",
      " 3   productcode           69708 non-null  object        \n",
      " 4   pgamount              69708 non-null  float64       \n",
      " 5   chargetypeid          69708 non-null  int64         \n",
      " 6   concurrentwatchcount  69708 non-null  int64         \n",
      " 7   promo_100             35729 non-null  object        \n",
      " 8   coinReceived          12564 non-null  object        \n",
      " 9   Repurchase            69708 non-null  object        \n",
      " 10  devicetypeid          69708 non-null  object        \n",
      " 11  isauth                51727 non-null  object        \n",
      " 12  gender                58228 non-null  object        \n",
      " 13  agegroup              69708 non-null  int64         \n",
      "dtypes: datetime64[ns](2), float64(1), int64(3), object(8)\n",
      "memory usage: 7.4+ MB\n"
     ]
    }
   ],
   "source": [
    "df_service.info()"
   ]
  },
  {
   "cell_type": "markdown",
   "metadata": {},
   "source": [
    "## 시청 이력 데이터 읽기 : 7,987,609 rows"
   ]
  },
  {
   "cell_type": "code",
   "execution_count": 5,
   "metadata": {},
   "outputs": [
    {
     "data": {
      "text/html": [
       "<div>\n",
       "<style scoped>\n",
       "    .dataframe tbody tr th:only-of-type {\n",
       "        vertical-align: middle;\n",
       "    }\n",
       "\n",
       "    .dataframe tbody tr th {\n",
       "        vertical-align: top;\n",
       "    }\n",
       "\n",
       "    .dataframe thead th {\n",
       "        text-align: right;\n",
       "    }\n",
       "</style>\n",
       "<table border=\"1\" class=\"dataframe\">\n",
       "  <thead>\n",
       "    <tr style=\"text-align: right;\">\n",
       "      <th></th>\n",
       "      <th>uno</th>\n",
       "      <th>dates</th>\n",
       "      <th>hour</th>\n",
       "      <th>channeltype</th>\n",
       "      <th>programid</th>\n",
       "      <th>title</th>\n",
       "      <th>contentid</th>\n",
       "      <th>contentnumber</th>\n",
       "      <th>section</th>\n",
       "      <th>viewtime</th>\n",
       "      <th>devicetype</th>\n",
       "    </tr>\n",
       "  </thead>\n",
       "  <tbody>\n",
       "    <tr>\n",
       "      <th>1628457</th>\n",
       "      <td>75f6e29da556b3de7a016e06ac214057342009f60d2c9d...</td>\n",
       "      <td>2021-03-05</td>\n",
       "      <td>1</td>\n",
       "      <td>M</td>\n",
       "      <td>MOVIE</td>\n",
       "      <td>노무현과 바보들</td>\n",
       "      <td>MV_CK01_TCO000012227</td>\n",
       "      <td>NaN</td>\n",
       "      <td>M08</td>\n",
       "      <td>130</td>\n",
       "      <td>7</td>\n",
       "    </tr>\n",
       "    <tr>\n",
       "      <th>1428310</th>\n",
       "      <td>872838cb139e5988fe94f260950bfdda45f93cb9130950...</td>\n",
       "      <td>2021-03-02</td>\n",
       "      <td>4</td>\n",
       "      <td>M</td>\n",
       "      <td>MOVIE</td>\n",
       "      <td>엄마의 남자</td>\n",
       "      <td>MV_C901_SG0000090695</td>\n",
       "      <td>NaN</td>\n",
       "      <td>M02</td>\n",
       "      <td>200</td>\n",
       "      <td>2</td>\n",
       "    </tr>\n",
       "    <tr>\n",
       "      <th>1165162</th>\n",
       "      <td>00a99f8ebf2e139651b07ac4595ea95c42b5be19a2b62c...</td>\n",
       "      <td>2021-03-17</td>\n",
       "      <td>8</td>\n",
       "      <td>V</td>\n",
       "      <td>S01_P453505934</td>\n",
       "      <td>펜트하우스 2</td>\n",
       "      <td>S01_E454229316.1</td>\n",
       "      <td>5</td>\n",
       "      <td>1</td>\n",
       "      <td>80</td>\n",
       "      <td>3</td>\n",
       "    </tr>\n",
       "  </tbody>\n",
       "</table>\n",
       "</div>"
      ],
      "text/plain": [
       "                                                       uno      dates  hour  \\\n",
       "1628457  75f6e29da556b3de7a016e06ac214057342009f60d2c9d... 2021-03-05     1   \n",
       "1428310  872838cb139e5988fe94f260950bfdda45f93cb9130950... 2021-03-02     4   \n",
       "1165162  00a99f8ebf2e139651b07ac4595ea95c42b5be19a2b62c... 2021-03-17     8   \n",
       "\n",
       "        channeltype       programid     title             contentid  \\\n",
       "1628457           M           MOVIE  노무현과 바보들  MV_CK01_TCO000012227   \n",
       "1428310           M           MOVIE    엄마의 남자  MV_C901_SG0000090695   \n",
       "1165162           V  S01_P453505934   펜트하우스 2      S01_E454229316.1   \n",
       "\n",
       "        contentnumber section  viewtime  devicetype  \n",
       "1628457           NaN     M08       130           7  \n",
       "1428310           NaN     M02       200           2  \n",
       "1165162             5       1        80           3  "
      ]
     },
     "execution_count": 5,
     "metadata": {},
     "output_type": "execute_result"
    }
   ],
   "source": [
    "df_bookmark = pd.read_csv(\"Train/train_bookmark.csv\", parse_dates=['dates'], infer_datetime_format=True)\n",
    "df_bookmark.sample(3)"
   ]
  },
  {
   "cell_type": "code",
   "execution_count": 6,
   "metadata": {},
   "outputs": [
    {
     "name": "stdout",
     "output_type": "stream",
     "text": [
      "<class 'pandas.core.frame.DataFrame'>\n",
      "RangeIndex: 7824112 entries, 0 to 7824111\n",
      "Data columns (total 11 columns):\n",
      " #   Column         Dtype         \n",
      "---  ------         -----         \n",
      " 0   uno            object        \n",
      " 1   dates          datetime64[ns]\n",
      " 2   hour           int64         \n",
      " 3   channeltype    object        \n",
      " 4   programid      object        \n",
      " 5   title          object        \n",
      " 6   contentid      object        \n",
      " 7   contentnumber  object        \n",
      " 8   section        object        \n",
      " 9   viewtime       int64         \n",
      " 10  devicetype     int64         \n",
      "dtypes: datetime64[ns](1), int64(3), object(7)\n",
      "memory usage: 656.6+ MB\n"
     ]
    }
   ],
   "source": [
    "df_bookmark.info()"
   ]
  },
  {
   "cell_type": "code",
   "execution_count": 7,
   "metadata": {},
   "outputs": [
    {
     "data": {
      "text/html": [
       "<div>\n",
       "<style scoped>\n",
       "    .dataframe tbody tr th:only-of-type {\n",
       "        vertical-align: middle;\n",
       "    }\n",
       "\n",
       "    .dataframe tbody tr th {\n",
       "        vertical-align: top;\n",
       "    }\n",
       "\n",
       "    .dataframe thead th {\n",
       "        text-align: right;\n",
       "    }\n",
       "</style>\n",
       "<table border=\"1\" class=\"dataframe\">\n",
       "  <thead>\n",
       "    <tr style=\"text-align: right;\">\n",
       "      <th></th>\n",
       "      <th>uno</th>\n",
       "      <th>productcode</th>\n",
       "      <th>registerdate</th>\n",
       "      <th>paymenttypeid</th>\n",
       "      <th>currencytypeid</th>\n",
       "      <th>totalamount</th>\n",
       "      <th>pgamount</th>\n",
       "      <th>coinamount</th>\n",
       "      <th>bonusamount</th>\n",
       "      <th>discountamount</th>\n",
       "      <th>productname</th>\n",
       "      <th>coinexpiredate</th>\n",
       "    </tr>\n",
       "  </thead>\n",
       "  <tbody>\n",
       "    <tr>\n",
       "      <th>1080</th>\n",
       "      <td>1ce6d84ce7f69287ff00fca117fe11fcd6f7935052a884...</td>\n",
       "      <td>co_1476</td>\n",
       "      <td>2021-04-01 01:01:06</td>\n",
       "      <td>1</td>\n",
       "      <td>1</td>\n",
       "      <td>8000.0</td>\n",
       "      <td>0.0</td>\n",
       "      <td>0.0</td>\n",
       "      <td>8000.0</td>\n",
       "      <td>0.0</td>\n",
       "      <td>NaN</td>\n",
       "      <td>2021-07-01 23:59:59</td>\n",
       "    </tr>\n",
       "    <tr>\n",
       "      <th>3366</th>\n",
       "      <td>0fed88683216cecfde3a0f25c89fffe0e3594d0fbcf595...</td>\n",
       "      <td>co_391</td>\n",
       "      <td>2021-04-10 12:30:20</td>\n",
       "      <td>1</td>\n",
       "      <td>1</td>\n",
       "      <td>10000.0</td>\n",
       "      <td>0.0</td>\n",
       "      <td>0.0</td>\n",
       "      <td>10000.0</td>\n",
       "      <td>0.0</td>\n",
       "      <td>NaN</td>\n",
       "      <td>2021-05-12 23:59:59</td>\n",
       "    </tr>\n",
       "    <tr>\n",
       "      <th>331</th>\n",
       "      <td>413f07fae7c88d01ab8289f1b1233c92e0c41faec076ac...</td>\n",
       "      <td>co_391</td>\n",
       "      <td>2021-03-01 00:38:21</td>\n",
       "      <td>1</td>\n",
       "      <td>1</td>\n",
       "      <td>10000.0</td>\n",
       "      <td>0.0</td>\n",
       "      <td>0.0</td>\n",
       "      <td>10000.0</td>\n",
       "      <td>0.0</td>\n",
       "      <td>NaN</td>\n",
       "      <td>2021-04-02 23:59:59</td>\n",
       "    </tr>\n",
       "  </tbody>\n",
       "</table>\n",
       "</div>"
      ],
      "text/plain": [
       "                                                    uno productcode  \\\n",
       "1080  1ce6d84ce7f69287ff00fca117fe11fcd6f7935052a884...     co_1476   \n",
       "3366  0fed88683216cecfde3a0f25c89fffe0e3594d0fbcf595...      co_391   \n",
       "331   413f07fae7c88d01ab8289f1b1233c92e0c41faec076ac...      co_391   \n",
       "\n",
       "             registerdate  paymenttypeid  currencytypeid  totalamount  \\\n",
       "1080  2021-04-01 01:01:06              1               1       8000.0   \n",
       "3366  2021-04-10 12:30:20              1               1      10000.0   \n",
       "331   2021-03-01 00:38:21              1               1      10000.0   \n",
       "\n",
       "      pgamount  coinamount  bonusamount  discountamount productname  \\\n",
       "1080       0.0         0.0       8000.0             0.0         NaN   \n",
       "3366       0.0         0.0      10000.0             0.0         NaN   \n",
       "331        0.0         0.0      10000.0             0.0         NaN   \n",
       "\n",
       "           coinexpiredate  \n",
       "1080  2021-07-01 23:59:59  \n",
       "3366  2021-05-12 23:59:59  \n",
       "331   2021-04-02 23:59:59  "
      ]
     },
     "execution_count": 7,
     "metadata": {},
     "output_type": "execute_result"
    }
   ],
   "source": [
    "df_coin = pd.read_csv(\"Code/coin.csv\")\n",
    "df_coin.sample(3)"
   ]
  },
  {
   "cell_type": "code",
   "execution_count": null,
   "metadata": {},
   "outputs": [],
   "source": []
  },
  {
   "cell_type": "markdown",
   "metadata": {},
   "source": [
    "## 서비스, 시청 이력 데이터 Unique Value"
   ]
  },
  {
   "cell_type": "code",
   "execution_count": 8,
   "metadata": {
    "scrolled": true
   },
   "outputs": [
    {
     "name": "stdout",
     "output_type": "stream",
     "text": [
      "Column <uno> 69145\n",
      "['b3d6846338d0e98b7e0fcf735c49271ff59df86bfd78f3d75c03d99136f8e0d07bb55627eac3e9a288c20c74cee8641bbdff95108d737b7df108f281d6bbba29'\n",
      " '4ec765db76545c1d6dda9f421590bf9d02f584009f8d92100afeef4594ee72306b661c43d19086f82f85f02bbb5716280f52bb7f0fde823a0656a830a0e6e41f'\n",
      " '304cacae950e53952afebff0b212f5bfef6a5a0abb4c450879e853055b88063bfc32ee48bea746e952c79f1e1d619db50570991d74d5e19afeb32c5ce1b630dc'\n",
      " '4f86d917c53cb6bd8949f76dba7260311e8c1748748a028efd353137a1d459f7c12f6c2af10aec81da39c3bfe8a2d913fd24c26403b0aecba90b11ed2611ad5c'\n",
      " '445fb8813626d3d49b94b5be58cd76d80ed31fa94f8372618142c34471e001896e2d3b02a04ad6e2ceb35d91f0305d51eac4ed30a6925db9fcf37d2b8521a2cf'\n",
      " 'd87ce5040893986019ea58ba1d1df033b8bc6dc03c11634b7bd47c36a5f5c8623993a63f306321dd0f3b69284b006a2643bc4e7ae55d71131389fc176b3db39b'\n",
      " '01b16f9f7ff29b48b1ee0d1a89d1eb9662474e5eedb8c2d967ea43793d3f9d03a560771374901302484d7598e771f39abbd8766c54f38753186b3f17eee9fb48'\n",
      " '6722de45f1c29af6057973492fed22c05e63a7bc90203d5120b82dc2ced581c9eb915b1c8fbea5c8f30dbac16327afa2c41c05827babbd269c1379706c85f6c1'\n",
      " '3b40a82f208b8112f58feacc2881bb0647161c358543eaa4ce4e5a830a5612a15146f2d1d84a8b8d3f09f2afa2ce59ba781fee7a52c1827e5b350dc4cc1b067b'\n",
      " '4b73d53e6e26722b953f6e77a52cdcf46a4290c7c60cd0620c96010ec635f087c348f0a3f76221e1ed2fcde0f200cf6e25657653a10137422915f1e38ae0f128'] \n",
      "\n",
      "Column <registerdate> 65748\n",
      "['2021-03-09T16:31:15.000000000' '2021-03-09T14:33:07.000000000'\n",
      " '2021-03-09T12:00:01.000000000' '2021-03-09T22:23:12.000000000'\n",
      " '2021-03-09T10:32:36.000000000' '2021-03-09T16:13:05.000000000'\n",
      " '2021-03-09T02:55:18.000000000' '2021-03-10T21:31:39.000000000'\n",
      " '2021-03-10T04:02:38.000000000' '2021-03-10T00:23:17.000000000'] \n",
      "\n",
      "Column <enddate> 65810\n",
      "['2021-04-09T16:31:15.000000000' '2021-04-09T14:33:07.000000000'\n",
      " '2021-04-09T12:00:01.000000000' '2021-04-09T22:23:12.000000000'\n",
      " '2021-04-09T10:32:36.000000000' '2021-04-09T16:13:05.000000000'\n",
      " '2021-04-09T02:55:18.000000000' '2021-04-10T21:31:39.000000000'\n",
      " '2021-04-10T04:02:38.000000000' '2021-04-10T00:23:17.000000000'] \n",
      "\n",
      "Column <productcode> 88\n",
      "['pk_1487' 'pk_2026' 'pk_1508' 'pk_1489' 'pk_1488' 'pk_1136' 'pk_2025'\n",
      " 'pk_1506' 'pk_2005' 'pk_2029'] \n",
      "\n",
      "Column <pgamount> 50\n",
      "[7.900e+03 1.000e+02 1.090e+04 9.990e+00 1.390e+04 1.099e+01 1.349e+01\n",
      " 6.700e+03 1.649e+01 6.950e+03] \n",
      "\n",
      "Column <chargetypeid> 10\n",
      "[134 190 151 132 140 180 131 170 160 121] \n",
      "\n",
      "Column <concurrentwatchcount> 4\n",
      "[1 2 4 3] \n",
      "\n",
      "Column <promo_100> 2\n",
      "[nan 'O'] \n",
      "\n",
      "Column <coinReceived> 2\n",
      "[nan 'O'] \n",
      "\n",
      "Column <Repurchase> 2\n",
      "['X' 'O'] \n",
      "\n",
      "Column <devicetypeid> 11\n",
      "['android' 'pc' 'ios' 'mobile' 'lgtv' 'sstv' 'ott' 'lgchplus' 'smarttv'\n",
      " 'ssfamilyhub'] \n",
      "\n",
      "Column <isauth> 2\n",
      "['Y' nan] \n",
      "\n",
      "Column <gender> 3\n",
      "['F' nan 'M'] \n",
      "\n",
      "Column <agegroup> 22\n",
      "[45 25 35 55 40 20  0 30 50 60] \n",
      "\n"
     ]
    }
   ],
   "source": [
    "# Column 별 unique values\n",
    "for column in df_service.columns.values.tolist():\n",
    "    unique_value_list = df_service[column].unique()\n",
    "    print(f'Column <{column}>', len(unique_value_list))\n",
    "    print(unique_value_list[:10], '\\n')"
   ]
  },
  {
   "cell_type": "code",
   "execution_count": 9,
   "metadata": {
    "scrolled": true
   },
   "outputs": [
    {
     "name": "stdout",
     "output_type": "stream",
     "text": [
      "Column <uno> 67306\n",
      "['b3d6846338d0e98b7e0fcf735c49271ff59df86bfd78f3d75c03d99136f8e0d07bb55627eac3e9a288c20c74cee8641bbdff95108d737b7df108f281d6bbba29'\n",
      " '4ec765db76545c1d6dda9f421590bf9d02f584009f8d92100afeef4594ee72306b661c43d19086f82f85f02bbb5716280f52bb7f0fde823a0656a830a0e6e41f'\n",
      " '304cacae950e53952afebff0b212f5bfef6a5a0abb4c450879e853055b88063bfc32ee48bea746e952c79f1e1d619db50570991d74d5e19afeb32c5ce1b630dc'\n",
      " '4f86d917c53cb6bd8949f76dba7260311e8c1748748a028efd353137a1d459f7c12f6c2af10aec81da39c3bfe8a2d913fd24c26403b0aecba90b11ed2611ad5c'\n",
      " '445fb8813626d3d49b94b5be58cd76d80ed31fa94f8372618142c34471e001896e2d3b02a04ad6e2ceb35d91f0305d51eac4ed30a6925db9fcf37d2b8521a2cf'\n",
      " 'd87ce5040893986019ea58ba1d1df033b8bc6dc03c11634b7bd47c36a5f5c8623993a63f306321dd0f3b69284b006a2643bc4e7ae55d71131389fc176b3db39b'\n",
      " '01b16f9f7ff29b48b1ee0d1a89d1eb9662474e5eedb8c2d967ea43793d3f9d03a560771374901302484d7598e771f39abbd8766c54f38753186b3f17eee9fb48'\n",
      " '6722de45f1c29af6057973492fed22c05e63a7bc90203d5120b82dc2ced581c9eb915b1c8fbea5c8f30dbac16327afa2c41c05827babbd269c1379706c85f6c1'\n",
      " '3b40a82f208b8112f58feacc2881bb0647161c358543eaa4ce4e5a830a5612a15146f2d1d84a8b8d3f09f2afa2ce59ba781fee7a52c1827e5b350dc4cc1b067b'\n",
      " '4b73d53e6e26722b953f6e77a52cdcf46a4290c7c60cd0620c96010ec635f087c348f0a3f76221e1ed2fcde0f200cf6e25657653a10137422915f1e38ae0f128'] \n",
      "\n",
      "Column <dates> 32\n",
      "['2021-03-20T00:00:00.000000000' '2021-03-13T00:00:00.000000000'\n",
      " '2021-03-16T00:00:00.000000000' '2021-03-18T00:00:00.000000000'\n",
      " '2021-03-12T00:00:00.000000000' '2021-03-14T00:00:00.000000000'\n",
      " '2021-03-28T00:00:00.000000000' '2021-03-21T00:00:00.000000000'\n",
      " '2021-03-26T00:00:00.000000000' '2021-03-09T00:00:00.000000000'] \n",
      "\n",
      "Column <hour> 24\n",
      "[17 15  6 19  7 10  9  5 21 18] \n",
      "\n",
      "Column <channeltype> 4\n",
      "['V' 'M' 'L' 'E'] \n",
      "\n",
      "Column <programid> 6381\n",
      "['S01_P453505934' 'M_T60403G' 'K02_T2020-0370' 'S01_V2000009613'\n",
      " 'K02_T2020-1631' 'MOVIE' 'F2401_F24000000004' 'M_T70613G' 'M_T50132S'\n",
      " 'M_T70590S'] \n",
      "\n",
      "Column <title> 12361\n",
      "['펜트하우스 2' '밥이 되어라' '오! 삼광빌라!' '미운 우리 새끼' '일일드라마 미스 몬테크리스토'\n",
      " '스티브 잡스: 미래를 읽는 천재' '아직 낫서른' '아무튼 출근!' '집콕콘서트' '(파일럿)아무튼 출근!'] \n",
      "\n",
      "Column <contentid> 138168\n",
      "['S01_E454434900.1' 'M_EP202103053628.1' 'S01_E454336041.1'\n",
      " 'K02_PS-2021033047-01-000.1' 'M_EP202103123716.1' 'S01_E454130151.1'\n",
      " 'S01_E454542949.1' 'S01_E454229316.1' 'S01_E454229327.1'\n",
      " 'PQV_S01_E454448970.1'] \n",
      "\n",
      "Column <contentnumber> 5162\n",
      "['9' '42' '7' '50' '43' '4' '12' '5' '6' '234'] \n",
      "\n",
      "Column <section> 20\n",
      "['1' '2' 'M08' '3' '9' 'M06' 'M02' 'M01' 'M04' 'M05'] \n",
      "\n",
      "Column <viewtime> 882\n",
      "[1650 1670 1800 2080 1680   10 1290  480   40 1720] \n",
      "\n",
      "Column <devicetype> 14\n",
      "[ 4  1 32 21  2  5 27  3 12  6] \n",
      "\n"
     ]
    }
   ],
   "source": [
    "for column in df_bookmark.columns.values.tolist():\n",
    "    unique_value_list = df_bookmark[column].unique()\n",
    "    print(f'Column <{column}>', len(unique_value_list))\n",
    "    print(unique_value_list[:10], '\\n')"
   ]
  },
  {
   "cell_type": "code",
   "execution_count": 10,
   "metadata": {},
   "outputs": [
    {
     "name": "stdout",
     "output_type": "stream",
     "text": [
      "Column <uno> 9081\n",
      "['d9c963233a89d1055ef15db12f4136a8bbf791a84e294b08a53191a91120b4a50870f538858eb3e49155edaa5742129c7bcebe00a1b59122f27426a8fa4e37bb'\n",
      " 'a708d5411f7268b31202f0834cfaa7dbc0e312282223eb78a64d407e98cec09b071d9edf2db3ac951ba4970672c0daee58d8c2162315424f258e4744b507f737'\n",
      " '951cb354d51cbd25f89b7062ff645e664f72380bd3d62043fe6536029484bde6eab2d2105649c63a18e91c031844840c196860fe6bd35b4095a36bfc835d383c'\n",
      " '00520e6bb5897554e091dd28cd4a126634011fa0ff540b52abc8f86efd52a9a53030ecf4f28b04a36570ff0d11a1c785a16d33035bfa428340a18d71336cbf09'\n",
      " '8b8b015aaf8534bae4da18fa2ff09e1531baf89c4063f06537803beaa49f43200e71bba2b7cf78fa3f99b0ded442173f8bc0230ee50041c898c51d3d04e5ac4f'\n",
      " '52b8258cca97835291387e1e1d163c887f0e0319a9c06998bac381708f0606a18cf372b8c368fea8bf40485fe3f144d65e4aa511f6cb4815024e520fa47930dc'\n",
      " '2aae01ce1c9f03a83250ea56ef0bd080c65b34d65be91cf8af719e6634d16c95bc127942860c139ab726eb59013bfa4aa300e13188d05a13acf459ee28ab9631'\n",
      " '4652987fc3cebe3556c6c86df8a554454e2356f4d86448c27531481b97dd7ee2b363ec48866034513d8fc107e360516ada2eb9d304332274c9c40b765ab83890'\n",
      " '23d628d7ce0fc7e212252e02a82e5f79314255ed93582315e4ab9d56767fd2945e5d9f26b827c8af8fc9339a96965cf872b0c9834fe8a2a041d803fc44902304'\n",
      " 'f1a085533964c37449d74b0bd52807ef4d45e5f43bf01c7438a0ffcb0911432f612aa22abdf0a9f8abdac9822d8366f35b15666acf1059008ba09358534efb21'] \n",
      "\n",
      "Column <productcode> 670\n",
      "['co_391' 'pk_1960' 'pk_2003' 'ii_80332' 'ii_32741' 'ii_70259' 'ic_44'\n",
      " 'pk_1487' 'ii_76565' 'ii_46504'] \n",
      "\n",
      "Column <registerdate> 10892\n",
      "['2021-03-28 21:55:10' '2021-03-28 22:08:20' '2021-03-28 20:29:24'\n",
      " '2021-03-28 18:35:36' '2021-03-28 18:38:36' '2021-03-28 19:14:43'\n",
      " '2021-03-28 19:17:40' '2021-03-28 10:28:41' '2021-03-28 10:22:29'\n",
      " '2021-03-28 18:38:55'] \n",
      "\n",
      "Column <paymenttypeid> 6\n",
      "[ 1  2  9  3 10  4] \n",
      "\n",
      "Column <currencytypeid> 1\n",
      "[1] \n",
      "\n",
      "Column <totalamount> 173\n",
      "[10000.  7150.  4950. 11000.  1100.  1200. -1500.  1000. -2800. -2300.] \n",
      "\n",
      "Column <pgamount> 168\n",
      "[    0.  1350. 10500.   100. 10000.   590.  1440.   400.  2100. -3000.] \n",
      "\n",
      "Column <coinamount> 280\n",
      "[    0.  7150.  3600.   500.  1100.  1200.  1000. -1500. -2800. -2300.] \n",
      "\n",
      "Column <bonusamount> 48\n",
      "[ 10000.      0.   1000.   2300. -10000.   8000.   4000.   3750.    500.\n",
      "   5460.] \n",
      "\n",
      "Column <discountamount> 1\n",
      "[0.] \n",
      "\n",
      "Column <productname> 711\n",
      "[nan '영화 (자막) 어벤져스: 엔드게임 + 부가영상 패키지' '영화 (자막)+(더빙) 명탐정 피카츄 패키지'\n",
      " '(자막) 톰과 제리' '토르: 천둥의 신' '추격자' '펜트하우스 2_12' 'Basic' '라라랜드' '아바타'] \n",
      "\n",
      "Column <coinexpiredate> 364\n",
      "['2021-04-29 23:59:59' nan '2021-04-27 16:07:53' '2021-05-30 23:59:59'\n",
      " '2021-04-02 23:59:59' '2021-06-01 23:59:59' '2026-03-01 05:22:04'\n",
      " '2026-03-01 14:35:33' '2026-03-01 17:28:00' '2026-03-01 02:24:46'] \n",
      "\n"
     ]
    }
   ],
   "source": [
    "for column in df_coin.columns.values.tolist():\n",
    "    unique_value_list = df_coin[column].unique()\n",
    "    print(f'Column <{column}>', len(unique_value_list))\n",
    "    print(unique_value_list[:10], '\\n')"
   ]
  },
  {
   "cell_type": "code",
   "execution_count": null,
   "metadata": {},
   "outputs": [],
   "source": []
  },
  {
   "cell_type": "markdown",
   "metadata": {},
   "source": [
    "## 서비스, 시청 이력 데이터 결측치 및 이상치 처리"
   ]
  },
  {
   "cell_type": "code",
   "execution_count": 11,
   "metadata": {},
   "outputs": [],
   "source": [
    "filled_service = df_service"
   ]
  },
  {
   "cell_type": "code",
   "execution_count": 13,
   "metadata": {},
   "outputs": [
    {
     "data": {
      "text/html": [
       "<div>\n",
       "<style scoped>\n",
       "    .dataframe tbody tr th:only-of-type {\n",
       "        vertical-align: middle;\n",
       "    }\n",
       "\n",
       "    .dataframe tbody tr th {\n",
       "        vertical-align: top;\n",
       "    }\n",
       "\n",
       "    .dataframe thead th {\n",
       "        text-align: right;\n",
       "    }\n",
       "</style>\n",
       "<table border=\"1\" class=\"dataframe\">\n",
       "  <thead>\n",
       "    <tr style=\"text-align: right;\">\n",
       "      <th></th>\n",
       "      <th>missing num</th>\n",
       "      <th>%</th>\n",
       "    </tr>\n",
       "  </thead>\n",
       "  <tbody>\n",
       "    <tr>\n",
       "      <th>coinReceived</th>\n",
       "      <td>57144</td>\n",
       "      <td>81.976244</td>\n",
       "    </tr>\n",
       "    <tr>\n",
       "      <th>promo_100</th>\n",
       "      <td>33979</td>\n",
       "      <td>48.744764</td>\n",
       "    </tr>\n",
       "    <tr>\n",
       "      <th>isauth</th>\n",
       "      <td>17981</td>\n",
       "      <td>25.794744</td>\n",
       "    </tr>\n",
       "    <tr>\n",
       "      <th>gender</th>\n",
       "      <td>11480</td>\n",
       "      <td>16.468698</td>\n",
       "    </tr>\n",
       "    <tr>\n",
       "      <th>agegroup</th>\n",
       "      <td>0</td>\n",
       "      <td>0.000000</td>\n",
       "    </tr>\n",
       "    <tr>\n",
       "      <th>devicetypeid</th>\n",
       "      <td>0</td>\n",
       "      <td>0.000000</td>\n",
       "    </tr>\n",
       "    <tr>\n",
       "      <th>Repurchase</th>\n",
       "      <td>0</td>\n",
       "      <td>0.000000</td>\n",
       "    </tr>\n",
       "    <tr>\n",
       "      <th>concurrentwatchcount</th>\n",
       "      <td>0</td>\n",
       "      <td>0.000000</td>\n",
       "    </tr>\n",
       "    <tr>\n",
       "      <th>chargetypeid</th>\n",
       "      <td>0</td>\n",
       "      <td>0.000000</td>\n",
       "    </tr>\n",
       "    <tr>\n",
       "      <th>pgamount</th>\n",
       "      <td>0</td>\n",
       "      <td>0.000000</td>\n",
       "    </tr>\n",
       "    <tr>\n",
       "      <th>productcode</th>\n",
       "      <td>0</td>\n",
       "      <td>0.000000</td>\n",
       "    </tr>\n",
       "    <tr>\n",
       "      <th>enddate</th>\n",
       "      <td>0</td>\n",
       "      <td>0.000000</td>\n",
       "    </tr>\n",
       "    <tr>\n",
       "      <th>registerdate</th>\n",
       "      <td>0</td>\n",
       "      <td>0.000000</td>\n",
       "    </tr>\n",
       "    <tr>\n",
       "      <th>uno</th>\n",
       "      <td>0</td>\n",
       "      <td>0.000000</td>\n",
       "    </tr>\n",
       "  </tbody>\n",
       "</table>\n",
       "</div>"
      ],
      "text/plain": [
       "                      missing num          %\n",
       "coinReceived                57144  81.976244\n",
       "promo_100                   33979  48.744764\n",
       "isauth                      17981  25.794744\n",
       "gender                      11480  16.468698\n",
       "agegroup                        0   0.000000\n",
       "devicetypeid                    0   0.000000\n",
       "Repurchase                      0   0.000000\n",
       "concurrentwatchcount            0   0.000000\n",
       "chargetypeid                    0   0.000000\n",
       "pgamount                        0   0.000000\n",
       "productcode                     0   0.000000\n",
       "enddate                         0   0.000000\n",
       "registerdate                    0   0.000000\n",
       "uno                             0   0.000000"
      ]
     },
     "execution_count": 13,
     "metadata": {},
     "output_type": "execute_result"
    }
   ],
   "source": [
    "service_missing_info = pd.DataFrame(filled_service.isnull().sum().sort_values(ascending=False), columns=['missing num'])\n",
    "service_missing_info['%'] = service_missing_info['missing num']/filled_service.shape[0]*100\n",
    "service_missing_info"
   ]
  },
  {
   "cell_type": "code",
   "execution_count": 14,
   "metadata": {},
   "outputs": [
    {
     "data": {
      "text/plain": [
       "F    36591\n",
       "M    21637\n",
       "N    11480\n",
       "Name: gender, dtype: int64"
      ]
     },
     "execution_count": 14,
     "metadata": {},
     "output_type": "execute_result"
    }
   ],
   "source": [
    "# gender null --> N\n",
    "filled_service['gender'] = filled_service['gender'].fillna('N')\n",
    "filled_service['gender'].value_counts()"
   ]
  },
  {
   "cell_type": "code",
   "execution_count": 15,
   "metadata": {},
   "outputs": [
    {
     "data": {
      "text/plain": [
       "0        608\n",
       "5          2\n",
       "10         1\n",
       "15      1227\n",
       "20      9562\n",
       "25     12099\n",
       "30     10435\n",
       "35      6905\n",
       "40     19281\n",
       "45      3739\n",
       "50      2725\n",
       "55      1385\n",
       "60       885\n",
       "65       414\n",
       "70       209\n",
       "75       129\n",
       "80        70\n",
       "85        20\n",
       "90         9\n",
       "95         1\n",
       "120        1\n",
       "950        1\n",
       "Name: agegroup, dtype: int64"
      ]
     },
     "execution_count": 15,
     "metadata": {},
     "output_type": "execute_result"
    }
   ],
   "source": [
    "# agegroup outlier (0살, 950살) --> mean\n",
    "filled_service['agegroup'].value_counts().sort_index()"
   ]
  },
  {
   "cell_type": "code",
   "execution_count": 16,
   "metadata": {},
   "outputs": [
    {
     "data": {
      "text/plain": [
       "(69708, 14)"
      ]
     },
     "execution_count": 16,
     "metadata": {},
     "output_type": "execute_result"
    }
   ],
   "source": [
    "filled_service.shape"
   ]
  },
  {
   "cell_type": "code",
   "execution_count": 17,
   "metadata": {},
   "outputs": [
    {
     "data": {
      "text/plain": [
       "33.74035803701935"
      ]
     },
     "execution_count": 17,
     "metadata": {},
     "output_type": "execute_result"
    }
   ],
   "source": [
    "age_mean = filled_service.loc[(filled_service['agegroup']<950) & (filled_service['agegroup']>0), 'agegroup'].mean()\n",
    "age_mean"
   ]
  },
  {
   "cell_type": "code",
   "execution_count": 18,
   "metadata": {},
   "outputs": [
    {
     "data": {
      "text/plain": [
       "5          2\n",
       "10         1\n",
       "15      1227\n",
       "20      9562\n",
       "25     12099\n",
       "30     11044\n",
       "35      6905\n",
       "40     19281\n",
       "45      3739\n",
       "50      2725\n",
       "55      1385\n",
       "60       885\n",
       "65       414\n",
       "70       209\n",
       "75       129\n",
       "80        70\n",
       "85        20\n",
       "90         9\n",
       "95         1\n",
       "120        1\n",
       "Name: agegroup, dtype: int64"
      ]
     },
     "execution_count": 18,
     "metadata": {},
     "output_type": "execute_result"
    }
   ],
   "source": [
    "filled_service['agegroup'] = filled_service['agegroup'].replace(950, 30)\n",
    "filled_service['agegroup'] = filled_service['agegroup'].replace(0, 30)\n",
    "filled_service['agegroup'].value_counts().sort_index()"
   ]
  },
  {
   "cell_type": "code",
   "execution_count": 27,
   "metadata": {
    "scrolled": true
   },
   "outputs": [
    {
     "data": {
      "text/plain": [
       "7.69            3\n",
       "9.89           17\n",
       "9.99         8313\n",
       "10.99         266\n",
       "13.19          12\n",
       "13.49        2192\n",
       "14.29          64\n",
       "16.49         861\n",
       "17.59           7\n",
       "18.69           5\n",
       "19.79           2\n",
       "20.49           4\n",
       "20.89           3\n",
       "21.99           8\n",
       "24.19           3\n",
       "26.39           1\n",
       "27.49           3\n",
       "29.69           2\n",
       "32.99           1\n",
       "100.00      35729\n",
       "2900.00         2\n",
       "3350.00        16\n",
       "3950.00       487\n",
       "4900.00         9\n",
       "5450.00       134\n",
       "5700.00         2\n",
       "5900.00        38\n",
       "6210.00        19\n",
       "6700.00       262\n",
       "6900.00        99\n",
       "6950.00       168\n",
       "7900.00     12679\n",
       "8100.00         1\n",
       "8900.00         4\n",
       "9000.00         9\n",
       "9200.00         2\n",
       "9810.00         1\n",
       "9900.00         5\n",
       "10300.00        3\n",
       "10400.00        1\n",
       "10900.00     5789\n",
       "11550.00        1\n",
       "11610.00        1\n",
       "11800.00        2\n",
       "12900.00        2\n",
       "13750.00      119\n",
       "13900.00     2350\n",
       "14200.00        1\n",
       "16400.00        2\n",
       "16900.00        4\n",
       "Name: pgamount, dtype: int64"
      ]
     },
     "execution_count": 27,
     "metadata": {},
     "output_type": "execute_result"
    }
   ],
   "source": [
    "# pgamount US Dollar --> 원화\n",
    "filled_service['pgamount'].value_counts().sort_index()"
   ]
  },
  {
   "cell_type": "code",
   "execution_count": 28,
   "metadata": {
    "scrolled": true
   },
   "outputs": [
    {
     "data": {
      "text/plain": [
       "100.0      35729\n",
       "2900.0         2\n",
       "3350.0        16\n",
       "3950.0       487\n",
       "4900.0         9\n",
       "5450.0       134\n",
       "5700.0         2\n",
       "5900.0        38\n",
       "6210.0        19\n",
       "6700.0       262\n",
       "6900.0        99\n",
       "6950.0       168\n",
       "7900.0     12679\n",
       "8100.0         1\n",
       "8612.8         3\n",
       "8900.0         4\n",
       "9000.0         9\n",
       "9200.0         2\n",
       "9810.0         1\n",
       "9900.0         5\n",
       "10300.0        3\n",
       "10400.0        1\n",
       "10900.0     5789\n",
       "11076.8       17\n",
       "11188.8     8313\n",
       "11550.0        1\n",
       "11610.0        1\n",
       "11800.0        2\n",
       "12308.8      266\n",
       "12900.0        2\n",
       "13750.0      119\n",
       "13900.0     2350\n",
       "14200.0        1\n",
       "14772.8       12\n",
       "15108.8     2192\n",
       "16004.8       64\n",
       "16400.0        2\n",
       "16900.0        4\n",
       "18468.8      861\n",
       "19700.8        7\n",
       "20932.8        5\n",
       "22164.8        2\n",
       "22948.8        4\n",
       "23396.8        3\n",
       "24628.8        8\n",
       "27092.8        3\n",
       "29556.8        1\n",
       "30788.8        3\n",
       "33252.8        2\n",
       "36948.8        1\n",
       "Name: pgamount, dtype: int64"
      ]
     },
     "execution_count": 28,
     "metadata": {},
     "output_type": "execute_result"
    }
   ],
   "source": [
    "filled_service.loc[(filled_service['pgamount'] < 100), 'pgamount'] = filled_service['pgamount'] * 1120\n",
    "filled_service['pgamount'].value_counts().sort_index()"
   ]
  },
  {
   "cell_type": "code",
   "execution_count": 29,
   "metadata": {},
   "outputs": [
    {
     "data": {
      "text/plain": [
       "uno                         0\n",
       "registerdate                0\n",
       "enddate                     0\n",
       "productcode                 0\n",
       "pgamount                    0\n",
       "chargetypeid                0\n",
       "concurrentwatchcount        0\n",
       "promo_100               33979\n",
       "coinReceived            57144\n",
       "Repurchase                  0\n",
       "devicetypeid                0\n",
       "isauth                  17981\n",
       "gender                      0\n",
       "agegroup                    0\n",
       "dtype: int64"
      ]
     },
     "execution_count": 29,
     "metadata": {},
     "output_type": "execute_result"
    }
   ],
   "source": [
    "# 나머지 결측치는 X로 처리 (O or null인 경우)\n",
    "filled_service.isnull().sum()"
   ]
  },
  {
   "cell_type": "code",
   "execution_count": 31,
   "metadata": {},
   "outputs": [
    {
     "data": {
      "text/plain": [
       "uno                     0\n",
       "registerdate            0\n",
       "enddate                 0\n",
       "productcode             0\n",
       "pgamount                0\n",
       "chargetypeid            0\n",
       "concurrentwatchcount    0\n",
       "promo_100               0\n",
       "coinReceived            0\n",
       "Repurchase              0\n",
       "devicetypeid            0\n",
       "isauth                  0\n",
       "gender                  0\n",
       "agegroup                0\n",
       "dtype: int64"
      ]
     },
     "execution_count": 31,
     "metadata": {},
     "output_type": "execute_result"
    }
   ],
   "source": [
    "filled_service = filled_service.fillna('X')\n",
    "filled_service.isnull().sum()"
   ]
  },
  {
   "cell_type": "code",
   "execution_count": null,
   "metadata": {},
   "outputs": [],
   "source": []
  },
  {
   "cell_type": "code",
   "execution_count": null,
   "metadata": {},
   "outputs": [],
   "source": []
  },
  {
   "cell_type": "markdown",
   "metadata": {},
   "source": [
    "## code 데이터 읽기\n",
    "  - content info\n",
    "  - movie info"
   ]
  },
  {
   "cell_type": "code",
   "execution_count": null,
   "metadata": {},
   "outputs": [],
   "source": [
    "df_content_info = pd.read_csv(\"Code/content_info.csv\")\n",
    "df_content_info.sample(3)"
   ]
  },
  {
   "cell_type": "code",
   "execution_count": null,
   "metadata": {},
   "outputs": [],
   "source": [
    "df_movie_info = pd.read_csv(\"Code/movie_info.csv\")\n",
    "df_movie_info.sample(3)"
   ]
  },
  {
   "cell_type": "code",
   "execution_count": null,
   "metadata": {},
   "outputs": [],
   "source": []
  }
 ],
 "metadata": {
  "kernelspec": {
   "display_name": "Python 3",
   "language": "python",
   "name": "python3"
  },
  "language_info": {
   "codemirror_mode": {
    "name": "ipython",
    "version": 3
   },
   "file_extension": ".py",
   "mimetype": "text/x-python",
   "name": "python",
   "nbconvert_exporter": "python",
   "pygments_lexer": "ipython3",
   "version": "3.8.3"
  }
 },
 "nbformat": 4,
 "nbformat_minor": 4
}
