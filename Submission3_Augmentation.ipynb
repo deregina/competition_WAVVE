{
 "cells": [
  {
   "cell_type": "code",
   "execution_count": null,
   "metadata": {},
   "outputs": [],
   "source": [
    "import pandas as pd\n",
    "import numpy as np\n",
    "from sklearn.preprocessing import LabelEncoder\n",
    "from sklearn.model_selection import train_test_split\n",
    "from dateutil.relativedelta import relativedelta\n",
    "from datetime import *"
   ]
  },
  {
   "cell_type": "code",
   "execution_count": null,
   "metadata": {},
   "outputs": [],
   "source": [
    "pd.set_option('display.max_columns', None)\n",
    "pd.set_option('display.max_rows', None)"
   ]
  },
  {
   "cell_type": "code",
   "execution_count": null,
   "metadata": {},
   "outputs": [],
   "source": [
    "import os\n",
    "os.getcwd()"
   ]
  },
  {
   "cell_type": "markdown",
   "metadata": {},
   "source": [
    "## 서비스 데이터 읽기 : 69,708 rows, 14 columns\n",
    "  - Rephurchase 정보 포함"
   ]
  },
  {
   "cell_type": "code",
   "execution_count": null,
   "metadata": {},
   "outputs": [],
   "source": [
    "df_service = pd.read_csv('Train/train_service.csv', parse_dates=['registerdate', 'enddate'], infer_datetime_format=True)\n",
    "df_service.sample(3)"
   ]
  },
  {
   "cell_type": "code",
   "execution_count": null,
   "metadata": {},
   "outputs": [],
   "source": [
    "df_service.info()"
   ]
  },
  {
   "cell_type": "markdown",
   "metadata": {},
   "source": [
    "## 서비스 데이터 Unique Value"
   ]
  },
  {
   "cell_type": "code",
   "execution_count": null,
   "metadata": {
    "scrolled": false
   },
   "outputs": [],
   "source": [
    "# Column 별 unique values\n",
    "for column in df_service.columns.values.tolist():\n",
    "    unique_value_list = df_service[column].unique()\n",
    "    print(f'Column <{column}>', len(unique_value_list))\n",
    "    print(unique_value_list[:10], '\\n')"
   ]
  },
  {
   "cell_type": "markdown",
   "metadata": {},
   "source": [
    "## 서비스 데이터 결측치 및 이상치 처리"
   ]
  },
  {
   "cell_type": "code",
   "execution_count": null,
   "metadata": {},
   "outputs": [],
   "source": [
    "filled_service = df_service"
   ]
  },
  {
   "cell_type": "code",
   "execution_count": null,
   "metadata": {},
   "outputs": [],
   "source": [
    "service_missing_info = pd.DataFrame(filled_service.isnull().sum().sort_values(ascending=False), columns=['missing num'])\n",
    "service_missing_info['%'] = service_missing_info['missing num']/filled_service.shape[0]*100\n",
    "service_missing_info"
   ]
  },
  {
   "cell_type": "code",
   "execution_count": null,
   "metadata": {},
   "outputs": [],
   "source": [
    "# gender null --> N\n",
    "filled_service['gender'] = filled_service['gender'].fillna('N')\n",
    "filled_service['gender'].value_counts()"
   ]
  },
  {
   "cell_type": "code",
   "execution_count": null,
   "metadata": {
    "scrolled": true
   },
   "outputs": [],
   "source": [
    "# agegroup outlier (0살, 950살) --> mean\n",
    "filled_service['agegroup'].value_counts().sort_index()"
   ]
  },
  {
   "cell_type": "code",
   "execution_count": null,
   "metadata": {},
   "outputs": [],
   "source": [
    "filled_service.shape"
   ]
  },
  {
   "cell_type": "code",
   "execution_count": null,
   "metadata": {},
   "outputs": [],
   "source": [
    "age_mean = filled_service.loc[(filled_service['agegroup']<950) & (filled_service['agegroup']>0), 'agegroup'].mean()\n",
    "age_mean"
   ]
  },
  {
   "cell_type": "code",
   "execution_count": null,
   "metadata": {},
   "outputs": [],
   "source": [
    "filled_service['agegroup'] = filled_service['agegroup'].replace(950, 30)\n",
    "filled_service['agegroup'] = filled_service['agegroup'].replace(0, 30)\n",
    "filled_service['agegroup'].value_counts().sort_index()"
   ]
  },
  {
   "cell_type": "code",
   "execution_count": null,
   "metadata": {},
   "outputs": [],
   "source": [
    "# pgamount US Dollar --> 원화\n",
    "filled_service['pgamount'].value_counts().sort_index()"
   ]
  },
  {
   "cell_type": "code",
   "execution_count": null,
   "metadata": {
    "scrolled": true
   },
   "outputs": [],
   "source": [
    "filled_service.loc[(filled_service['pgamount'] < 100), 'pgamount'] = filled_service['pgamount'] * 1120\n",
    "filled_service['pgamount'].value_counts().sort_index()"
   ]
  },
  {
   "cell_type": "code",
   "execution_count": null,
   "metadata": {
    "scrolled": true
   },
   "outputs": [],
   "source": [
    "# 나머지 결측치는 X로 처리 (O or null인 경우)\n",
    "filled_service.isnull().sum()"
   ]
  },
  {
   "cell_type": "code",
   "execution_count": null,
   "metadata": {
    "scrolled": true
   },
   "outputs": [],
   "source": [
    "filled_service = filled_service.fillna('X')\n",
    "filled_service.isnull().sum()"
   ]
  },
  {
   "cell_type": "code",
   "execution_count": null,
   "metadata": {},
   "outputs": [],
   "source": [
    "os.getcwd()"
   ]
  },
  {
   "cell_type": "code",
   "execution_count": null,
   "metadata": {},
   "outputs": [],
   "source": [
    "filled_service.head(5)"
   ]
  },
  {
   "cell_type": "code",
   "execution_count": null,
   "metadata": {},
   "outputs": [],
   "source": []
  },
  {
   "cell_type": "markdown",
   "metadata": {},
   "source": [
    "## numeric으로 전환"
   ]
  },
  {
   "cell_type": "code",
   "execution_count": null,
   "metadata": {},
   "outputs": [],
   "source": [
    "numeric_service = filled_service.copy()\n",
    "numeric_service['Repurchase'].replace('O', 0, inplace=True)\n",
    "numeric_service['Repurchase'].replace('X', 1, inplace=True)\n",
    "numeric_service.rename(columns={'Repurchase':\"Unsubscription\"}, inplace=True)\n",
    "numeric_service.head(5)"
   ]
  },
  {
   "cell_type": "code",
   "execution_count": null,
   "metadata": {},
   "outputs": [],
   "source": [
    "numeric_service.info()"
   ]
  },
  {
   "cell_type": "code",
   "execution_count": null,
   "metadata": {},
   "outputs": [],
   "source": [
    "column_list = numeric_service.columns.values.tolist()\n",
    "column_list.remove('uno')\n",
    "column_list.remove('productcode')\n",
    "\n",
    "for col in column_list:\n",
    "    if numeric_service[col].dtype == 'object':\n",
    "        lbl = LabelEncoder()\n",
    "        lbl.fit(list(numeric_service[col].values))\n",
    "        numeric_service[col] = lbl.transform(numeric_service[col].values)\n",
    "        \n",
    "numeric_service.sample(5)"
   ]
  },
  {
   "cell_type": "code",
   "execution_count": null,
   "metadata": {
    "scrolled": true
   },
   "outputs": [],
   "source": [
    "numeric_service.info()"
   ]
  },
  {
   "cell_type": "code",
   "execution_count": null,
   "metadata": {},
   "outputs": [],
   "source": []
  },
  {
   "cell_type": "code",
   "execution_count": null,
   "metadata": {},
   "outputs": [],
   "source": []
  },
  {
   "cell_type": "markdown",
   "metadata": {},
   "source": [
    "## numeric_service 저장"
   ]
  },
  {
   "cell_type": "code",
   "execution_count": null,
   "metadata": {
    "scrolled": true
   },
   "outputs": [],
   "source": [
    "# numeric_service.to_csv(path_or_buf=\"Train/numeric_service.csv\", index=False)"
   ]
  },
  {
   "cell_type": "markdown",
   "metadata": {},
   "source": [
    "## numeric_service 불러오기"
   ]
  },
  {
   "cell_type": "code",
   "execution_count": null,
   "metadata": {},
   "outputs": [],
   "source": [
    "# numeric_service = pd.read_csv(\"Train/numeric_service.csv\")"
   ]
  },
  {
   "cell_type": "code",
   "execution_count": null,
   "metadata": {
    "scrolled": true
   },
   "outputs": [],
   "source": [
    "# numeric_service"
   ]
  },
  {
   "cell_type": "code",
   "execution_count": null,
   "metadata": {},
   "outputs": [],
   "source": [
    "# numeric_service.columns"
   ]
  },
  {
   "cell_type": "code",
   "execution_count": null,
   "metadata": {},
   "outputs": [],
   "source": [
    "numeric_service.info()"
   ]
  },
  {
   "cell_type": "markdown",
   "metadata": {},
   "source": [
    "## 시청 이력 데이터 읽기 : 7,987,609 rows"
   ]
  },
  {
   "cell_type": "code",
   "execution_count": null,
   "metadata": {
    "scrolled": true
   },
   "outputs": [],
   "source": [
    "df_bookmark = pd.read_csv(\"Train/train_bookmark.csv\", parse_dates=['dates'], infer_datetime_format=True)\n"
   ]
  },
  {
   "cell_type": "code",
   "execution_count": null,
   "metadata": {},
   "outputs": [],
   "source": [
    "ex_uno = df_bookmark.loc[0, 'uno']\n",
    "df_bookmark[df_bookmark['uno']==ex_uno]"
   ]
  },
  {
   "cell_type": "code",
   "execution_count": null,
   "metadata": {},
   "outputs": [],
   "source": [
    "df_bookmark.info()"
   ]
  },
  {
   "cell_type": "code",
   "execution_count": null,
   "metadata": {},
   "outputs": [],
   "source": []
  },
  {
   "cell_type": "markdown",
   "metadata": {},
   "source": [
    "## 시청 이력 데이터 Unique Value"
   ]
  },
  {
   "cell_type": "code",
   "execution_count": null,
   "metadata": {
    "scrolled": true
   },
   "outputs": [],
   "source": [
    "for column in df_bookmark.columns.values.tolist():\n",
    "    unique_value_list = df_bookmark[column].unique()\n",
    "    print(f'Column <{column}>', len(unique_value_list))\n",
    "    print(unique_value_list[:10], '\\n')"
   ]
  },
  {
   "cell_type": "code",
   "execution_count": null,
   "metadata": {},
   "outputs": [],
   "source": []
  },
  {
   "cell_type": "markdown",
   "metadata": {},
   "source": [
    "## 시청 이력 데이터 가공"
   ]
  },
  {
   "cell_type": "code",
   "execution_count": null,
   "metadata": {},
   "outputs": [],
   "source": [
    "# (1) 고객별 서비스 가입 이력 수\n",
    "df_feature_1 = numeric_service.groupby(by='uno', as_index=False).registerdate.count()\n",
    "df_feature_1.rename(columns={'registerdate':'REG_CNT'}, inplace=True)\n",
    "\n",
    "# (2) 고객별 서비스 가입 이력 상품 수\n",
    "df_feature_2 = numeric_service[['uno','productcode']]\n",
    "df_feature_2 = numeric_service.drop_duplicates() # 고객별 동일 상품 제거\n",
    "df_feature_2 = numeric_service.groupby(by='uno', as_index=False).productcode.count()\n",
    "df_feature_2.rename(columns={'productcode':'PRD_CNT'}, inplace=True)\n",
    "\n",
    "# (3) 고객별 시청 건수 (1시간 단위)\n",
    "df_feature_3 = df_bookmark.groupby(by='uno', as_index=False).dates.count()\n",
    "df_feature_3.rename(columns={'dates':'BM_CNT'}, inplace=True)\n",
    "\n",
    "# (4) 고객별 시청 총 시간\n",
    "df_feature_4 = df_bookmark.groupby(by='uno', as_index=False).viewtime.sum()\n",
    "df_feature_4.rename(columns={'viewtime':'VT_TOT'}, inplace=True)\n",
    "\n",
    "# (5) 고객별 시청 평균 시간\n",
    "df_feature_5 = df_bookmark.groupby(by='uno', as_index=False).viewtime.mean()\n",
    "df_feature_5.rename(columns={'viewtime':'VT_AVG'}, inplace=True)\n",
    "\n",
    "# (6) 고객별 시청 채널 수\n",
    "df_feature_6 = df_bookmark[['uno','channeltype']]\n",
    "df_feature_6 = df_feature_6.drop_duplicates() # 고객별 동일 채널 제거\n",
    "df_feature_6 = df_feature_6.groupby(by='uno', as_index=False).channeltype.count()\n",
    "df_feature_6.rename(columns={'channeltype':'CH_CNT'}, inplace=True)\n",
    "\n",
    "# (7) 고객별 시청 프로그램 수\n",
    "df_feature_7 = df_bookmark[['uno','programid']]\n",
    "df_feature_7 = df_feature_7.drop_duplicates() # 고객별 동일 프로그램 제거\n",
    "df_feature_7 = df_feature_7.groupby(by='uno', as_index=False).programid.count()\n",
    "df_feature_7.rename(columns={'programid':'PRG_CNT'}, inplace=True)\n",
    "\n",
    "# (8) 고객별 시청 디바이스 수\n",
    "df_feature_8 = df_bookmark[['uno','devicetype']]\n",
    "df_feature_8 = df_feature_8.drop_duplicates() # 고객별 동일 프로그램 제거\n",
    "df_feature_8 = df_feature_8.groupby(by='uno', as_index=False).devicetype.count()\n",
    "df_feature_8.rename(columns={'devicetype':'DEV_CNT'}, inplace=True)"
   ]
  },
  {
   "cell_type": "code",
   "execution_count": null,
   "metadata": {},
   "outputs": [],
   "source": [
    "# (9) enddate - registerdate\n",
    "df_feature_9 = numeric_service[['uno', 'enddate', 'registerdate', 'Unsubscription']]\n",
    "df_feature_9['REG_END'] = df_feature_9['enddate'] - df_feature_9['registerdate']\n",
    "df_feature_9 = df_feature_9[['uno', 'registerdate', 'REG_END']]\n",
    "df_feature_9['REG_END'] = df_feature_9['REG_END'].astype('str')\n",
    "df_feature_9['REG_END'] = df_feature_9.REG_END.str.split(' days').str[0]\n",
    "df_feature_9['REG_END'] = df_feature_9['REG_END'].astype('int')"
   ]
  },
  {
   "cell_type": "code",
   "execution_count": null,
   "metadata": {},
   "outputs": [],
   "source": [
    "# # (10) enddate - lastview\n",
    "\n",
    "# end_enddate = numeric_service.groupby(by='uno', as_index=False).enddate.max()\n",
    "# lastview = df_bookmark.groupby(by='uno', as_index=False).dates.max()\n",
    "\n",
    "# lastview_enddate = pd.merge(end_enddate, lastview, how='left')\n",
    "# lastview_enddate.rename(columns={'dates':'last_view'}, inplace=True)\n",
    "# lastview_enddate['LAST_V'] = lastview_enddate['enddate'] - lastview_enddate['last_view']\n",
    "# lastview_enddate['LAST_V'] = lastview_enddate['LAST_V'].dt.days\n",
    "\n",
    "# # lastview_enddate['LAST_V'] = lastview_enddate['LAST_V'].fillna(int(40))\n",
    "\n",
    "# df_feature_10 = lastview_enddate[['uno', 'LAST_V']]\n",
    "\n",
    "# df_feature_10.loc[df_feature_10['LAST_V']<20, 'LAST_V'] = 0\n",
    "# df_feature_10.loc[df_feature_10['LAST_V']>=20, 'LAST_V'] = 1\n",
    "# df_feature_10['LAST_V'] = df_feature_10['LAST_V'].fillna(2)"
   ]
  },
  {
   "cell_type": "code",
   "execution_count": null,
   "metadata": {},
   "outputs": [],
   "source": []
  },
  {
   "cell_type": "code",
   "execution_count": null,
   "metadata": {},
   "outputs": [],
   "source": [
    "service_bookmark = numeric_service.copy()\n",
    "feature_list = [df_feature_1, df_feature_2, df_feature_3, df_feature_4, \n",
    "                df_feature_5, df_feature_6, df_feature_7, df_feature_8]\n",
    "\n",
    "for feature in feature_list:\n",
    "    service_bookmark = pd.merge(service_bookmark, feature, on=\"uno\", how='left')\n",
    "    \n",
    "service_bookmark = pd.merge(service_bookmark, df_feature_9, on=[\"uno\", 'registerdate'], how='left')\n",
    "    \n",
    "print(service_bookmark.columns)\n",
    "print(len(service_bookmark))\n",
    "print(len(numeric_service))"
   ]
  },
  {
   "cell_type": "code",
   "execution_count": null,
   "metadata": {},
   "outputs": [],
   "source": [
    "service_bookmark['BM_CNT'] = service_bookmark['BM_CNT'].fillna(0)\n",
    "service_bookmark['VT_TOT'] = service_bookmark['VT_TOT'].fillna(0)\n",
    "service_bookmark['VT_AVG'] = service_bookmark['VT_AVG'].fillna(0)\n",
    "service_bookmark['CH_CNT'] = service_bookmark['CH_CNT'].fillna(0)\n",
    "service_bookmark['PRG_CNT'] = service_bookmark['PRG_CNT'].fillna(0)\n",
    "service_bookmark['DEV_CNT'] = service_bookmark['DEV_CNT'].fillna(0)"
   ]
  },
  {
   "cell_type": "code",
   "execution_count": null,
   "metadata": {},
   "outputs": [],
   "source": [
    "service_bookmark.info()"
   ]
  },
  {
   "cell_type": "code",
   "execution_count": null,
   "metadata": {},
   "outputs": [],
   "source": []
  },
  {
   "cell_type": "markdown",
   "metadata": {},
   "source": [
    "## Scaling"
   ]
  },
  {
   "cell_type": "code",
   "execution_count": null,
   "metadata": {},
   "outputs": [],
   "source": [
    "from sklearn.preprocessing import MinMaxScaler"
   ]
  },
  {
   "cell_type": "code",
   "execution_count": null,
   "metadata": {},
   "outputs": [],
   "source": [
    "service_bookmark.sample(5)"
   ]
  },
  {
   "cell_type": "code",
   "execution_count": null,
   "metadata": {},
   "outputs": [],
   "source": [
    "scaler = MinMaxScaler()\n",
    "selected_columns = ['pgamount', 'chargetypeid', 'concurrentwatchcount', 'promo_100', 'coinReceived',\n",
    "                  'devicetypeid', 'isauth', 'gender', 'agegroup', 'REG_CNT', 'PRD_CNT', 'BM_CNT', \n",
    "                  'VT_TOT', 'VT_AVG', 'CH_CNT', 'PRG_CNT', 'DEV_CNT', 'REG_END']\n",
    "\n",
    "service_bookmark[selected_columns] = scaler.fit_transform(service_bookmark[selected_columns])"
   ]
  },
  {
   "cell_type": "code",
   "execution_count": null,
   "metadata": {},
   "outputs": [],
   "source": [
    "service_bookmark\n",
    "service_bookmark.describe()"
   ]
  },
  {
   "cell_type": "markdown",
   "metadata": {},
   "source": [
    "## Correlation"
   ]
  },
  {
   "cell_type": "code",
   "execution_count": null,
   "metadata": {},
   "outputs": [],
   "source": [
    "import matplotlib.pyplot as plt\n",
    "import seaborn as sns\n",
    "\n",
    "%matplotlib inline\n",
    "\n",
    "plt.figure(figsize=(18,10))\n",
    "sns.heatmap(service_bookmark.corr(), annot=True)   "
   ]
  },
  {
   "cell_type": "code",
   "execution_count": null,
   "metadata": {},
   "outputs": [],
   "source": [
    "service_bookmark.hist(figsize=(20,16))\n",
    "plt.show()"
   ]
  },
  {
   "cell_type": "code",
   "execution_count": null,
   "metadata": {},
   "outputs": [],
   "source": [
    "save = service_bookmark.copy()"
   ]
  },
  {
   "cell_type": "code",
   "execution_count": null,
   "metadata": {},
   "outputs": [],
   "source": []
  },
  {
   "cell_type": "markdown",
   "metadata": {},
   "source": [
    "## Data Augmentation"
   ]
  },
  {
   "cell_type": "code",
   "execution_count": null,
   "metadata": {},
   "outputs": [],
   "source": [
    "plus = service_bookmark[service_bookmark['Unsubscription']==1]\n",
    "service_bookmark = pd.concat([service_bookmark, plus], axis=0)"
   ]
  },
  {
   "cell_type": "code",
   "execution_count": null,
   "metadata": {},
   "outputs": [],
   "source": [
    "service_bookmark.shape"
   ]
  },
  {
   "cell_type": "code",
   "execution_count": null,
   "metadata": {},
   "outputs": [],
   "source": [
    "service_bookmark.sample(10)"
   ]
  },
  {
   "cell_type": "markdown",
   "metadata": {},
   "source": [
    "## Feature 선별"
   ]
  },
  {
   "cell_type": "code",
   "execution_count": null,
   "metadata": {},
   "outputs": [],
   "source": [
    "service_bookmark.columns"
   ]
  },
  {
   "cell_type": "code",
   "execution_count": null,
   "metadata": {},
   "outputs": [],
   "source": [
    "service_bookmark.corr().abs().sort_values(by='Unsubscription', ascending=False)['Unsubscription']"
   ]
  },
  {
   "cell_type": "code",
   "execution_count": null,
   "metadata": {},
   "outputs": [],
   "source": [
    "# service_bookmark = service_bookmark[['uno', 'registerdate', 'enddate', 'productcode', 'pgamount',\n",
    "#        'chargetypeid', 'concurrentwatchcount', 'promo_100', 'coinReceived',\n",
    "#        'Unsubscription', 'devicetypeid', 'gender', 'agegroup',\n",
    "#        'BM_CNT', 'VT_TOT', 'VT_AVG', 'CH_CNT', 'PRG_CNT',\n",
    "#        'DEV_CNT', 'REG_END']]"
   ]
  },
  {
   "cell_type": "code",
   "execution_count": null,
   "metadata": {},
   "outputs": [],
   "source": []
  },
  {
   "cell_type": "markdown",
   "metadata": {},
   "source": [
    "## predict service data 가공"
   ]
  },
  {
   "cell_type": "code",
   "execution_count": null,
   "metadata": {},
   "outputs": [],
   "source": [
    "predict_service = pd.read_csv(\"Predict/predict_service.csv\", parse_dates=['registerdate','enddate'], infer_datetime_format=True)\n",
    "predict_bookmark = pd.read_csv(\"Predict/predict_bookmark.csv\", parse_dates=['dates'], infer_datetime_format=True)\n",
    "\n",
    "df_predict_service = predict_service.copy()\n",
    "df_predict_bookmark = predict_bookmark.copy()"
   ]
  },
  {
   "cell_type": "code",
   "execution_count": null,
   "metadata": {},
   "outputs": [],
   "source": [
    "# predict_missing_info = pd.DataFrame(predict_service.isnull().sum().sort_values(ascending=False), columns=['missing num'])\n",
    "# predict_missing_info['%'] = predict_missing_info['missing num']/predict_service.shape[0]*100\n",
    "# predict_missing_info"
   ]
  },
  {
   "cell_type": "code",
   "execution_count": null,
   "metadata": {},
   "outputs": [],
   "source": [
    "# gender null --> N\n",
    "df_predict_service['gender'] = df_predict_service['gender'].fillna('N')\n",
    "df_predict_service['gender'].value_counts()\n",
    "\n",
    "# agegroup outlier (0살, 950살) --> mean\n",
    "df_predict_service['agegroup'].value_counts().sort_index()\n",
    "\n",
    "age_mean = df_predict_service.loc[(df_predict_service['agegroup']<950) & (df_predict_service['agegroup']>0), 'agegroup'].mean()\n",
    "age_mean\n",
    "\n",
    "df_predict_service['agegroup'] = df_predict_service['agegroup'].replace(950, 30)\n",
    "df_predict_service['agegroup'] = df_predict_service['agegroup'].replace(0, 30)\n",
    "df_predict_service['agegroup'].value_counts().sort_index()\n",
    "\n",
    "# pgamount US Dollar --> 원화\n",
    "df_predict_service['pgamount'].value_counts().sort_index()\n",
    "\n",
    "df_predict_service.loc[(df_predict_service['pgamount'] < 100), 'pgamount'] = df_predict_service['pgamount'] * 1120\n",
    "df_predict_service['pgamount'].value_counts().sort_index()\n",
    "\n",
    "# 나머지 결측치는 X로 처리 (O or null인 경우)\n",
    "df_predict_service.isnull().sum()\n",
    "\n",
    "df_predict_service = df_predict_service.fillna('X')\n",
    "df_predict_service.isnull().sum()"
   ]
  },
  {
   "cell_type": "code",
   "execution_count": null,
   "metadata": {},
   "outputs": [],
   "source": [
    "df_predict_service['Repurchase'].replace('O', 0, inplace=True)\n",
    "df_predict_service['Repurchase'].replace('X', 1, inplace=True)\n",
    "df_predict_service.rename(columns={'Repurchase':\"Unsubscription\"}, inplace=True)\n",
    "df_predict_service.head(5)\n",
    "\n",
    "column_list = df_predict_service.columns.values.tolist()\n",
    "column_list.remove('uno')\n",
    "column_list.remove('productcode')\n",
    "\n",
    "for col in column_list:\n",
    "    if df_predict_service[col].dtype == 'object':\n",
    "        lbl = LabelEncoder()\n",
    "        lbl.fit(list(df_predict_service[col].values))\n",
    "        df_predict_service[col] = lbl.transform(df_predict_service[col].values)\n",
    "        \n",
    "df_predict_service.sample(5)\n",
    "\n",
    "df_predict_service.info()"
   ]
  },
  {
   "cell_type": "markdown",
   "metadata": {},
   "source": [
    "## predict bookmark data 가공"
   ]
  },
  {
   "cell_type": "code",
   "execution_count": null,
   "metadata": {},
   "outputs": [],
   "source": [
    "# (1) 고객별 서비스 가입 이력 수\n",
    "pd_feature_1 = df_predict_service.groupby(by='uno', as_index=False).registerdate.count()\n",
    "pd_feature_1.rename(columns={'registerdate':'REG_CNT'}, inplace=True)\n",
    "\n",
    "# (2) 고객별 서비스 가입 이력 상품 수\n",
    "pd_feature_2 = df_predict_service[['uno','productcode']]\n",
    "pd_feature_2 = df_predict_service.drop_duplicates() # 고객별 동일 상품 제거\n",
    "pd_feature_2 = df_predict_service.groupby(by='uno', as_index=False).productcode.count()\n",
    "pd_feature_2.rename(columns={'productcode':'PRD_CNT'}, inplace=True)\n",
    "\n",
    "# (3) 고객별 시청 건수 (1시간 단위)\n",
    "pd_feature_3 = df_predict_bookmark.groupby(by='uno', as_index=False).dates.count()\n",
    "pd_feature_3.rename(columns={'dates':'BM_CNT'}, inplace=True)\n",
    "\n",
    "# (4) 고객별 시청 총 시간\n",
    "pd_feature_4 = df_predict_bookmark.groupby(by='uno', as_index=False).viewtime.sum()\n",
    "pd_feature_4.rename(columns={'viewtime':'VT_TOT'}, inplace=True)\n",
    "\n",
    "# (5) 고객별 시청 평균 시간\n",
    "pd_feature_5 = df_predict_bookmark.groupby(by='uno', as_index=False).viewtime.mean()\n",
    "pd_feature_5.rename(columns={'viewtime':'VT_AVG'}, inplace=True)\n",
    "\n",
    "# (6) 고객별 시청 채널 수\n",
    "pd_feature_6 = df_predict_bookmark[['uno','channeltype']]\n",
    "pd_feature_6 = pd_feature_6.drop_duplicates() # 고객별 동일 채널 제거\n",
    "pd_feature_6 = pd_feature_6.groupby(by='uno', as_index=False).channeltype.count()\n",
    "pd_feature_6.rename(columns={'channeltype':'CH_CNT'}, inplace=True)\n",
    "\n",
    "# (7) 고객별 시청 프로그램 수\n",
    "pd_feature_7 = df_predict_bookmark[['uno','programid']]\n",
    "pd_feature_7 = pd_feature_7.drop_duplicates() # 고객별 동일 프로그램 제거\n",
    "pd_feature_7 = pd_feature_7.groupby(by='uno', as_index=False).programid.count()\n",
    "pd_feature_7.rename(columns={'programid':'PRG_CNT'}, inplace=True)\n",
    "\n",
    "# (8) 고객별 시청 디바이스 수\n",
    "pd_feature_8 = df_predict_bookmark[['uno','devicetype']]\n",
    "pd_feature_8 = pd_feature_8.drop_duplicates() # 고객별 동일 프로그램 제거\n",
    "pd_feature_8 = pd_feature_8.groupby(by='uno', as_index=False).devicetype.count()\n",
    "pd_feature_8.rename(columns={'devicetype':'DEV_CNT'}, inplace=True)"
   ]
  },
  {
   "cell_type": "code",
   "execution_count": null,
   "metadata": {},
   "outputs": [],
   "source": [
    "# (9) enddate - registerdate\n",
    "pd_feature_9 = df_predict_service[['uno', 'enddate', 'registerdate', 'Unsubscription']]\n",
    "pd_feature_9['REG_END'] = pd_feature_9['enddate'] - pd_feature_9['registerdate']\n",
    "pd_feature_9 = pd_feature_9[['uno', 'registerdate', 'REG_END']]\n",
    "\n",
    "pd_feature_9['REG_END'] = pd_feature_9['REG_END'].astype('str')\n",
    "pd_feature_9['REG_END'] = pd_feature_9.REG_END.str.split(' days').str[0]\n",
    "pd_feature_9['REG_END'] = pd_feature_9['REG_END'].astype('int')"
   ]
  },
  {
   "cell_type": "code",
   "execution_count": null,
   "metadata": {},
   "outputs": [],
   "source": [
    "# # (10) enddate - lastview\n",
    "\n",
    "# end_enddate = df_predict_service.groupby(by='uno', as_index=False).enddate.max()\n",
    "# lastview = df_predict_bookmark.groupby(by='uno', as_index=False).dates.max()\n",
    "\n",
    "# lastview_enddate = pd.merge(end_enddate, lastview, how='left')\n",
    "# lastview_enddate.rename(columns={'dates':'last_view'}, inplace=True)\n",
    "# lastview_enddate['LAST_V'] = lastview_enddate['enddate'] - lastview_enddate['last_view']\n",
    "# lastview_enddate['LAST_V'] = lastview_enddate['LAST_V'].dt.days\n",
    "\n",
    "# # lastview_enddate['LAST_V'] = lastview_enddate['LAST_V'].fillna(int(40))\n",
    "\n",
    "# pd_feature_10 = lastview_enddate[['uno', 'LAST_V']]\n",
    "\n",
    "# pd_feature_10.loc[pd_feature_10['LAST_V']<20, 'LAST_V'] = 0\n",
    "# pd_feature_10.loc[pd_feature_10['LAST_V']>=20, 'LAST_V'] = 1\n",
    "# pd_feature_10['LAST_V'] = pd_feature_10['LAST_V'].fillna(2)"
   ]
  },
  {
   "cell_type": "code",
   "execution_count": null,
   "metadata": {},
   "outputs": [],
   "source": [
    "df_service_bookmark = df_predict_service.copy()\n",
    "feature_list = [pd_feature_1, pd_feature_2, pd_feature_3, pd_feature_4, \n",
    "                pd_feature_5, pd_feature_6, pd_feature_7, pd_feature_8]\n",
    "\n",
    "for feature in feature_list:\n",
    "    df_service_bookmark = pd.merge(df_service_bookmark, feature, on=['uno'], how='left')\n",
    "    \n",
    "df_service_bookmark = pd.merge(df_service_bookmark, pd_feature_9, on=['uno', 'registerdate'], how='left')\n",
    "    \n",
    "print(df_service_bookmark.columns)\n",
    "print(len(df_predict_service))\n",
    "print(len(df_service_bookmark))\n",
    "print(len(df_predict_service))\n",
    "\n",
    "df_service_bookmark.isna().sum()\n",
    "\n",
    "df_service_bookmark['BM_CNT'] = df_service_bookmark['BM_CNT'].fillna(0)\n",
    "df_service_bookmark['VT_TOT'] = df_service_bookmark['VT_TOT'].fillna(0)\n",
    "df_service_bookmark['VT_AVG'] = df_service_bookmark['VT_AVG'].fillna(0)\n",
    "df_service_bookmark['CH_CNT'] = df_service_bookmark['CH_CNT'].fillna(0)\n",
    "df_service_bookmark['PRG_CNT'] = df_service_bookmark['PRG_CNT'].fillna(0)\n",
    "df_service_bookmark['DEV_CNT'] = df_service_bookmark['DEV_CNT'].fillna(0)"
   ]
  },
  {
   "cell_type": "code",
   "execution_count": null,
   "metadata": {},
   "outputs": [],
   "source": [
    "service_bookmark.columns == df_service_bookmark.columns"
   ]
  },
  {
   "cell_type": "code",
   "execution_count": null,
   "metadata": {},
   "outputs": [],
   "source": [
    "selected_columns = ['pgamount', 'chargetypeid', 'concurrentwatchcount', 'promo_100', 'coinReceived',\n",
    "                  'devicetypeid', 'isauth', 'gender', 'agegroup', 'REG_CNT', 'PRD_CNT', 'BM_CNT', \n",
    "                  'VT_TOT', 'VT_AVG', 'CH_CNT', 'PRG_CNT', 'DEV_CNT', 'REG_END']\n",
    "\n",
    "df_service_bookmark[selected_columns] = scaler.transform(df_service_bookmark[selected_columns])"
   ]
  },
  {
   "cell_type": "code",
   "execution_count": null,
   "metadata": {},
   "outputs": [],
   "source": [
    "df_service_bookmark.describe()"
   ]
  },
  {
   "cell_type": "markdown",
   "metadata": {},
   "source": [
    "## 예측용 데이터"
   ]
  },
  {
   "cell_type": "code",
   "execution_count": null,
   "metadata": {},
   "outputs": [],
   "source": [
    "X_predict = df_service_bookmark.drop(['uno', 'registerdate', 'enddate', 'Unsubscription', 'productcode'], axis=1)"
   ]
  },
  {
   "cell_type": "code",
   "execution_count": null,
   "metadata": {},
   "outputs": [],
   "source": []
  },
  {
   "cell_type": "markdown",
   "metadata": {},
   "source": [
    "## Train data 쪼개기"
   ]
  },
  {
   "cell_type": "code",
   "execution_count": null,
   "metadata": {},
   "outputs": [],
   "source": [
    "X = service_bookmark.drop(['Unsubscription'], axis=1)\n",
    "y = service_bookmark['Unsubscription']\n",
    "\n",
    "X_train, X_test, y_train, y_test = train_test_split(X, y, test_size=0.2, random_state=47)"
   ]
  },
  {
   "cell_type": "code",
   "execution_count": null,
   "metadata": {},
   "outputs": [],
   "source": [
    "service_bookmark.to_csv('service_bookmark.xlsx', index=False)"
   ]
  },
  {
   "cell_type": "code",
   "execution_count": null,
   "metadata": {},
   "outputs": [],
   "source": [
    "print(X_train.shape, X_test.shape)\n",
    "print(y_train.shape, y_test.shape)"
   ]
  },
  {
   "cell_type": "code",
   "execution_count": null,
   "metadata": {},
   "outputs": [],
   "source": [
    "X_train_with = X_train.copy()\n",
    "X_test_with = X_test.copy()"
   ]
  },
  {
   "cell_type": "code",
   "execution_count": null,
   "metadata": {},
   "outputs": [],
   "source": [
    "X_train = X_train.drop(['uno', 'registerdate', 'enddate', 'productcode'], axis=1)\n",
    "X_test = X_test.drop(['uno', 'registerdate', 'enddate', 'productcode'], axis=1)"
   ]
  },
  {
   "cell_type": "code",
   "execution_count": null,
   "metadata": {},
   "outputs": [],
   "source": [
    "print(X_train.shape, X_test.shape)\n",
    "print(y_train.shape, y_test.shape)"
   ]
  },
  {
   "cell_type": "markdown",
   "metadata": {},
   "source": [
    "## Xgboost"
   ]
  },
  {
   "cell_type": "code",
   "execution_count": null,
   "metadata": {},
   "outputs": [],
   "source": [
    "from sklearn.model_selection import RandomizedSearchCV, GridSearchCV\n",
    "from xgboost import XGBClassifier, plot_importance"
   ]
  },
  {
   "cell_type": "code",
   "execution_count": null,
   "metadata": {},
   "outputs": [],
   "source": [
    "from sklearn.metrics import classification_report, confusion_matrix, f1_score, accuracy_score"
   ]
  },
  {
   "cell_type": "code",
   "execution_count": null,
   "metadata": {},
   "outputs": [],
   "source": [
    "#got the best parameters\n",
    "\n",
    "param_grid = {\n",
    "    'max_depth' : [6],\n",
    "    'learning_rate' : [0.3, 0.1, 0.05],\n",
    "#     'gamma' : [0, 0.05, 0.4, 0.5],\n",
    "#     'reg_lambda' : [0, 1, 10, 20],\n",
    "    'scale_pos_weight' : [1, 3, 5]    \n",
    "}\n",
    "\n",
    "xgb_model = GridSearchCV(\n",
    "    estimator=XGBClassifier(objective = 'binary:logistic',\n",
    "                            subsample = 0.9,\n",
    "                            colsample_bytree = 0.5),\n",
    "    param_grid=param_grid,\n",
    "    scoring='f1',\n",
    "    verbose=2,\n",
    "    n_jobs=10,\n",
    "    cv=3\n",
    ")"
   ]
  },
  {
   "cell_type": "code",
   "execution_count": null,
   "metadata": {},
   "outputs": [],
   "source": [
    "#got the best parameters above\n",
    "\n",
    "xgb_model.fit(X_train, y_train, verbose=True)"
   ]
  },
  {
   "cell_type": "code",
   "execution_count": null,
   "metadata": {},
   "outputs": [],
   "source": [
    "xgb_model.best_estimator_"
   ]
  },
  {
   "cell_type": "code",
   "execution_count": null,
   "metadata": {},
   "outputs": [],
   "source": [
    "best_xgb = xgb_model.best_estimator_\n",
    "best_xgb"
   ]
  },
  {
   "cell_type": "markdown",
   "metadata": {},
   "source": [
    "XGBClassifier(base_score=0.5, booster='gbtree', colsample_bylevel=1,\n",
    "              colsample_bynode=1, colsample_bytree=0.5, gamma=0, gpu_id=-1,\n",
    "              importance_type='gain', interaction_constraints='',\n",
    "              learning_rate=0.1, max_delta_step=0, max_depth=6,\n",
    "              min_child_weight=1, missing=nan, monotone_constraints='()',\n",
    "              n_estimators=100, n_jobs=0, num_parallel_tree=1, random_state=0,\n",
    "              reg_alpha=0, reg_lambda=1, scale_pos_weight=3, subsample=0.9,\n",
    "              tree_method='exact', validate_parameters=1, verbosity=None)"
   ]
  },
  {
   "cell_type": "markdown",
   "metadata": {},
   "source": [
    "## Xgboost result"
   ]
  },
  {
   "cell_type": "code",
   "execution_count": null,
   "metadata": {},
   "outputs": [],
   "source": [
    "y_pred = best_xgb.predict(X_test)"
   ]
  },
  {
   "cell_type": "code",
   "execution_count": null,
   "metadata": {},
   "outputs": [],
   "source": [
    "print(\"f1 score: \", f1_score(y_test, y_pred), \"\\nAccuracy: \", accuracy_score(y_test, y_pred))"
   ]
  },
  {
   "cell_type": "markdown",
   "metadata": {},
   "source": [
    "[LAST_V 빼고]\n",
    "* f1 score:  0.5419285604783075 \n",
    "* Accuracy:  0.571367092239277"
   ]
  },
  {
   "cell_type": "code",
   "execution_count": null,
   "metadata": {},
   "outputs": [],
   "source": [
    "print(classification_report(y_test, y_pred))"
   ]
  },
  {
   "cell_type": "code",
   "execution_count": null,
   "metadata": {},
   "outputs": [],
   "source": [
    "confusion_matrix(y_test, y_pred)"
   ]
  },
  {
   "cell_type": "code",
   "execution_count": null,
   "metadata": {},
   "outputs": [],
   "source": [
    "col = X_train.columns\n",
    "importance = best_xgb.feature_importances_\n",
    "\n",
    "for i in range(len(col)):\n",
    "    print(col[i], importance[i])"
   ]
  },
  {
   "cell_type": "markdown",
   "metadata": {},
   "source": [
    "## REG_END < 30인 경우 예측값을 1로 변경"
   ]
  },
  {
   "cell_type": "code",
   "execution_count": null,
   "metadata": {},
   "outputs": [],
   "source": [
    "# X_test_with.sample(5)"
   ]
  },
  {
   "cell_type": "code",
   "execution_count": null,
   "metadata": {},
   "outputs": [],
   "source": [
    "# len(X_test_with), len(y_pred)"
   ]
  },
  {
   "cell_type": "code",
   "execution_count": null,
   "metadata": {},
   "outputs": [],
   "source": [
    "# X_test_with = X_test_with.reset_index()\n",
    "# X_test_with.head(5)"
   ]
  },
  {
   "cell_type": "code",
   "execution_count": null,
   "metadata": {},
   "outputs": [],
   "source": [
    "# df_y_pred = pd.DataFrame(y_pred, columns=['y_pred'])\n",
    "# test_pred = pd.concat([X_test_with[['uno', 'productcode', 'REG_END']], df_y_pred], axis=1)"
   ]
  },
  {
   "cell_type": "code",
   "execution_count": null,
   "metadata": {},
   "outputs": [],
   "source": [
    "# test_pred[test_pred['REG_END']<30]"
   ]
  },
  {
   "cell_type": "code",
   "execution_count": null,
   "metadata": {},
   "outputs": [],
   "source": []
  },
  {
   "cell_type": "markdown",
   "metadata": {},
   "source": [
    "## 답안 Predict"
   ]
  },
  {
   "cell_type": "code",
   "execution_count": null,
   "metadata": {},
   "outputs": [],
   "source": [
    "# 예측 모델에 최종 데이터 입력\n",
    "y_pred = best_xgb.predict(X_predict)\n",
    "\n",
    "# 데이터 건수 확인\n",
    "print('예측 대상 건수 = ', len(X_predict), ', 예측 결과 건수 = ', len(y_pred))"
   ]
  },
  {
   "cell_type": "code",
   "execution_count": null,
   "metadata": {},
   "outputs": [],
   "source": [
    "# 결과 제출 답안지 불러오기\n",
    "df_sheet = pd.read_csv(\"Submission/CDS_submission.csv\")\n",
    "df_sheet.drop('CHURN', axis=1, inplace=True)\n",
    "df_sheet.info()"
   ]
  },
  {
   "cell_type": "code",
   "execution_count": null,
   "metadata": {},
   "outputs": [],
   "source": [
    "df_sheet.sample(5)"
   ]
  },
  {
   "cell_type": "code",
   "execution_count": null,
   "metadata": {},
   "outputs": [],
   "source": [
    "# 답안지에 답안 표기\n",
    "df_result = df_service_bookmark.loc[:,('uno','registerdate','productcode')]\n",
    "df_result['KEY']   = df_result['uno'] + '|' + df_result['registerdate'].dt.strftime('%y-%m-%d %I:%M:%S') + '|' + df_result['productcode']   # 판다스 strftime()\n",
    "df_result['CHURN'] = pd.DataFrame(y_pred)\n",
    "df_result = df_result.loc[:,('KEY','CHURN')]\n",
    "df_answer_sheet = pd.merge(df_sheet, df_result, on='KEY', how='left')\n",
    "df_answer_sheet.info()"
   ]
  },
  {
   "cell_type": "markdown",
   "metadata": {},
   "source": [
    "## 답안지 제출 파일 생성하기"
   ]
  },
  {
   "cell_type": "code",
   "execution_count": null,
   "metadata": {},
   "outputs": [],
   "source": [
    "ds_answer_sheet = \"CDS_submission_후렌치파이_3차.csv\"\n",
    "df_answer_sheet.to_csv(ds_answer_sheet, index=False, encoding='utf8')"
   ]
  },
  {
   "cell_type": "code",
   "execution_count": null,
   "metadata": {},
   "outputs": [],
   "source": [
    "df_answer_sheet"
   ]
  },
  {
   "cell_type": "code",
   "execution_count": null,
   "metadata": {},
   "outputs": [],
   "source": [
    "submission1 = pd.read_csv(\"CDS_submission_후렌치파이_3차.csv\")"
   ]
  },
  {
   "cell_type": "code",
   "execution_count": null,
   "metadata": {},
   "outputs": [],
   "source": [
    "len(submission1), len(df_answer_sheet)"
   ]
  },
  {
   "cell_type": "code",
   "execution_count": null,
   "metadata": {},
   "outputs": [],
   "source": []
  },
  {
   "cell_type": "markdown",
   "metadata": {},
   "source": [
    "## Decision Tree"
   ]
  },
  {
   "cell_type": "code",
   "execution_count": null,
   "metadata": {},
   "outputs": [],
   "source": [
    "from sklearn.tree import DecisionTreeClassifier, export_graphviz"
   ]
  },
  {
   "cell_type": "code",
   "execution_count": null,
   "metadata": {
    "scrolled": true
   },
   "outputs": [],
   "source": [
    "for i in range(7, 30):\n",
    "    dt_model = DecisionTreeClassifier(random_state=47, max_depth=i)\n",
    "    dt_model.fit(X_train, y_train)\n",
    "    y_pred = dt_model.predict(X_test)\n",
    "    print(\"\\nmax_depth: \", i, \"\\nf1 score: \", f1_score(y_test, y_pred), \"\\nAccuracy: \", accuracy_score(y_test, y_pred))"
   ]
  },
  {
   "cell_type": "code",
   "execution_count": null,
   "metadata": {},
   "outputs": [],
   "source": [
    "print(classification_report(y_test, y_pred))"
   ]
  },
  {
   "cell_type": "code",
   "execution_count": null,
   "metadata": {},
   "outputs": [],
   "source": [
    "len(dt_model.feature_importances_)"
   ]
  },
  {
   "cell_type": "code",
   "execution_count": null,
   "metadata": {
    "scrolled": true
   },
   "outputs": [],
   "source": [
    "columns = X_train.columns\n",
    "importances = dt_model.feature_importances_\n",
    "col_iptc = dict()\n",
    "\n",
    "for i in range(18):\n",
    "    col_iptc[columns[i]] = importances[i]\n"
   ]
  },
  {
   "cell_type": "code",
   "execution_count": null,
   "metadata": {},
   "outputs": [],
   "source": [
    "sorted(col_iptc, key=lambda x: col_iptc[x], reverse=True)"
   ]
  },
  {
   "cell_type": "code",
   "execution_count": null,
   "metadata": {},
   "outputs": [],
   "source": [
    "col_iptc"
   ]
  },
  {
   "cell_type": "code",
   "execution_count": null,
   "metadata": {},
   "outputs": [],
   "source": [
    "confusion_matrix(y_test, y_pred)"
   ]
  },
  {
   "cell_type": "code",
   "execution_count": null,
   "metadata": {},
   "outputs": [],
   "source": []
  },
  {
   "cell_type": "markdown",
   "metadata": {},
   "source": [
    "## code 데이터 읽기\n",
    "  - content info\n",
    "  - movie info"
   ]
  },
  {
   "cell_type": "code",
   "execution_count": null,
   "metadata": {},
   "outputs": [],
   "source": [
    "df_content_info = pd.read_csv(\"Code/content_info.csv\")\n",
    "df_content_info.sample(3)"
   ]
  },
  {
   "cell_type": "code",
   "execution_count": null,
   "metadata": {
    "scrolled": false
   },
   "outputs": [],
   "source": [
    "df_movie_info = pd.read_csv(\"Code/movie_info.csv\")\n",
    "df_movie_info.sample(3)"
   ]
  }
 ],
 "metadata": {
  "kernelspec": {
   "display_name": "Python 3",
   "language": "python",
   "name": "python3"
  },
  "language_info": {
   "codemirror_mode": {
    "name": "ipython",
    "version": 3
   },
   "file_extension": ".py",
   "mimetype": "text/x-python",
   "name": "python",
   "nbconvert_exporter": "python",
   "pygments_lexer": "ipython3",
   "version": "3.8.3"
  }
 },
 "nbformat": 4,
 "nbformat_minor": 4
}
