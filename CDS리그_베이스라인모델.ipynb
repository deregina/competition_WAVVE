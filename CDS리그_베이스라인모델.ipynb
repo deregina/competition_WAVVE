{
 "cells": [
  {
   "cell_type": "markdown",
   "metadata": {
    "id": "6dWLXTG4-ofp"
   },
   "source": [
    "# **베이스라인 모델**\n",
    "* 베이스라인 모델의 제공 목적 \n",
    "> - 첫째, 제공한 데이터세트를 활용한 머신러닝 Pipeline(분석절차)이 올바르게 동작하는지를 확인\n",
    "> - 둘째, 제공한 데이터세트를 활용하여 분석 대상 기준 정의 및 제출 결과 파일 생성 방법 등에 참고\n",
    "\n",
    "* 베이스라인 모델의 구조\n",
    "> - 데이터 : 크게 train_bookmark라는 시청 이력 데이터와  train_Service라는 고객 상품별 재결제(해지) 이력 데이터\n",
    ">> - 학습 데이터세트 분할 : train_service 70% & 30%로 분할하여 학습용과 테스트용으로 사용\n",
    "> - 분석 알고리즘 : XGB 모델 \n",
    ">> - 기본 설정 모델 제공 \n",
    "* 베이스라인 모델은 쥬피터 노트북을 통한 Python으로 작성하여 제공\n",
    "> - 주어진 베이스라인 모델은 예시 이며, 참여들은 자유롭게 분석 방법 및 항목 변경 가능\n"
   ]
  },
  {
   "cell_type": "markdown",
   "metadata": {
    "id": "ln56z56OXztG"
   },
   "source": [
    "## **1. 학습 환경 세팅**"
   ]
  },
  {
   "cell_type": "markdown",
   "metadata": {
    "id": "YCM4HNVVewJY"
   },
   "source": [
    "> ### 1) 코랩: 구글 드라이브 연동"
   ]
  },
  {
   "cell_type": "code",
   "execution_count": 1,
   "metadata": {
    "colab": {
     "base_uri": "https://localhost:8080/"
    },
    "executionInfo": {
     "elapsed": 16590,
     "status": "ok",
     "timestamp": 1625246973185,
     "user": {
      "displayName": "neo Kim",
      "photoUrl": "https://lh3.googleusercontent.com/a-/AOh14GgWQvWV5JkiXORXRjJv2qrXP7Wjjt7dwd1NNozs=s64",
      "userId": "11635445716711956826"
     },
     "user_tz": -540
    },
    "id": "b2a8uxVdeuZI",
    "outputId": "77827842-5f6b-4b5f-c5f6-d627095e3671"
   },
   "outputs": [
    {
     "ename": "ModuleNotFoundError",
     "evalue": "No module named 'google.colab'",
     "output_type": "error",
     "traceback": [
      "\u001b[1;31m---------------------------------------------------------------------------\u001b[0m",
      "\u001b[1;31mModuleNotFoundError\u001b[0m                       Traceback (most recent call last)",
      "\u001b[1;32m<ipython-input-1-d5df0069828e>\u001b[0m in \u001b[0;36m<module>\u001b[1;34m\u001b[0m\n\u001b[1;32m----> 1\u001b[1;33m \u001b[1;32mfrom\u001b[0m \u001b[0mgoogle\u001b[0m\u001b[1;33m.\u001b[0m\u001b[0mcolab\u001b[0m \u001b[1;32mimport\u001b[0m \u001b[0mdrive\u001b[0m\u001b[1;33m\u001b[0m\u001b[1;33m\u001b[0m\u001b[0m\n\u001b[0m\u001b[0;32m      2\u001b[0m \u001b[0mdrive\u001b[0m\u001b[1;33m.\u001b[0m\u001b[0mmount\u001b[0m\u001b[1;33m(\u001b[0m\u001b[1;34m'/content/drive'\u001b[0m\u001b[1;33m)\u001b[0m\u001b[1;33m\u001b[0m\u001b[1;33m\u001b[0m\u001b[0m\n",
      "\u001b[1;31mModuleNotFoundError\u001b[0m: No module named 'google.colab'"
     ]
    }
   ],
   "source": [
    "from google.colab import drive\n",
    "drive.mount('/content/drive')"
   ]
  },
  {
   "cell_type": "code",
   "execution_count": null,
   "metadata": {
    "colab": {
     "base_uri": "https://localhost:8080/"
    },
    "executionInfo": {
     "elapsed": 243,
     "status": "ok",
     "timestamp": 1625246976098,
     "user": {
      "displayName": "neo Kim",
      "photoUrl": "https://lh3.googleusercontent.com/a-/AOh14GgWQvWV5JkiXORXRjJv2qrXP7Wjjt7dwd1NNozs=s64",
      "userId": "11635445716711956826"
     },
     "user_tz": -540
    },
    "id": "3MQ1jvrfgpD5",
    "outputId": "3ee99f7d-7823-463f-ca1c-5ee1a04a999e"
   },
   "outputs": [],
   "source": [
    "# 본인이 파일 업로드 한 폴더로 경로 지정\n",
    "\n",
    "%cd /content/drive/My Drive/Colab Notebooks"
   ]
  },
  {
   "cell_type": "markdown",
   "metadata": {
    "id": "Cq75hEKuwI53"
   },
   "source": [
    "> ### 2) Import Package "
   ]
  },
  {
   "cell_type": "code",
   "execution_count": null,
   "metadata": {
    "id": "aaIBzBLUYkOH"
   },
   "outputs": [],
   "source": [
    "## 주요 라이브러리 import\n",
    "\n",
    "import pandas as pd\n",
    "import numpy as np\n",
    "from sklearn.preprocessing import LabelEncoder\n",
    "from sklearn.model_selection import train_test_split\n",
    "from dateutil.relativedelta import relativedelta\n",
    "from datetime import *"
   ]
  },
  {
   "cell_type": "markdown",
   "metadata": {
    "id": "d9wLmThvNhcd"
   },
   "source": [
    "## **2. 데이터 읽기**"
   ]
  },
  {
   "cell_type": "code",
   "execution_count": null,
   "metadata": {
    "colab": {
     "base_uri": "https://localhost:8080/",
     "height": 621
    },
    "executionInfo": {
     "elapsed": 973,
     "status": "ok",
     "timestamp": 1625246983120,
     "user": {
      "displayName": "neo Kim",
      "photoUrl": "https://lh3.googleusercontent.com/a-/AOh14GgWQvWV5JkiXORXRjJv2qrXP7Wjjt7dwd1NNozs=s64",
      "userId": "11635445716711956826"
     },
     "user_tz": -540
    },
    "id": "Z_P_oRSDdlcG",
    "outputId": "30caad55-8f65-48af-8130-af078ebe1d93"
   },
   "outputs": [],
   "source": [
    "# 서비스 데이터 읽기 : 전체 69,708 rows\n",
    "# 고객 상품(이용권)별 재결제(해지) 이력 정보\n",
    "ds_service = \"train_service.csv\"\n",
    "df_service = pd.read_csv(ds_service, parse_dates=['registerdate','enddate'], infer_datetime_format=True)\n",
    "\n",
    "# 데이터에 대한 전반적인 정보를 표시 dataframe을 구성하는 행과 열의 크기, 컬럼명, 컬럼을 구성하는 값의 자료형 등을 출력\n",
    "df_service.info()\n",
    "# 데이터 샘플 3개 출력\n",
    "df_service.sample(3)"
   ]
  },
  {
   "cell_type": "code",
   "execution_count": null,
   "metadata": {
    "colab": {
     "base_uri": "https://localhost:8080/",
     "height": 499
    },
    "executionInfo": {
     "elapsed": 22516,
     "status": "ok",
     "timestamp": 1625247005632,
     "user": {
      "displayName": "neo Kim",
      "photoUrl": "https://lh3.googleusercontent.com/a-/AOh14GgWQvWV5JkiXORXRjJv2qrXP7Wjjt7dwd1NNozs=s64",
      "userId": "11635445716711956826"
     },
     "user_tz": -540
    },
    "id": "ddoZ-86hX7c0",
    "outputId": "b02bab88-3b44-409f-aaeb-1e20375a284e"
   },
   "outputs": [],
   "source": [
    "# 시청 이력(train_bookmark) 데이터 읽기 : 7,987,609 rows\n",
    "ds_bookmark = \"train_bookmark.csv\"\n",
    "df_bookmark = pd.read_csv(ds_bookmark, parse_dates=['dates'], infer_datetime_format=True)\n",
    "\n",
    "# 데이터에 대한 전반적인 정보를 표시 dataframe을 구성하는 행과 열의 크기, 컬럼명, 컬럼을 구성하는 값의 자료형 등을 출력\n",
    "df_bookmark.info()\n",
    "# 데이터 샘플 3개 출력\n",
    "df_bookmark.sample(3)"
   ]
  },
  {
   "cell_type": "code",
   "execution_count": null,
   "metadata": {
    "colab": {
     "base_uri": "https://localhost:8080/"
    },
    "executionInfo": {
     "elapsed": 17,
     "status": "ok",
     "timestamp": 1625247005632,
     "user": {
      "displayName": "neo Kim",
      "photoUrl": "https://lh3.googleusercontent.com/a-/AOh14GgWQvWV5JkiXORXRjJv2qrXP7Wjjt7dwd1NNozs=s64",
      "userId": "11635445716711956826"
     },
     "user_tz": -540
    },
    "id": "gtIXoX05brUH",
    "outputId": "aa3e0fae-024b-4f8e-af50-160da93da8ed"
   },
   "outputs": [],
   "source": [
    "# service 파일 컬럼별 unique values 확인\n",
    "for column in df_service.columns.values.tolist():\n",
    "    print(column)\n",
    "    print(df_service[column].unique())\n",
    "    print(\"\")"
   ]
  },
  {
   "cell_type": "code",
   "execution_count": null,
   "metadata": {
    "colab": {
     "base_uri": "https://localhost:8080/"
    },
    "executionInfo": {
     "elapsed": 4530,
     "status": "ok",
     "timestamp": 1625247010149,
     "user": {
      "displayName": "neo Kim",
      "photoUrl": "https://lh3.googleusercontent.com/a-/AOh14GgWQvWV5JkiXORXRjJv2qrXP7Wjjt7dwd1NNozs=s64",
      "userId": "11635445716711956826"
     },
     "user_tz": -540
    },
    "id": "KvsBfGIfIvCI",
    "outputId": "995024ec-fb6f-4970-895b-6c1e0f53a08d"
   },
   "outputs": [],
   "source": [
    "# bookmark 파일 컬럼별 unique values 확인 \n",
    "for column in df_bookmark.columns.values.tolist():\n",
    "    print(column)\n",
    "    print(df_bookmark[column].unique())\n",
    "    print(\"\")"
   ]
  },
  {
   "cell_type": "markdown",
   "metadata": {
    "id": "qyH9qHwLZ0oV"
   },
   "source": [
    "## **3. EDA (탐색적 데이터 분석)** \n"
   ]
  },
  {
   "cell_type": "markdown",
   "metadata": {
    "id": "X9NkPaLhFFY2"
   },
   "source": [
    "\n",
    "\n",
    "> ### 1) 결측치 등 데이터 전처리 예시"
   ]
  },
  {
   "cell_type": "code",
   "execution_count": null,
   "metadata": {
    "colab": {
     "base_uri": "https://localhost:8080/",
     "height": 483
    },
    "executionInfo": {
     "elapsed": 13,
     "status": "ok",
     "timestamp": 1625247010150,
     "user": {
      "displayName": "neo Kim",
      "photoUrl": "https://lh3.googleusercontent.com/a-/AOh14GgWQvWV5JkiXORXRjJv2qrXP7Wjjt7dwd1NNozs=s64",
      "userId": "11635445716711956826"
     },
     "user_tz": -540
    },
    "id": "EDYOXXJCQI4C",
    "outputId": "ac059de7-a329-4cbb-8150-c60c96ae0367"
   },
   "outputs": [],
   "source": [
    "# 결과 중 결측치 비율을 보고 어느 컬럼을 삭제하고 어느 컬럼을 대체할지를 판단 \n",
    "df_missing = df_service\n",
    "np.sum(df_missing.isnull())\n",
    "missing_number = df_missing.isnull().sum().sort_values(ascending=False)\n",
    "missing_percentage = missing_number/len(df_missing)\n",
    "missing_info = pd.concat([missing_number,missing_percentage],  axis=1, keys=['missing number','missing percentage'])\n",
    "missing_info.head(50)"
   ]
  },
  {
   "cell_type": "code",
   "execution_count": null,
   "metadata": {
    "colab": {
     "base_uri": "https://localhost:8080/"
    },
    "executionInfo": {
     "elapsed": 11,
     "status": "ok",
     "timestamp": 1625247010150,
     "user": {
      "displayName": "neo Kim",
      "photoUrl": "https://lh3.googleusercontent.com/a-/AOh14GgWQvWV5JkiXORXRjJv2qrXP7Wjjt7dwd1NNozs=s64",
      "userId": "11635445716711956826"
     },
     "user_tz": -540
    },
    "id": "CWZYDtsITVvz",
    "outputId": "470b35f2-1908-4dc8-f58f-06e48c2a7592"
   },
   "outputs": [],
   "source": [
    "# gender 값 및 분포 확인\n",
    "print('gender = ', df_service.gender.unique().tolist())\n",
    "df_service.gender.value_counts()"
   ]
  },
  {
   "cell_type": "code",
   "execution_count": null,
   "metadata": {
    "colab": {
     "base_uri": "https://localhost:8080/"
    },
    "executionInfo": {
     "elapsed": 529,
     "status": "ok",
     "timestamp": 1625247010674,
     "user": {
      "displayName": "neo Kim",
      "photoUrl": "https://lh3.googleusercontent.com/a-/AOh14GgWQvWV5JkiXORXRjJv2qrXP7Wjjt7dwd1NNozs=s64",
      "userId": "11635445716711956826"
     },
     "user_tz": -540
    },
    "id": "5Tyk47GZ-CI7",
    "outputId": "4589089f-e8cf-425f-8bf1-99a651f2a821"
   },
   "outputs": [],
   "source": [
    "# gender null 값을 N 으로 변경 후 확인\n",
    "df_service['gender'] = df_service['gender'].fillna('N')\n",
    "print('gender = ', sorted(df_service.gender.unique().tolist()))\n",
    "df_service.gender.value_counts()"
   ]
  },
  {
   "cell_type": "code",
   "execution_count": null,
   "metadata": {
    "colab": {
     "base_uri": "https://localhost:8080/"
    },
    "executionInfo": {
     "elapsed": 24,
     "status": "ok",
     "timestamp": 1625247010675,
     "user": {
      "displayName": "neo Kim",
      "photoUrl": "https://lh3.googleusercontent.com/a-/AOh14GgWQvWV5JkiXORXRjJv2qrXP7Wjjt7dwd1NNozs=s64",
      "userId": "11635445716711956826"
     },
     "user_tz": -540
    },
    "id": "-bxj3m0T-NY7",
    "outputId": "a9b20f4d-aff6-4032-9ffe-8a799f04b3bd"
   },
   "outputs": [],
   "source": [
    "# agegroup 값 및 분포 확인\n",
    "print('agegroup = ', sorted(df_service.agegroup.unique().tolist()))\n",
    "df_service.agegroup.value_counts()"
   ]
  },
  {
   "cell_type": "code",
   "execution_count": null,
   "metadata": {
    "colab": {
     "base_uri": "https://localhost:8080/"
    },
    "executionInfo": {
     "elapsed": 20,
     "status": "ok",
     "timestamp": 1625247010675,
     "user": {
      "displayName": "neo Kim",
      "photoUrl": "https://lh3.googleusercontent.com/a-/AOh14GgWQvWV5JkiXORXRjJv2qrXP7Wjjt7dwd1NNozs=s64",
      "userId": "11635445716711956826"
     },
     "user_tz": -540
    },
    "id": "q0sIhSoCXPXq",
    "outputId": "64131e27-e645-4c04-914d-8ae072a45fca"
   },
   "outputs": [],
   "source": [
    "# agegroup 950 값을 0 으로 변환\n",
    "df_service['agegroup'] = df_service['agegroup'].replace(950, 0)\n",
    "print('agegroup = ', sorted(df_service.agegroup.unique().tolist()))\n",
    "df_service.agegroup.value_counts()"
   ]
  },
  {
   "cell_type": "code",
   "execution_count": null,
   "metadata": {
    "colab": {
     "base_uri": "https://localhost:8080/"
    },
    "executionInfo": {
     "elapsed": 17,
     "status": "ok",
     "timestamp": 1625247010675,
     "user": {
      "displayName": "neo Kim",
      "photoUrl": "https://lh3.googleusercontent.com/a-/AOh14GgWQvWV5JkiXORXRjJv2qrXP7Wjjt7dwd1NNozs=s64",
      "userId": "11635445716711956826"
     },
     "user_tz": -540
    },
    "id": "_4a7UyjCUbHi",
    "outputId": "56278a39-50cd-4104-f855-77c60e68ad03"
   },
   "outputs": [],
   "source": [
    "# pgamount 값 및 분포 확인\n",
    "print('pgamount = ', sorted(df_service.pgamount.unique().tolist()))\n",
    "df_service.pgamount.value_counts()"
   ]
  },
  {
   "cell_type": "code",
   "execution_count": null,
   "metadata": {
    "colab": {
     "base_uri": "https://localhost:8080/"
    },
    "executionInfo": {
     "elapsed": 15,
     "status": "ok",
     "timestamp": 1625247010676,
     "user": {
      "displayName": "neo Kim",
      "photoUrl": "https://lh3.googleusercontent.com/a-/AOh14GgWQvWV5JkiXORXRjJv2qrXP7Wjjt7dwd1NNozs=s64",
      "userId": "11635445716711956826"
     },
     "user_tz": -540
    },
    "id": "Od6dvA60UkI4",
    "outputId": "11a33b99-d000-4615-e2e3-c68e04c99f97"
   },
   "outputs": [],
   "source": [
    "# pgamount 금액 중에 달러로 결제된 것 원화로 변경 (pgamount 100원 미만인 건은 Appstore에서 달러 결제 건임)\n",
    "df_service.loc[(df_service['pgamount'] <  100), 'pgamount'] = df_service['pgamount'] * 1120\n",
    "print('pgamount = ', sorted(df_service.pgamount.unique().tolist()))\n",
    "df_service.pgamount.value_counts()"
   ]
  },
  {
   "cell_type": "code",
   "execution_count": null,
   "metadata": {
    "id": "N5WQN3mDULvE"
   },
   "outputs": [],
   "source": [
    "# 기타 컬럼들의 결측치 처리\n",
    "df_service = df_service.fillna('X')"
   ]
  },
  {
   "cell_type": "markdown",
   "metadata": {
    "id": "yMjnKydFGBfe"
   },
   "source": [
    "> ### 2) 자율 : Feature 생성 및 파생변수 생성은 자율로 추가: 예시 모델 제공  "
   ]
  },
  {
   "cell_type": "code",
   "execution_count": null,
   "metadata": {
    "colab": {
     "base_uri": "https://localhost:8080/"
    },
    "executionInfo": {
     "elapsed": 12,
     "status": "ok",
     "timestamp": 1625247010677,
     "user": {
      "displayName": "neo Kim",
      "photoUrl": "https://lh3.googleusercontent.com/a-/AOh14GgWQvWV5JkiXORXRjJv2qrXP7Wjjt7dwd1NNozs=s64",
      "userId": "11635445716711956826"
     },
     "user_tz": -540
    },
    "id": "kjXsmES8_PZF",
    "outputId": "51c693c6-8e4f-4180-8a63-3f49bc3f2d78"
   },
   "outputs": [],
   "source": [
    "# 해지 예측 대상 서비스 추출\n",
    "# 즉, 예측시점(가입일+3주)에 해지하지 않은 서비스 추출\n",
    "df_svc_target = df_service[df_service.enddate.dt.date > (df_service.registerdate + pd.DateOffset(weeks=3)).dt.date]\n",
    "print('df_svc_target = {0:,}'.format(df_svc_target.shape[0]), 'rows')"
   ]
  },
  {
   "cell_type": "code",
   "execution_count": null,
   "metadata": {
    "colab": {
     "base_uri": "https://localhost:8080/"
    },
    "executionInfo": {
     "elapsed": 13205,
     "status": "ok",
     "timestamp": 1625247023874,
     "user": {
      "displayName": "neo Kim",
      "photoUrl": "https://lh3.googleusercontent.com/a-/AOh14GgWQvWV5JkiXORXRjJv2qrXP7Wjjt7dwd1NNozs=s64",
      "userId": "11635445716711956826"
     },
     "user_tz": -540
    },
    "id": "KiBOa_3EQkI1",
    "outputId": "40f1638a-c09b-4c70-c940-b4f41a299e90"
   },
   "outputs": [],
   "source": [
    "# 변수 생성(Feature Extraction) (예시)\n",
    "#   (1) 고객별 서비스 가입 이력 수\n",
    "#   (2) 고객별 서비스 가입 이력 상품 수\n",
    "#   (3) 고객별 시청 건수 (1시간 단위)\n",
    "#   (4) 고객별 시청 총 시간\n",
    "#   (5) 고객별 시청 평균 시간\n",
    "#   (6) 고객별 시청 채널 수\n",
    "#   (7) 고객별 시청 프로그램 수\n",
    "#   (8) 고객별 시청 디바이스 수\n",
    "\n",
    "# (1) 고객별 서비스 가입 이력 수\n",
    "df_feature_1 = df_service.groupby(by='uno', as_index=False).registerdate.count()\n",
    "df_feature_1.rename(columns={'registerdate':'REG_CNT'}, inplace=True)\n",
    "print('REG_CNT = ', sorted(df_feature_1.REG_CNT.unique().tolist()))\n",
    "#print('REG_CNT = ', df_feature_1.REG_CNT.value_counts())\n",
    "\n",
    "# (2) 고객별 서비스 가입 이력 상품 수\n",
    "df_feature_2 = df_service[['uno','productcode']]\n",
    "df_feature_2 = df_feature_2.drop_duplicates() # 고객별 동일 상품 제거\n",
    "df_feature_2 = df_feature_2.groupby(by='uno', as_index=False).productcode.count()\n",
    "df_feature_2.rename(columns={'productcode':'PRD_CNT'}, inplace=True)\n",
    "print('PRD_CNT = ', sorted(df_feature_2.PRD_CNT.unique().tolist()))\n",
    "#print('PRD_CNT = ', df_feature_2.PRD_CNT.value_counts())\n",
    "\n",
    "# (3) 고객별 시청 건수 (1시간 단위)\n",
    "df_feature_3 = df_bookmark.groupby(by='uno', as_index=False).dates.count()\n",
    "df_feature_3.rename(columns={'dates':'BM_CNT'}, inplace=True)\n",
    "\n",
    "print('BM_CNT = ', sorted(df_feature_3.BM_CNT.unique().tolist()))\n",
    "#print('BM_CNT = ', df_feature_3.BM_CNT.value_counts())\n",
    "\n",
    "# (4) 고객별 시청 총 시간\n",
    "df_feature_4 = df_bookmark.groupby(by='uno', as_index=False).viewtime.sum()\n",
    "df_feature_4.rename(columns={'viewtime':'VT_TOT'}, inplace=True)\n",
    "print('VT_TOT = ', sorted(df_feature_4.VT_TOT.unique().tolist()))\n",
    "#print('VT_TOT = ', df_feature_4.VT_TOT.value_counts())\n",
    "\n",
    "# (5) 고객별 시청 평균 시간\n",
    "df_feature_5 = df_bookmark.groupby(by='uno', as_index=False).viewtime.mean()\n",
    "df_feature_5.rename(columns={'viewtime':'VT_AVG'}, inplace=True)\n",
    "print('VT_AVG = ', sorted(df_feature_5.VT_AVG.unique().tolist()))\n",
    "#print('VT_AVG = ', df_feature_5.VT_AVG.value_counts())\n",
    "\n",
    "# (6) 고객별 시청 채널 수\n",
    "df_feature_6 = df_bookmark[['uno','channeltype']]\n",
    "df_feature_6 = df_feature_6.drop_duplicates() # 고객별 동일 채널 제거\n",
    "df_feature_6 = df_feature_6.groupby(by='uno', as_index=False).channeltype.count()\n",
    "df_feature_6.rename(columns={'channeltype':'CH_CNT'}, inplace=True)\n",
    "print('CH_CNT = ', sorted(df_feature_6.CH_CNT.unique().tolist()))\n",
    "#print('CH_CNT = ', df_feature_6.CH_CNT.value_counts())\n",
    "\n",
    "# (7) 고객별 시청 프로그램 수\n",
    "df_feature_7 = df_bookmark[['uno','programid']]\n",
    "df_feature_7 = df_feature_7.drop_duplicates() # 고객별 동일 프로그램 제거\n",
    "df_feature_7 = df_feature_7.groupby(by='uno', as_index=False).programid.count()\n",
    "df_feature_7.rename(columns={'programid':'PRG_CNT'}, inplace=True)\n",
    "print('PRG_CNT = ', sorted(df_feature_7.PRG_CNT.unique().tolist()))\n",
    "#print('PRG_CNT = ', df_feature_7.PRG_CNT.value_counts())\n",
    "\n",
    "# (8) 고객별 시청 디바이스 수\n",
    "df_feature_8 = df_bookmark[['uno','devicetype']]\n",
    "df_feature_8 = df_feature_8.drop_duplicates() # 고객별 동일 프로그램 제거\n",
    "df_feature_8 = df_feature_8.groupby(by='uno', as_index=False).devicetype.count()\n",
    "df_feature_8.rename(columns={'devicetype':'DEV_CNT'}, inplace=True)\n",
    "print('DEV_CNT = ', sorted(df_feature_8.DEV_CNT.unique().tolist()))\n",
    "#print('DEV_CNT = ', df_feature_8.DEV_CNT.value_counts())"
   ]
  },
  {
   "cell_type": "code",
   "execution_count": null,
   "metadata": {
    "colab": {
     "base_uri": "https://localhost:8080/"
    },
    "executionInfo": {
     "elapsed": 12,
     "status": "ok",
     "timestamp": 1625247023874,
     "user": {
      "displayName": "neo Kim",
      "photoUrl": "https://lh3.googleusercontent.com/a-/AOh14GgWQvWV5JkiXORXRjJv2qrXP7Wjjt7dwd1NNozs=s64",
      "userId": "11635445716711956826"
     },
     "user_tz": -540
    },
    "id": "ZmROkJwo_bib",
    "outputId": "9f6c6628-2c71-4411-ea67-302fe2643839"
   },
   "outputs": [],
   "source": [
    "print('df_feature_1 = ', df_feature_1.shape[0])\n",
    "print('df_feature_2 = ', df_feature_2.shape[0])\n",
    "print('df_feature_3 = ', df_feature_3.shape[0])\n",
    "print('df_feature_4 = ', df_feature_4.shape[0])\n",
    "print('df_feature_5 = ', df_feature_5.shape[0])\n",
    "print('df_feature_6 = ', df_feature_6.shape[0])\n",
    "print('df_feature_7 = ', df_feature_7.shape[0])\n",
    "print('df_feature_8 = ', df_feature_8.shape[0])"
   ]
  },
  {
   "cell_type": "code",
   "execution_count": null,
   "metadata": {
    "id": "BodKNdsAc0a8"
   },
   "outputs": [],
   "source": [
    "# 해지 예측 대상 서비스에 생성한 변수 연결\n",
    "df_svc_target = pd.merge(df_svc_target, df_feature_1, on='uno', how='left')\n",
    "df_svc_target = pd.merge(df_svc_target, df_feature_2, on='uno', how='left')\n",
    "df_svc_target = pd.merge(df_svc_target, df_feature_3, on='uno', how='left')\n",
    "df_svc_target = pd.merge(df_svc_target, df_feature_4, on='uno', how='left')\n",
    "df_svc_target = pd.merge(df_svc_target, df_feature_5, on='uno', how='left')\n",
    "df_svc_target = pd.merge(df_svc_target, df_feature_6, on='uno', how='left')\n",
    "df_svc_target = pd.merge(df_svc_target, df_feature_7, on='uno', how='left')\n",
    "df_svc_target = pd.merge(df_svc_target, df_feature_8, on='uno', how='left')"
   ]
  },
  {
   "cell_type": "code",
   "execution_count": null,
   "metadata": {
    "id": "ZaIiKPFvFM7f"
   },
   "outputs": [],
   "source": [
    "# 추가 생성 컬럼들의 결측치 처리\n",
    "df_svc_target = df_svc_target.fillna(0)\n",
    "df_svc_target = df_svc_target.astype({'BM_CNT':'int', 'VT_TOT':'int', 'CH_CNT':'int', 'PRG_CNT':'int', 'DEV_CNT':'int'})"
   ]
  },
  {
   "cell_type": "code",
   "execution_count": null,
   "metadata": {
    "colab": {
     "base_uri": "https://localhost:8080/",
     "height": 887
    },
    "executionInfo": {
     "elapsed": 9,
     "status": "ok",
     "timestamp": 1625247024510,
     "user": {
      "displayName": "neo Kim",
      "photoUrl": "https://lh3.googleusercontent.com/a-/AOh14GgWQvWV5JkiXORXRjJv2qrXP7Wjjt7dwd1NNozs=s64",
      "userId": "11635445716711956826"
     },
     "user_tz": -540
    },
    "id": "TLIyTi7OYKYS",
    "outputId": "984b40e3-74a5-41fe-c62a-28139bfc29f4"
   },
   "outputs": [],
   "source": [
    "# 최종 분석 대상 데이터\n",
    "df_T = df_svc_target.copy()\n",
    "df_T.info()\n",
    "df_T.sample(5)"
   ]
  },
  {
   "cell_type": "markdown",
   "metadata": {
    "id": "araA9spqnLhv"
   },
   "source": [
    "> ### 4) 상관관계/분포도 확인 "
   ]
  },
  {
   "cell_type": "code",
   "execution_count": null,
   "metadata": {
    "colab": {
     "base_uri": "https://localhost:8080/",
     "height": 632
    },
    "executionInfo": {
     "elapsed": 273,
     "status": "ok",
     "timestamp": 1625247024777,
     "user": {
      "displayName": "neo Kim",
      "photoUrl": "https://lh3.googleusercontent.com/a-/AOh14GgWQvWV5JkiXORXRjJv2qrXP7Wjjt7dwd1NNozs=s64",
      "userId": "11635445716711956826"
     },
     "user_tz": -540
    },
    "id": "N5tGgofHa0T6",
    "outputId": "af352897-53e5-4f28-a970-6d9c63deaab2"
   },
   "outputs": [],
   "source": [
    "# Encoding categorical variables to numeric ones\n",
    "\n",
    "# Label 컬럼은 직접 변환\n",
    "print('Repurchase = ', df_T.Repurchase.unique().tolist())\n",
    "print(df_T.Repurchase.value_counts())\n",
    "df_T['CHURN'] = np.where(df_T.Repurchase == 'X', 1, 0)   # 재결제('O') -> Churn Negative(0), 미결제('X') -> Churn Positive(1)\n",
    "print('CHURN = ', df_T.CHURN.unique().tolist())\n",
    "print(df_T.CHURN.value_counts())\n",
    "\n",
    "# 이외 컬럼들은 일괄 자동 변환\n",
    "col_lst = df_T.columns.values.tolist()\n",
    "col_lst.remove('uno')\n",
    "col_lst.remove('productcode')\n",
    "for c in col_lst:\n",
    "    if df_T[c].dtype == 'object':\n",
    "        print(c)\n",
    "        lbl = LabelEncoder()\n",
    "        lbl.fit(list(df_T[c].values))\n",
    "        df_T[c] = lbl.transform(df_T[c].values)\n",
    "df_T.sample(5)"
   ]
  },
  {
   "cell_type": "code",
   "execution_count": null,
   "metadata": {
    "colab": {
     "base_uri": "https://localhost:8080/",
     "height": 317
    },
    "executionInfo": {
     "elapsed": 7,
     "status": "ok",
     "timestamp": 1625247024778,
     "user": {
      "displayName": "neo Kim",
      "photoUrl": "https://lh3.googleusercontent.com/a-/AOh14GgWQvWV5JkiXORXRjJv2qrXP7Wjjt7dwd1NNozs=s64",
      "userId": "11635445716711956826"
     },
     "user_tz": -540
    },
    "id": "u_tS55vJaN7d",
    "outputId": "ecc25fa2-2ea2-4d4f-e04f-c7cbb221eda7"
   },
   "outputs": [],
   "source": [
    "# 기술 통계 현황 확인\n",
    "df_T.describe()"
   ]
  },
  {
   "cell_type": "code",
   "execution_count": null,
   "metadata": {
    "colab": {
     "base_uri": "https://localhost:8080/",
     "height": 715
    },
    "executionInfo": {
     "elapsed": 2463,
     "status": "ok",
     "timestamp": 1625247027235,
     "user": {
      "displayName": "neo Kim",
      "photoUrl": "https://lh3.googleusercontent.com/a-/AOh14GgWQvWV5JkiXORXRjJv2qrXP7Wjjt7dwd1NNozs=s64",
      "userId": "11635445716711956826"
     },
     "user_tz": -540
    },
    "id": "RTtqtleCnUZ6",
    "outputId": "65b3069e-3d70-4264-d4d9-79758480c0fe"
   },
   "outputs": [],
   "source": [
    "# Basic correlation plot to understand which features are correlated\n",
    "import matplotlib.pyplot as plt\n",
    "import seaborn as sns\n",
    "\n",
    "%matplotlib inline\n",
    "\n",
    "plt.figure(figsize=(18,10))\n",
    "sns.heatmap(df_T.corr(), annot=True)   "
   ]
  },
  {
   "cell_type": "code",
   "execution_count": null,
   "metadata": {
    "colab": {
     "base_uri": "https://localhost:8080/",
     "height": 934
    },
    "executionInfo": {
     "elapsed": 2594,
     "status": "ok",
     "timestamp": 1625247029825,
     "user": {
      "displayName": "neo Kim",
      "photoUrl": "https://lh3.googleusercontent.com/a-/AOh14GgWQvWV5JkiXORXRjJv2qrXP7Wjjt7dwd1NNozs=s64",
      "userId": "11635445716711956826"
     },
     "user_tz": -540
    },
    "id": "2zhnder4nbSF",
    "outputId": "82d60a81-f37f-4fae-8faa-39475ac20386"
   },
   "outputs": [],
   "source": [
    "# This also helps in finding number of counts in each column\n",
    "df_T.hist(figsize=(20,16))\n",
    "plt.show()  # showing the charts of different columns"
   ]
  },
  {
   "cell_type": "markdown",
   "metadata": {
    "id": "aJG3H-80BtFI"
   },
   "source": [
    "## **4. 모델 훈련**"
   ]
  },
  {
   "cell_type": "markdown",
   "metadata": {
    "id": "FWNed8V7uHyb"
   },
   "source": [
    "> ### 1) Train/Test 데이터 설정 "
   ]
  },
  {
   "cell_type": "code",
   "execution_count": null,
   "metadata": {
    "id": "c6yMZAFFdBd9"
   },
   "outputs": [],
   "source": [
    "# 베이스라인 모델에서는 특정 월정액만 기준으로 진행 \n",
    "# 실제 경연에서는 전체 월정액 대상\n",
    "#df_T['productcode'].value_counts()\n",
    "#df_T = df_T.loc[(df_T['productcode'] == 55)] # productcode = pk_1489"
   ]
  },
  {
   "cell_type": "code",
   "execution_count": null,
   "metadata": {
    "id": "9ATDi3HqFWF0"
   },
   "outputs": [],
   "source": [
    "# Train/Test 데이터 분리 \n",
    "X = df_T.drop([\"uno\",\"registerdate\",\"enddate\",\"productcode\",\"Repurchase\",\"CHURN\"], axis=1)\n",
    "#X = df_T.drop([\"registerdate\",\"enddate\",\"productcode\",\"Repurchase\",\"CHURN\"], axis=1)\n",
    "y = df_T[\"CHURN\"]\n",
    "\n",
    "X_train, X_test, y_train, y_test = train_test_split(X, y, test_size = 0.2, random_state = 111)"
   ]
  },
  {
   "cell_type": "code",
   "execution_count": null,
   "metadata": {
    "colab": {
     "base_uri": "https://localhost:8080/"
    },
    "executionInfo": {
     "elapsed": 18,
     "status": "ok",
     "timestamp": 1625247029827,
     "user": {
      "displayName": "neo Kim",
      "photoUrl": "https://lh3.googleusercontent.com/a-/AOh14GgWQvWV5JkiXORXRjJv2qrXP7Wjjt7dwd1NNozs=s64",
      "userId": "11635445716711956826"
     },
     "user_tz": -540
    },
    "id": "JHPMpyfdptxv",
    "outputId": "e95bda95-af20-49d4-8472-94ded75d5c20"
   },
   "outputs": [],
   "source": [
    "print('Traing X     = ', len(X_train), ', Training Y   = ', len(y_train))\n",
    "print('Validation X = ', len(X_test),  ', Validation Y = ', len(y_test))"
   ]
  },
  {
   "cell_type": "markdown",
   "metadata": {
    "id": "78MZTHs0uwwt"
   },
   "source": [
    "> ### 2) 모델 생성 "
   ]
  },
  {
   "cell_type": "code",
   "execution_count": null,
   "metadata": {
    "colab": {
     "base_uri": "https://localhost:8080/"
    },
    "executionInfo": {
     "elapsed": 3309,
     "status": "ok",
     "timestamp": 1625247033121,
     "user": {
      "displayName": "neo Kim",
      "photoUrl": "https://lh3.googleusercontent.com/a-/AOh14GgWQvWV5JkiXORXRjJv2qrXP7Wjjt7dwd1NNozs=s64",
      "userId": "11635445716711956826"
     },
     "user_tz": -540
    },
    "id": "DScJwUOYYc6E",
    "outputId": "b8ff788e-3860-4d97-9922-1efe5266d12f"
   },
   "outputs": [],
   "source": [
    "###\n",
    "###        모델 학습 시 검증(평가) 지표 설정\n",
    "###           ㅇ 본 경연의 평가 지표\n",
    "###              - 1 순위 : F1\n",
    "###              - 2 순위 : Accuracy\n",
    "###\n",
    "\n",
    "from sklearn.model_selection import RandomizedSearchCV, GridSearchCV\n",
    "from xgboost import XGBClassifier\n",
    "\n",
    "#got the best parameters above\n",
    "xgb = XGBClassifier(learning_rate = 0.3, max_depth = 3, n_estimators = 100,\n",
    "                    eval_metric = 'aucpr', \n",
    "                    use_label_encoder=False, \n",
    "                    objective = 'binary:logistic', random_state = 1)\n",
    "xgb.fit(X_train, y_train)"
   ]
  },
  {
   "cell_type": "markdown",
   "metadata": {
    "id": "14Y-O40gu4oN"
   },
   "source": [
    "> ### 3) 학습 모델 예측력 검증"
   ]
  },
  {
   "cell_type": "code",
   "execution_count": null,
   "metadata": {
    "colab": {
     "base_uri": "https://localhost:8080/"
    },
    "executionInfo": {
     "elapsed": 12,
     "status": "ok",
     "timestamp": 1625247033122,
     "user": {
      "displayName": "neo Kim",
      "photoUrl": "https://lh3.googleusercontent.com/a-/AOh14GgWQvWV5JkiXORXRjJv2qrXP7Wjjt7dwd1NNozs=s64",
      "userId": "11635445716711956826"
     },
     "user_tz": -540
    },
    "id": "qpa9sqJcYhkO",
    "outputId": "d8ebc8a0-bb89-4151-9265-c662fedaf16d"
   },
   "outputs": [],
   "source": [
    "y_pred = xgb.predict(X_test)\n",
    "\n",
    "# printing the classification report\n",
    "from sklearn.metrics import classification_report\n",
    "print(classification_report(y_test, y_pred))"
   ]
  },
  {
   "cell_type": "markdown",
   "metadata": {
    "id": "RL5EgGNBu9x7"
   },
   "source": [
    "> ### 4) 학습 모델 평가(Validation) "
   ]
  },
  {
   "cell_type": "markdown",
   "metadata": {
    "id": "14mID44au34B"
   },
   "source": []
  },
  {
   "cell_type": "code",
   "execution_count": null,
   "metadata": {
    "colab": {
     "base_uri": "https://localhost:8080/"
    },
    "executionInfo": {
     "elapsed": 8,
     "status": "ok",
     "timestamp": 1625247033122,
     "user": {
      "displayName": "neo Kim",
      "photoUrl": "https://lh3.googleusercontent.com/a-/AOh14GgWQvWV5JkiXORXRjJv2qrXP7Wjjt7dwd1NNozs=s64",
      "userId": "11635445716711956826"
     },
     "user_tz": -540
    },
    "id": "5Wqe3yrXYxD6",
    "outputId": "344ace0e-1b0c-437c-9ed8-1096c227f261"
   },
   "outputs": [],
   "source": [
    "# confusion matrics to find precision and recall\n",
    "from sklearn.metrics import confusion_matrix\n",
    "confusion_matrix(y_test, y_pred)"
   ]
  },
  {
   "cell_type": "markdown",
   "metadata": {
    "id": "HCwN1unUu9Vw"
   },
   "source": []
  },
  {
   "cell_type": "code",
   "execution_count": null,
   "metadata": {
    "colab": {
     "base_uri": "https://localhost:8080/"
    },
    "executionInfo": {
     "elapsed": 7,
     "status": "ok",
     "timestamp": 1625247033123,
     "user": {
      "displayName": "neo Kim",
      "photoUrl": "https://lh3.googleusercontent.com/a-/AOh14GgWQvWV5JkiXORXRjJv2qrXP7Wjjt7dwd1NNozs=s64",
      "userId": "11635445716711956826"
     },
     "user_tz": -540
    },
    "id": "h7qwyhmcYxHa",
    "outputId": "0d6a414f-f268-4bed-de30-dbf58a052c8a"
   },
   "outputs": [],
   "source": [
    "###       예측 주제 관련 평가 지표 사용\n",
    "###           ㅇ 예측 주제\n",
    "###              - 이탈 즉, 2개월차 제결제하지 않음\n",
    "###           ㅇ 이탈 여부 코딩\n",
    "###              - 이탈 : 1 (= 재결제하지 않음)\n",
    "###              - 유지 : 0 (= 재결제함)\n",
    "###           ㅇ 평가 지표\n",
    "###              - 이탈(1)에 대한 평가 지표로 Leaderboard 순위 부여\n",
    "\n",
    "import sklearn.metrics as metrics\n",
    "\n",
    "print('accuracy', metrics.accuracy_score(y_test,y_pred) )\n",
    "print('precision', metrics.precision_score(y_test,y_pred) )\n",
    "print('recall', metrics.recall_score(y_test,y_pred) )\n",
    "print('f1', metrics.f1_score(y_test,y_pred) )\n",
    "print(metrics.classification_report(y_test,y_pred))\n",
    "print(metrics.confusion_matrix(y_test,y_pred))"
   ]
  },
  {
   "cell_type": "markdown",
   "metadata": {
    "id": "X7K4J59AvUgG"
   },
   "source": [
    "## **5. 예측 결과 파일 제출**"
   ]
  },
  {
   "cell_type": "code",
   "execution_count": null,
   "metadata": {
    "colab": {
     "base_uri": "https://localhost:8080/"
    },
    "executionInfo": {
     "elapsed": 631,
     "status": "ok",
     "timestamp": 1625247033750,
     "user": {
      "displayName": "neo Kim",
      "photoUrl": "https://lh3.googleusercontent.com/a-/AOh14GgWQvWV5JkiXORXRjJv2qrXP7Wjjt7dwd1NNozs=s64",
      "userId": "11635445716711956826"
     },
     "user_tz": -540
    },
    "id": "roYyfNoyW7hS",
    "outputId": "004bd53f-213d-4576-ed33-c7cdb14ece7b"
   },
   "outputs": [],
   "source": [
    "# Predict Input 파일 읽기 - 서비스 파일\n",
    "ds_P_service = \"predict_service.csv\"\n",
    "df_P_service = pd.read_csv(ds_P_service, parse_dates=['registerdate','enddate'], infer_datetime_format=True)\n",
    "\n",
    "df_P_service.info()\n",
    "#df_P_service.sample(5)"
   ]
  },
  {
   "cell_type": "code",
   "execution_count": null,
   "metadata": {
    "colab": {
     "base_uri": "https://localhost:8080/"
    },
    "executionInfo": {
     "elapsed": 6782,
     "status": "ok",
     "timestamp": 1625247040530,
     "user": {
      "displayName": "neo Kim",
      "photoUrl": "https://lh3.googleusercontent.com/a-/AOh14GgWQvWV5JkiXORXRjJv2qrXP7Wjjt7dwd1NNozs=s64",
      "userId": "11635445716711956826"
     },
     "user_tz": -540
    },
    "id": "eY0S8kYomDc6",
    "outputId": "6a2b9dfd-6077-4980-b8da-666adb1de959"
   },
   "outputs": [],
   "source": [
    "# Predict Input 파일 읽기 - 북마크 파일\n",
    "ds_P_bookmark = \"predict_bookmark.csv\"\n",
    "df_P_bookmark = pd.read_csv(ds_P_bookmark, parse_dates=['dates'], infer_datetime_format=True)\n",
    "\n",
    "df_P_bookmark.info()\n",
    "#df_pbook.sample(5)"
   ]
  },
  {
   "cell_type": "markdown",
   "metadata": {
    "id": "nhG_lK27oTYN"
   },
   "source": [
    "**학습 데이터 전처리 기준 동일 적용**"
   ]
  },
  {
   "cell_type": "code",
   "execution_count": null,
   "metadata": {
    "colab": {
     "base_uri": "https://localhost:8080/"
    },
    "executionInfo": {
     "elapsed": 3631,
     "status": "ok",
     "timestamp": 1625247044149,
     "user": {
      "displayName": "neo Kim",
      "photoUrl": "https://lh3.googleusercontent.com/a-/AOh14GgWQvWV5JkiXORXRjJv2qrXP7Wjjt7dwd1NNozs=s64",
      "userId": "11635445716711956826"
     },
     "user_tz": -540
    },
    "id": "lXZmuas2tiBY",
    "outputId": "0f2f0928-9a19-4b61-a5b5-e205e2ae4efd"
   },
   "outputs": [],
   "source": [
    "# gender null 값을 N 으로 변경 후 확인\n",
    "df_P_service['gender'] = df_P_service['gender'].fillna('N')\n",
    "\n",
    "# agegroup 950 값을 0 으로 변환\n",
    "df_P_service['agegroup'] = df_P_service['agegroup'].replace(950, 0)\n",
    "\n",
    "# pgamount 금액 중에 달러로 결제된 것 원화로 변경 (pgamount 100원 미만인 건은 Appstore에서 달러 결제 건임)\n",
    "df_P_service.loc[(df_P_service['pgamount'] <  100), 'pgamount'] = df_P_service['pgamount'] * 1120\n",
    "\n",
    "# 기타 컬럼들의 결측치 처리\n",
    "df_P_service = df_P_service.fillna('X')\n",
    "\n",
    "# 해지 예측 대상 서비스 추출\n",
    "# 즉, 예측시점(가입일+3주)에 해지하지 않은 서비스 추출\n",
    "df_P_svc_target = df_P_service[df_P_service.enddate >= df_P_service.registerdate + pd.DateOffset(weeks=3)]\n",
    "\n",
    "# 변수 생성(Feature Extraction) (예시)\n",
    "# (1) 고객별 서비스 가입 이력 수\n",
    "df_P_feature_1 = df_P_service.groupby(by='uno', as_index=False).registerdate.count()\n",
    "df_P_feature_1.rename(columns={'registerdate':'REG_CNT'}, inplace=True)\n",
    "\n",
    "# (2) 고객별 서비스 가입 이력 상품 수\n",
    "df_P_feature_2 = df_P_service[['uno','productcode']]\n",
    "df_P_feature_2 = df_P_feature_2.drop_duplicates() # 고객별 동일 상품 제거\n",
    "df_P_feature_2 = df_P_feature_2.groupby(by='uno', as_index=False).productcode.count()\n",
    "df_P_feature_2.rename(columns={'productcode':'PRD_CNT'}, inplace=True)\n",
    "\n",
    "# (3) 고객별 시청 건수 (1시간 단위)\n",
    "df_P_feature_3 = df_P_bookmark.groupby(by='uno', as_index=False).dates.count()\n",
    "df_P_feature_3.rename(columns={'dates':'BM_CNT'}, inplace=True)\n",
    "\n",
    "# (4) 고객별 시청 총 시간\n",
    "df_P_feature_4 = df_P_bookmark.groupby(by='uno', as_index=False).viewtime.sum()\n",
    "df_P_feature_4.rename(columns={'viewtime':'VT_TOT'}, inplace=True)\n",
    "\n",
    "# (5) 고객별 시청 평균 시간\n",
    "df_P_feature_5 = df_P_bookmark.groupby(by='uno', as_index=False).viewtime.mean()\n",
    "df_P_feature_5.rename(columns={'viewtime':'VT_AVG'}, inplace=True)\n",
    "\n",
    "# (6) 고객별 시청 채널 수\n",
    "df_P_feature_6 = df_P_bookmark[['uno','channeltype']]\n",
    "df_P_feature_6 = df_P_feature_6.drop_duplicates() # 고객별 동일 채널 제거\n",
    "df_P_feature_6 = df_P_feature_6.groupby(by='uno', as_index=False).channeltype.count()\n",
    "df_P_feature_6.rename(columns={'channeltype':'CH_CNT'}, inplace=True)\n",
    "\n",
    "# (7) 고객별 시청 프로그램 수\n",
    "df_P_feature_7 = df_P_bookmark[['uno','programid']]\n",
    "df_P_feature_7 = df_P_feature_7.drop_duplicates() # 고객별 동일 프로그램 제거\n",
    "df_P_feature_7 = df_P_feature_7.groupby(by='uno', as_index=False).programid.count()\n",
    "df_P_feature_7.rename(columns={'programid':'PRG_CNT'}, inplace=True)\n",
    "\n",
    "# (8) 고객별 시청 디바이스 수\n",
    "df_P_feature_8 = df_P_bookmark[['uno','devicetype']]\n",
    "df_P_feature_8 = df_P_feature_8.drop_duplicates() # 고객별 동일 프로그램 제거\n",
    "df_P_feature_8 = df_P_feature_8.groupby(by='uno', as_index=False).devicetype.count()\n",
    "df_P_feature_8.rename(columns={'devicetype':'DEV_CNT'}, inplace=True)\n",
    "\n",
    "# 해지 예측 대상 서비스에 생성한 변수 연결\n",
    "df_P_svc_target = pd.merge(df_P_svc_target, df_P_feature_1, on='uno', how='left')\n",
    "df_P_svc_target = pd.merge(df_P_svc_target, df_P_feature_2, on='uno', how='left')\n",
    "df_P_svc_target = pd.merge(df_P_svc_target, df_P_feature_3, on='uno', how='left')\n",
    "df_P_svc_target = pd.merge(df_P_svc_target, df_P_feature_4, on='uno', how='left')\n",
    "df_P_svc_target = pd.merge(df_P_svc_target, df_P_feature_5, on='uno', how='left')\n",
    "df_P_svc_target = pd.merge(df_P_svc_target, df_P_feature_6, on='uno', how='left')\n",
    "df_P_svc_target = pd.merge(df_P_svc_target, df_P_feature_7, on='uno', how='left')\n",
    "df_P_svc_target = pd.merge(df_P_svc_target, df_P_feature_8, on='uno', how='left')\n",
    "\n",
    "# 추가 생성 컬럼들의 결측치 처리\n",
    "df_svc_target = df_svc_target.fillna(0)\n",
    "df_svc_target = df_svc_target.astype({'BM_CNT':'int', 'VT_TOT':'int', 'CH_CNT':'int', 'PRG_CNT':'int', 'DEV_CNT':'int'})\n",
    "\n",
    "df_P_svc_target.info()"
   ]
  },
  {
   "cell_type": "code",
   "execution_count": null,
   "metadata": {
    "colab": {
     "base_uri": "https://localhost:8080/"
    },
    "executionInfo": {
     "elapsed": 22,
     "status": "ok",
     "timestamp": 1625247044150,
     "user": {
      "displayName": "neo Kim",
      "photoUrl": "https://lh3.googleusercontent.com/a-/AOh14GgWQvWV5JkiXORXRjJv2qrXP7Wjjt7dwd1NNozs=s64",
      "userId": "11635445716711956826"
     },
     "user_tz": -540
    },
    "id": "0U1gUXzQ36ey",
    "outputId": "b6bc9f1b-3cf6-40b3-a262-b12c4b5462c0"
   },
   "outputs": [],
   "source": [
    "# 최종 분석 대상 데이터\n",
    "df_P = df_P_svc_target.copy()\n",
    "\n",
    "# Encoding categorical variables to numeric ones\n",
    "col_lst = df_P.columns.values.tolist()\n",
    "col_lst.remove('uno')\n",
    "col_lst.remove('productcode')\n",
    "for c in col_lst:\n",
    "    if df_P[c].dtype == 'object':\n",
    "        lbl = LabelEncoder()\n",
    "        lbl.fit(list(df_P[c].values))\n",
    "        df_P[c] = lbl.transform(df_P[c].values)\n",
    "\n",
    "df_P.info()"
   ]
  },
  {
   "cell_type": "code",
   "execution_count": null,
   "metadata": {
    "id": "d3MmbmKctiPi"
   },
   "outputs": [],
   "source": [
    "# 예측 모델 입력을 위한 최종 데이터\n",
    "X_predict = df_P.drop([\"uno\",\"registerdate\",\"enddate\",\"productcode\",\"Repurchase\"], axis=1)"
   ]
  },
  {
   "cell_type": "markdown",
   "metadata": {
    "id": "LTopcKTd48_U"
   },
   "source": [
    "**예측 모델에 의핸 해지 예측**"
   ]
  },
  {
   "cell_type": "code",
   "execution_count": null,
   "metadata": {
    "id": "eRmGs-KIw_Pw"
   },
   "outputs": [],
   "source": [
    "# 예측 모델에 최종 데이터 입력\n",
    "y_pred = xgb.predict(X_predict)"
   ]
  },
  {
   "cell_type": "code",
   "execution_count": null,
   "metadata": {
    "colab": {
     "base_uri": "https://localhost:8080/"
    },
    "executionInfo": {
     "elapsed": 18,
     "status": "ok",
     "timestamp": 1625247044151,
     "user": {
      "displayName": "neo Kim",
      "photoUrl": "https://lh3.googleusercontent.com/a-/AOh14GgWQvWV5JkiXORXRjJv2qrXP7Wjjt7dwd1NNozs=s64",
      "userId": "11635445716711956826"
     },
     "user_tz": -540
    },
    "id": "_OeRuIIQtibY",
    "outputId": "d1826fa0-7f78-4d0c-9792-1643dcdd5c47"
   },
   "outputs": [],
   "source": [
    "# 데이터 건수 확인\n",
    "print('예측 대상 건수 = ', len(X_predict), ', 예측 결과 건수 = ', len(y_pred))"
   ]
  },
  {
   "cell_type": "markdown",
   "metadata": {
    "id": "xkcxWZNG5GLx"
   },
   "source": [
    "**예측 결과 답안지 제출**"
   ]
  },
  {
   "cell_type": "code",
   "execution_count": 2,
   "metadata": {
    "colab": {
     "base_uri": "https://localhost:8080/"
    },
    "executionInfo": {
     "elapsed": 605,
     "status": "ok",
     "timestamp": 1625247044742,
     "user": {
      "displayName": "neo Kim",
      "photoUrl": "https://lh3.googleusercontent.com/a-/AOh14GgWQvWV5JkiXORXRjJv2qrXP7Wjjt7dwd1NNozs=s64",
      "userId": "11635445716711956826"
     },
     "user_tz": -540
    },
    "id": "i5QT0-ZTG6TD",
    "outputId": "8beb9942-0170-47d8-c46e-ce4aec357dee"
   },
   "outputs": [
    {
     "ename": "NameError",
     "evalue": "name 'pd' is not defined",
     "output_type": "error",
     "traceback": [
      "\u001b[1;31m---------------------------------------------------------------------------\u001b[0m",
      "\u001b[1;31mNameError\u001b[0m                                 Traceback (most recent call last)",
      "\u001b[1;32m<ipython-input-2-bc998e4607ae>\u001b[0m in \u001b[0;36m<module>\u001b[1;34m\u001b[0m\n\u001b[0;32m      1\u001b[0m \u001b[1;31m# 결과 제출 답안지 불러오기\u001b[0m\u001b[1;33m\u001b[0m\u001b[1;33m\u001b[0m\u001b[1;33m\u001b[0m\u001b[0m\n\u001b[0;32m      2\u001b[0m \u001b[0mds_sheet\u001b[0m \u001b[1;33m=\u001b[0m \u001b[1;34m\"CDS_submission.csv\"\u001b[0m\u001b[1;33m\u001b[0m\u001b[1;33m\u001b[0m\u001b[0m\n\u001b[1;32m----> 3\u001b[1;33m \u001b[0mdf_sheet\u001b[0m \u001b[1;33m=\u001b[0m \u001b[0mpd\u001b[0m\u001b[1;33m.\u001b[0m\u001b[0mread_csv\u001b[0m\u001b[1;33m(\u001b[0m\u001b[0mds_sheet\u001b[0m\u001b[1;33m)\u001b[0m\u001b[1;33m\u001b[0m\u001b[1;33m\u001b[0m\u001b[0m\n\u001b[0m\u001b[0;32m      4\u001b[0m \u001b[0mdf_sheet\u001b[0m\u001b[1;33m.\u001b[0m\u001b[0mdrop\u001b[0m\u001b[1;33m(\u001b[0m\u001b[1;34m'CHURN'\u001b[0m\u001b[1;33m,\u001b[0m \u001b[0maxis\u001b[0m\u001b[1;33m=\u001b[0m\u001b[1;36m1\u001b[0m\u001b[1;33m,\u001b[0m \u001b[0minplace\u001b[0m\u001b[1;33m=\u001b[0m\u001b[1;32mTrue\u001b[0m\u001b[1;33m)\u001b[0m\u001b[1;33m\u001b[0m\u001b[1;33m\u001b[0m\u001b[0m\n\u001b[0;32m      5\u001b[0m \u001b[0mdf_sheet\u001b[0m\u001b[1;33m.\u001b[0m\u001b[0minfo\u001b[0m\u001b[1;33m(\u001b[0m\u001b[1;33m)\u001b[0m\u001b[1;33m\u001b[0m\u001b[1;33m\u001b[0m\u001b[0m\n",
      "\u001b[1;31mNameError\u001b[0m: name 'pd' is not defined"
     ]
    }
   ],
   "source": [
    "# 결과 제출 답안지 불러오기\n",
    "ds_sheet = \"CDS_submission.csv\"\n",
    "df_sheet = pd.read_csv(ds_sheet)\n",
    "df_sheet.drop('CHURN', axis=1, inplace=True)\n",
    "df_sheet.info()\n",
    "\n",
    "# 답안지에 답안 표기\n",
    "df_result = df_P.loc[:,('uno','registerdate','productcode')]\n",
    "df_result['KEY']   = df_result['uno'] + '|' + df_result['registerdate'].dt.strftime('%y-%m-%d %I:%M:%S') + '|' + df_result['productcode']   # 판다스 strftime()\n",
    "df_result['CHURN'] = pd.DataFrame(y_pred)\n",
    "df_result = df_result.loc[:,('KEY','CHURN')]\n",
    "df_answer_sheet = pd.merge(df_sheet, df_result, on='KEY', how='left')\n",
    "df_answer_sheet.info()"
   ]
  },
  {
   "cell_type": "code",
   "execution_count": null,
   "metadata": {
    "id": "dKrgb48Fyt2r"
   },
   "outputs": [],
   "source": [
    "# 답안지 제출 파일 생성하기\n",
    "ds_answer_sheet = \"CDS_submission_팀명_차수.csv\"\n",
    "df_answer_sheet.to_csv(ds_answer_sheet, index=False, encoding='utf8')"
   ]
  },
  {
   "cell_type": "markdown",
   "metadata": {
    "id": "rEZ9Gsl0ZI6_"
   },
   "source": [
    "# End"
   ]
  }
 ],
 "metadata": {
  "accelerator": "TPU",
  "colab": {
   "collapsed_sections": [],
   "machine_shape": "hm",
   "name": "CDS리그_베이스라인모델.ipynb",
   "provenance": [
    {
     "file_id": "1QaSBDucgtFMvGXL0CNNVi1vKcHvJ0oqo",
     "timestamp": 1624876634252
    }
   ]
  },
  "kernelspec": {
   "display_name": "Python 3",
   "language": "python",
   "name": "python3"
  },
  "language_info": {
   "codemirror_mode": {
    "name": "ipython",
    "version": 3
   },
   "file_extension": ".py",
   "mimetype": "text/x-python",
   "name": "python",
   "nbconvert_exporter": "python",
   "pygments_lexer": "ipython3",
   "version": "3.8.3"
  }
 },
 "nbformat": 4,
 "nbformat_minor": 1
}
